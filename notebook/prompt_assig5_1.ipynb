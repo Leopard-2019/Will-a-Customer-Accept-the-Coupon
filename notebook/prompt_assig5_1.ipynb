{
 "cells": [
  {
   "cell_type": "markdown",
   "metadata": {},
   "source": [
    "### Will a Customer Accept the Coupon?\n",
    "\n",
    "**Overview**\n",
    "\n",
    "The goal of this project is to use what you know about visualizations and probability distributions to distinguish between customers who accepted a driving coupon versus those that did not.\n",
    "\n",
    "**Data**\n",
    "\n",
    "\n",
    "This data comes to us from the UCI Machine Learning repository and was collected via a survey on Amazon Mechanical Turk. The survey describes different driving scenarios including the destination, current time, weather, passenger, etc., and then ask the person whether he will accept the coupon if he is the driver. Answers that the user will drive there ‘right away’ or ‘later before the coupon expires’ are labeled as ‘Y = 1’ and answers ‘no, I do not want the coupon’ are labeled as ‘Y = 0’.  There are five different types of coupons -- less expensive restaurants (under \\\\$20), coffee houses, carry out & take away, bar, and more expensive restaurants (\\\\$20 - \\\\$50). "
   ]
  },
  {
   "cell_type": "markdown",
   "metadata": {},
   "source": [
    "**Deliverables**\n",
    "\n",
    "Your final product should be a brief report that highlights the differences between customers who did and did not accept the coupons.  To explore the data you will utilize your knowledge of plotting, statistical summaries, and visualization using Python. You will publish your findings in a public facing github repository as your first portfolio piece. \n",
    "\n",
    "\n",
    "\n"
   ]
  },
  {
   "cell_type": "markdown",
   "metadata": {},
   "source": [
    "### Data Description\n",
    "\n",
    "The attributes of this data set include:\n",
    "1. User attributes\n",
    "    -  Gender: male, female\n",
    "    -  Age: below 21, 21 to 25, 26 to 30, etc.\n",
    "    -  Marital Status: single, married partner, unmarried partner, or widowed\n",
    "    -  Number of children: 0, 1, or more than 1\n",
    "    -  Education: high school, bachelors degree, associates degree, or graduate degree\n",
    "    -  Occupation: architecture & engineering, business & financial, etc.\n",
    "    -  Annual income: less than \\\\$12500, \\\\$12500 - \\\\$24999, \\\\$25000 - \\\\$37499, etc.\n",
    "    -  Number of times that he/she goes to a bar: 0, less than 1, 1 to 3, 4 to 8 or greater than 8\n",
    "    -  Number of times that he/she buys takeaway food: 0, less than 1, 1 to 3, 4 to 8 or greater\n",
    "    than 8\n",
    "    -  Number of times that he/she goes to a coffee house: 0, less than 1, 1 to 3, 4 to 8 or\n",
    "    greater than 8\n",
    "    -  Number of times that he/she eats at a restaurant with average expense less than \\\\$20 per\n",
    "    person: 0, less than 1, 1 to 3, 4 to 8 or greater than 8\n",
    "    -  Number of times that he/she goes to a bar: 0, less than 1, 1 to 3, 4 to 8 or greater than 8\n",
    "\n",
    "2. Contextual attributes\n",
    "    - Driving destination: home, work, or no urgent destination\n",
    "    - Location of user, coupon and destination: we provide a map to show the geographical\n",
    "    location of the user, destination, and the venue, and we mark the distance between each\n",
    "    two places with time of driving. The user can see whether the venue is in the same\n",
    "    direction as the destination.\n",
    "    - Weather: sunny, rainy, or snowy\n",
    "    - Temperature: 30F, 55F, or 80F\n",
    "    - Time: 10AM, 2PM, or 6PM\n",
    "    - Passenger: alone, partner, kid(s), or friend(s)\n",
    "\n",
    "3. Coupon attributes\n",
    "    - time before it expires: 2 hours or one day"
   ]
  },
  {
   "cell_type": "code",
   "execution_count": 1097,
   "metadata": {},
   "outputs": [],
   "source": [
    "import matplotlib.pyplot as plt\n",
    "import seaborn as sns\n",
    "import pandas as pd\n",
    "import numpy as np"
   ]
  },
  {
   "cell_type": "markdown",
   "metadata": {},
   "source": [
    "### Problems\n",
    "\n",
    "Use the prompts below to get started with your data analysis.  \n",
    "\n",
    "1. Read in the `coupons.csv` file.\n",
    "\n",
    "\n"
   ]
  },
  {
   "cell_type": "code",
   "execution_count": 1098,
   "metadata": {},
   "outputs": [],
   "source": [
    "data = pd.read_csv('coupons.csv')"
   ]
  },
  {
   "cell_type": "code",
   "execution_count": 1099,
   "metadata": {},
   "outputs": [
    {
     "data": {
      "text/html": [
       "<div>\n",
       "<style scoped>\n",
       "    .dataframe tbody tr th:only-of-type {\n",
       "        vertical-align: middle;\n",
       "    }\n",
       "\n",
       "    .dataframe tbody tr th {\n",
       "        vertical-align: top;\n",
       "    }\n",
       "\n",
       "    .dataframe thead th {\n",
       "        text-align: right;\n",
       "    }\n",
       "</style>\n",
       "<table border=\"1\" class=\"dataframe\">\n",
       "  <thead>\n",
       "    <tr style=\"text-align: right;\">\n",
       "      <th></th>\n",
       "      <th>destination</th>\n",
       "      <th>passanger</th>\n",
       "      <th>weather</th>\n",
       "      <th>temperature</th>\n",
       "      <th>time</th>\n",
       "      <th>coupon</th>\n",
       "      <th>expiration</th>\n",
       "      <th>gender</th>\n",
       "      <th>age</th>\n",
       "      <th>maritalStatus</th>\n",
       "      <th>...</th>\n",
       "      <th>CoffeeHouse</th>\n",
       "      <th>CarryAway</th>\n",
       "      <th>RestaurantLessThan20</th>\n",
       "      <th>Restaurant20To50</th>\n",
       "      <th>toCoupon_GEQ5min</th>\n",
       "      <th>toCoupon_GEQ15min</th>\n",
       "      <th>toCoupon_GEQ25min</th>\n",
       "      <th>direction_same</th>\n",
       "      <th>direction_opp</th>\n",
       "      <th>Y</th>\n",
       "    </tr>\n",
       "  </thead>\n",
       "  <tbody>\n",
       "    <tr>\n",
       "      <th>0</th>\n",
       "      <td>No Urgent Place</td>\n",
       "      <td>Alone</td>\n",
       "      <td>Sunny</td>\n",
       "      <td>55</td>\n",
       "      <td>2PM</td>\n",
       "      <td>Restaurant(&lt;20)</td>\n",
       "      <td>1d</td>\n",
       "      <td>Female</td>\n",
       "      <td>21</td>\n",
       "      <td>Unmarried partner</td>\n",
       "      <td>...</td>\n",
       "      <td>never</td>\n",
       "      <td>NaN</td>\n",
       "      <td>4~8</td>\n",
       "      <td>1~3</td>\n",
       "      <td>1</td>\n",
       "      <td>0</td>\n",
       "      <td>0</td>\n",
       "      <td>0</td>\n",
       "      <td>1</td>\n",
       "      <td>1</td>\n",
       "    </tr>\n",
       "    <tr>\n",
       "      <th>1</th>\n",
       "      <td>No Urgent Place</td>\n",
       "      <td>Friend(s)</td>\n",
       "      <td>Sunny</td>\n",
       "      <td>80</td>\n",
       "      <td>10AM</td>\n",
       "      <td>Coffee House</td>\n",
       "      <td>2h</td>\n",
       "      <td>Female</td>\n",
       "      <td>21</td>\n",
       "      <td>Unmarried partner</td>\n",
       "      <td>...</td>\n",
       "      <td>never</td>\n",
       "      <td>NaN</td>\n",
       "      <td>4~8</td>\n",
       "      <td>1~3</td>\n",
       "      <td>1</td>\n",
       "      <td>0</td>\n",
       "      <td>0</td>\n",
       "      <td>0</td>\n",
       "      <td>1</td>\n",
       "      <td>0</td>\n",
       "    </tr>\n",
       "    <tr>\n",
       "      <th>2</th>\n",
       "      <td>No Urgent Place</td>\n",
       "      <td>Friend(s)</td>\n",
       "      <td>Sunny</td>\n",
       "      <td>80</td>\n",
       "      <td>10AM</td>\n",
       "      <td>Carry out &amp; Take away</td>\n",
       "      <td>2h</td>\n",
       "      <td>Female</td>\n",
       "      <td>21</td>\n",
       "      <td>Unmarried partner</td>\n",
       "      <td>...</td>\n",
       "      <td>never</td>\n",
       "      <td>NaN</td>\n",
       "      <td>4~8</td>\n",
       "      <td>1~3</td>\n",
       "      <td>1</td>\n",
       "      <td>1</td>\n",
       "      <td>0</td>\n",
       "      <td>0</td>\n",
       "      <td>1</td>\n",
       "      <td>1</td>\n",
       "    </tr>\n",
       "    <tr>\n",
       "      <th>3</th>\n",
       "      <td>No Urgent Place</td>\n",
       "      <td>Friend(s)</td>\n",
       "      <td>Sunny</td>\n",
       "      <td>80</td>\n",
       "      <td>2PM</td>\n",
       "      <td>Coffee House</td>\n",
       "      <td>2h</td>\n",
       "      <td>Female</td>\n",
       "      <td>21</td>\n",
       "      <td>Unmarried partner</td>\n",
       "      <td>...</td>\n",
       "      <td>never</td>\n",
       "      <td>NaN</td>\n",
       "      <td>4~8</td>\n",
       "      <td>1~3</td>\n",
       "      <td>1</td>\n",
       "      <td>1</td>\n",
       "      <td>0</td>\n",
       "      <td>0</td>\n",
       "      <td>1</td>\n",
       "      <td>0</td>\n",
       "    </tr>\n",
       "    <tr>\n",
       "      <th>4</th>\n",
       "      <td>No Urgent Place</td>\n",
       "      <td>Friend(s)</td>\n",
       "      <td>Sunny</td>\n",
       "      <td>80</td>\n",
       "      <td>2PM</td>\n",
       "      <td>Coffee House</td>\n",
       "      <td>1d</td>\n",
       "      <td>Female</td>\n",
       "      <td>21</td>\n",
       "      <td>Unmarried partner</td>\n",
       "      <td>...</td>\n",
       "      <td>never</td>\n",
       "      <td>NaN</td>\n",
       "      <td>4~8</td>\n",
       "      <td>1~3</td>\n",
       "      <td>1</td>\n",
       "      <td>1</td>\n",
       "      <td>0</td>\n",
       "      <td>0</td>\n",
       "      <td>1</td>\n",
       "      <td>0</td>\n",
       "    </tr>\n",
       "  </tbody>\n",
       "</table>\n",
       "<p>5 rows × 26 columns</p>\n",
       "</div>"
      ],
      "text/plain": [
       "       destination  passanger weather  temperature  time  \\\n",
       "0  No Urgent Place      Alone   Sunny           55   2PM   \n",
       "1  No Urgent Place  Friend(s)   Sunny           80  10AM   \n",
       "2  No Urgent Place  Friend(s)   Sunny           80  10AM   \n",
       "3  No Urgent Place  Friend(s)   Sunny           80   2PM   \n",
       "4  No Urgent Place  Friend(s)   Sunny           80   2PM   \n",
       "\n",
       "                  coupon expiration  gender age      maritalStatus  ...  \\\n",
       "0        Restaurant(<20)         1d  Female  21  Unmarried partner  ...   \n",
       "1           Coffee House         2h  Female  21  Unmarried partner  ...   \n",
       "2  Carry out & Take away         2h  Female  21  Unmarried partner  ...   \n",
       "3           Coffee House         2h  Female  21  Unmarried partner  ...   \n",
       "4           Coffee House         1d  Female  21  Unmarried partner  ...   \n",
       "\n",
       "   CoffeeHouse CarryAway RestaurantLessThan20 Restaurant20To50  \\\n",
       "0        never       NaN                  4~8              1~3   \n",
       "1        never       NaN                  4~8              1~3   \n",
       "2        never       NaN                  4~8              1~3   \n",
       "3        never       NaN                  4~8              1~3   \n",
       "4        never       NaN                  4~8              1~3   \n",
       "\n",
       "  toCoupon_GEQ5min toCoupon_GEQ15min toCoupon_GEQ25min direction_same  \\\n",
       "0                1                 0                 0              0   \n",
       "1                1                 0                 0              0   \n",
       "2                1                 1                 0              0   \n",
       "3                1                 1                 0              0   \n",
       "4                1                 1                 0              0   \n",
       "\n",
       "  direction_opp  Y  \n",
       "0             1  1  \n",
       "1             1  0  \n",
       "2             1  1  \n",
       "3             1  0  \n",
       "4             1  0  \n",
       "\n",
       "[5 rows x 26 columns]"
      ]
     },
     "execution_count": 1099,
     "metadata": {},
     "output_type": "execute_result"
    }
   ],
   "source": [
    "data.head()"
   ]
  },
  {
   "cell_type": "code",
   "execution_count": 952,
   "metadata": {},
   "outputs": [
    {
     "name": "stdout",
     "output_type": "stream",
     "text": [
      "<class 'pandas.core.frame.DataFrame'>\n",
      "RangeIndex: 12684 entries, 0 to 12683\n",
      "Data columns (total 26 columns):\n",
      " #   Column                Non-Null Count  Dtype \n",
      "---  ------                --------------  ----- \n",
      " 0   destination           12684 non-null  object\n",
      " 1   passanger             12684 non-null  object\n",
      " 2   weather               12684 non-null  object\n",
      " 3   temperature           12684 non-null  int64 \n",
      " 4   time                  12684 non-null  object\n",
      " 5   coupon                12684 non-null  object\n",
      " 6   expiration            12684 non-null  object\n",
      " 7   gender                12684 non-null  object\n",
      " 8   age                   12684 non-null  object\n",
      " 9   maritalStatus         12684 non-null  object\n",
      " 10  has_children          12684 non-null  int64 \n",
      " 11  education             12684 non-null  object\n",
      " 12  occupation            12684 non-null  object\n",
      " 13  income                12684 non-null  object\n",
      " 14  car                   108 non-null    object\n",
      " 15  Bar                   12577 non-null  object\n",
      " 16  CoffeeHouse           12467 non-null  object\n",
      " 17  CarryAway             12533 non-null  object\n",
      " 18  RestaurantLessThan20  12554 non-null  object\n",
      " 19  Restaurant20To50      12495 non-null  object\n",
      " 20  toCoupon_GEQ5min      12684 non-null  int64 \n",
      " 21  toCoupon_GEQ15min     12684 non-null  int64 \n",
      " 22  toCoupon_GEQ25min     12684 non-null  int64 \n",
      " 23  direction_same        12684 non-null  int64 \n",
      " 24  direction_opp         12684 non-null  int64 \n",
      " 25  Y                     12684 non-null  int64 \n",
      "dtypes: int64(8), object(18)\n",
      "memory usage: 2.5+ MB\n"
     ]
    }
   ],
   "source": [
    "data.info()"
   ]
  },
  {
   "cell_type": "markdown",
   "metadata": {},
   "source": [
    "2. Investigate the dataset for missing or problematic data."
   ]
  },
  {
   "cell_type": "code",
   "execution_count": 1100,
   "metadata": {},
   "outputs": [
    {
     "data": {
      "text/plain": [
       "destination                 0\n",
       "passanger                   0\n",
       "weather                     0\n",
       "temperature                 0\n",
       "time                        0\n",
       "coupon                      0\n",
       "expiration                  0\n",
       "gender                      0\n",
       "age                         0\n",
       "maritalStatus               0\n",
       "has_children                0\n",
       "education                   0\n",
       "occupation                  0\n",
       "income                      0\n",
       "car                     12576\n",
       "Bar                       107\n",
       "CoffeeHouse               217\n",
       "CarryAway                 151\n",
       "RestaurantLessThan20      130\n",
       "Restaurant20To50          189\n",
       "toCoupon_GEQ5min            0\n",
       "toCoupon_GEQ15min           0\n",
       "toCoupon_GEQ25min           0\n",
       "direction_same              0\n",
       "direction_opp               0\n",
       "Y                           0\n",
       "dtype: int64"
      ]
     },
     "execution_count": 1100,
     "metadata": {},
     "output_type": "execute_result"
    }
   ],
   "source": [
    "data.isnull().sum()"
   ]
  },
  {
   "cell_type": "markdown",
   "metadata": {},
   "source": [
    "3. Decide what to do about your missing data -- drop, replace, other..."
   ]
  },
  {
   "cell_type": "markdown",
   "metadata": {},
   "source": [
    "<p style=\"font-weight: bold\">There are some columns defined as object that need to be treated as numerical in order to facilitate the follow up analysis. As a result, It was decided to start off with the following columns: expiration and age</p>"
   ]
  },
  {
   "cell_type": "markdown",
   "metadata": {},
   "source": [
    "<p>3.1. Column: expiration. It was decided to convert everything to hours. So, its type can be defined as a numerical.</p>"
   ]
  },
  {
   "cell_type": "code",
   "execution_count": 1101,
   "metadata": {},
   "outputs": [
    {
     "data": {
      "text/plain": [
       "1d    7091\n",
       "2h    5593\n",
       "Name: expiration, dtype: int64"
      ]
     },
     "execution_count": 1101,
     "metadata": {},
     "output_type": "execute_result"
    }
   ],
   "source": [
    "data['expiration'].value_counts()"
   ]
  },
  {
   "cell_type": "code",
   "execution_count": 1102,
   "metadata": {},
   "outputs": [],
   "source": [
    "data[\"expiration\"]=data[\"expiration\"].str.replace(\"1d\",\"24\")\n",
    "data[\"expiration\"]=data[\"expiration\"].str.replace(\"2h\",\"2\")"
   ]
  },
  {
   "cell_type": "code",
   "execution_count": 1103,
   "metadata": {},
   "outputs": [],
   "source": [
    "data[\"expiration\"]=pd.to_numeric(data[\"expiration\"])"
   ]
  },
  {
   "cell_type": "markdown",
   "metadata": {},
   "source": [
    "<p>3.2. Column: income. It was decide to replace all blank spaces sign \"$\", and \"-\" into \" \". It was also decided to replace the income range into their averages.So, its type can be defined as a numerical.</p>"
   ]
  },
  {
   "cell_type": "code",
   "execution_count": 1104,
   "metadata": {},
   "outputs": [
    {
     "data": {
      "text/plain": [
       "$25000 - $37499     2013\n",
       "$12500 - $24999     1831\n",
       "$37500 - $49999     1805\n",
       "$100000 or More     1736\n",
       "$50000 - $62499     1659\n",
       "Less than $12500    1042\n",
       "$87500 - $99999      895\n",
       "$75000 - $87499      857\n",
       "$62500 - $74999      846\n",
       "Name: income, dtype: int64"
      ]
     },
     "execution_count": 1104,
     "metadata": {},
     "output_type": "execute_result"
    }
   ],
   "source": [
    "data['income'].value_counts()"
   ]
  },
  {
   "cell_type": "code",
   "execution_count": 1105,
   "metadata": {},
   "outputs": [],
   "source": [
    "data[\"income\"]=data[\"income\"].str.replace(\"$\",\" \",regex=True)\n",
    "data[\"income\"]=data[\"income\"].str.replace(\"-\",\" \",regex=True)\n",
    "data[\"income\"]=data[\"income\"].str.replace(\" \",\"\",regex=True)"
   ]
  },
  {
   "cell_type": "code",
   "execution_count": 1106,
   "metadata": {},
   "outputs": [],
   "source": [
    "data[\"income\"]=data[\"income\"].str.replace(\"2500037499\",\"31250\",regex=True)\n",
    "data[\"income\"]=data[\"income\"].str.replace(\"1250024999\",\"18750\",regex=True)\n",
    "data[\"income\"]=data[\"income\"].str.replace(\"3750049999\",\"43750\",regex=True)\n",
    "data[\"income\"]=data[\"income\"].str.replace(\"100000orMore\",\"100000\",regex=True)\n",
    "data[\"income\"]=data[\"income\"].str.replace(\"5000062499\",\"56250\",regex=True)\n",
    "data[\"income\"]=data[\"income\"].str.replace(\"Lessthan12500\",\"12499\",regex=True)\n",
    "data[\"income\"]=data[\"income\"].str.replace(\"8750099999\",\"93750\",regex=True)\n",
    "data[\"income\"]=data[\"income\"].str.replace(\"7500087499\",\"81250\",regex=True)\n",
    "data[\"income\"]=data[\"income\"].str.replace(\"6250074999\",\"68750\",regex=True)"
   ]
  },
  {
   "cell_type": "code",
   "execution_count": 1107,
   "metadata": {},
   "outputs": [],
   "source": [
    "data[\"income\"]=pd.to_numeric(data[\"income\"])"
   ]
  },
  {
   "cell_type": "markdown",
   "metadata": {},
   "source": [
    "<p>3.3. Column: Bar. It was decide to replace all by single values, most of them representing their average. So, its type can be defined as a numerical.</p>"
   ]
  },
  {
   "cell_type": "code",
   "execution_count": 1108,
   "metadata": {},
   "outputs": [
    {
     "data": {
      "text/plain": [
       "never    5197\n",
       "less1    3482\n",
       "1~3      2473\n",
       "4~8      1076\n",
       "gt8       349\n",
       "Name: Bar, dtype: int64"
      ]
     },
     "execution_count": 1108,
     "metadata": {},
     "output_type": "execute_result"
    }
   ],
   "source": [
    "data['Bar'].value_counts()"
   ]
  },
  {
   "cell_type": "code",
   "execution_count": 1109,
   "metadata": {},
   "outputs": [],
   "source": [
    "data[\"Bar\"]=data[\"Bar\"].str.replace(\"never\",\"0\")\n",
    "data[\"Bar\"]=data[\"Bar\"].str.replace(\"less1\",\"1\")\n",
    "data[\"Bar\"]=data[\"Bar\"].str.replace(\"1~3\",\"2\")\n",
    "data[\"Bar\"]=data[\"Bar\"].str.replace(\"4~8\",\"6\")\n",
    "data[\"Bar\"]=data[\"Bar\"].str.replace(\"gt8\",\"9\")"
   ]
  },
  {
   "cell_type": "code",
   "execution_count": 1110,
   "metadata": {},
   "outputs": [],
   "source": [
    "data[\"Bar\"]=pd.to_numeric(data[\"Bar\"])"
   ]
  },
  {
   "cell_type": "markdown",
   "metadata": {},
   "source": [
    "<p>3.4. Column: CoffeHouse. It was decide to replace all by single values, most of them representing their average. So, its type can be defined as a numerical.</p"
   ]
  },
  {
   "cell_type": "code",
   "execution_count": 1111,
   "metadata": {},
   "outputs": [
    {
     "data": {
      "text/plain": [
       "less1    3385\n",
       "1~3      3225\n",
       "never    2962\n",
       "4~8      1784\n",
       "gt8      1111\n",
       "Name: CoffeeHouse, dtype: int64"
      ]
     },
     "execution_count": 1111,
     "metadata": {},
     "output_type": "execute_result"
    }
   ],
   "source": [
    "data['CoffeeHouse'].value_counts()"
   ]
  },
  {
   "cell_type": "code",
   "execution_count": 1113,
   "metadata": {},
   "outputs": [],
   "source": [
    "data[\"CoffeeHouse\"]=data[\"CoffeeHouse\"].str.replace(\"never\",\"0\")\n",
    "data[\"CoffeeHouse\"]=data[\"CoffeeHouse\"].str.replace(\"less1\",\"1\")\n",
    "data[\"CoffeeHouse\"]=data[\"CoffeeHouse\"].str.replace(\"1~3\",\"2\")\n",
    "data[\"CoffeeHouse\"]=data[\"CoffeeHouse\"].str.replace(\"4~8\",\"6\")\n",
    "data[\"CoffeeHouse\"]=data[\"CoffeeHouse\"].str.replace(\"gt8\",\"9\")"
   ]
  },
  {
   "cell_type": "code",
   "execution_count": 1114,
   "metadata": {},
   "outputs": [],
   "source": [
    "data[\"CoffeeHouse\"]=pd.to_numeric(data[\"CoffeeHouse\"])"
   ]
  },
  {
   "cell_type": "markdown",
   "metadata": {},
   "source": [
    "<p>3.5. Column: CarryAway. It was decide to replace all by single values, most of them representing their average. So, its type can be defined as a numerical.</p"
   ]
  },
  {
   "cell_type": "code",
   "execution_count": 1115,
   "metadata": {},
   "outputs": [
    {
     "data": {
      "text/plain": [
       "1~3      4672\n",
       "4~8      4258\n",
       "less1    1856\n",
       "gt8      1594\n",
       "never     153\n",
       "Name: CarryAway, dtype: int64"
      ]
     },
     "execution_count": 1115,
     "metadata": {},
     "output_type": "execute_result"
    }
   ],
   "source": [
    "data['CarryAway'].value_counts()"
   ]
  },
  {
   "cell_type": "code",
   "execution_count": 1116,
   "metadata": {},
   "outputs": [],
   "source": [
    "data[\"CarryAway\"]=data[\"CarryAway\"].str.replace(\"never\",\"0\")\n",
    "data[\"CarryAway\"]=data[\"CarryAway\"].str.replace(\"less1\",\"1\")\n",
    "data[\"CarryAway\"]=data[\"CarryAway\"].str.replace(\"1~3\",\"2\")\n",
    "data[\"CarryAway\"]=data[\"CarryAway\"].str.replace(\"4~8\",\"6\")\n",
    "data[\"CarryAway\"]=data[\"CarryAway\"].str.replace(\"gt8\",\"9\")"
   ]
  },
  {
   "cell_type": "code",
   "execution_count": 1117,
   "metadata": {},
   "outputs": [],
   "source": [
    "data[\"CarryAway\"]=pd.to_numeric(data[\"CarryAway\"])"
   ]
  },
  {
   "cell_type": "markdown",
   "metadata": {},
   "source": [
    "<p>3.6. Column: RestaurantLessThan20. It was decide to replace all by single values, most of them representing their average. So, its type can be defined as a numerical.</p"
   ]
  },
  {
   "cell_type": "code",
   "execution_count": 1118,
   "metadata": {},
   "outputs": [
    {
     "data": {
      "text/plain": [
       "1~3      5376\n",
       "4~8      3580\n",
       "less1    2093\n",
       "gt8      1285\n",
       "never     220\n",
       "Name: RestaurantLessThan20, dtype: int64"
      ]
     },
     "execution_count": 1118,
     "metadata": {},
     "output_type": "execute_result"
    }
   ],
   "source": [
    "data['RestaurantLessThan20'].value_counts()"
   ]
  },
  {
   "cell_type": "code",
   "execution_count": 1119,
   "metadata": {},
   "outputs": [],
   "source": [
    "data[\"RestaurantLessThan20\"]=data[\"RestaurantLessThan20\"].str.replace(\"never\",\"0\")\n",
    "data[\"RestaurantLessThan20\"]=data[\"RestaurantLessThan20\"].str.replace(\"less1\",\"1\")\n",
    "data[\"RestaurantLessThan20\"]=data[\"RestaurantLessThan20\"].str.replace(\"1~3\",\"2\")\n",
    "data[\"RestaurantLessThan20\"]=data[\"RestaurantLessThan20\"].str.replace(\"4~8\",\"6\")\n",
    "data[\"RestaurantLessThan20\"]=data[\"RestaurantLessThan20\"].str.replace(\"gt8\",\"9\")"
   ]
  },
  {
   "cell_type": "code",
   "execution_count": 1120,
   "metadata": {},
   "outputs": [],
   "source": [
    "data[\"RestaurantLessThan20\"]=pd.to_numeric(data[\"RestaurantLessThan20\"])"
   ]
  },
  {
   "cell_type": "markdown",
   "metadata": {},
   "source": [
    "<p>3.7. Column: Restaurant20To50. It was decide to replace all by single values, most of them representing their average. So, its type can be defined as a numerical.</p"
   ]
  },
  {
   "cell_type": "code",
   "execution_count": 1121,
   "metadata": {},
   "outputs": [
    {
     "data": {
      "text/plain": [
       "less1    6077\n",
       "1~3      3290\n",
       "never    2136\n",
       "4~8       728\n",
       "gt8       264\n",
       "Name: Restaurant20To50, dtype: int64"
      ]
     },
     "execution_count": 1121,
     "metadata": {},
     "output_type": "execute_result"
    }
   ],
   "source": [
    "data['Restaurant20To50'].value_counts()"
   ]
  },
  {
   "cell_type": "code",
   "execution_count": 1123,
   "metadata": {},
   "outputs": [],
   "source": [
    "data[\"Restaurant20To50\"]=data[\"Restaurant20To50\"].str.replace(\"never\",\"0\")\n",
    "data[\"Restaurant20To50\"]=data[\"Restaurant20To50\"].str.replace(\"less1\",\"1\")\n",
    "data[\"Restaurant20To50\"]=data[\"Restaurant20To50\"].str.replace(\"1~3\",\"2\")\n",
    "data[\"Restaurant20To50\"]=data[\"Restaurant20To50\"].str.replace(\"4~8\",\"6\")\n",
    "data[\"Restaurant20To50\"]=data[\"Restaurant20To50\"].str.replace(\"gt8\",\"9\")"
   ]
  },
  {
   "cell_type": "code",
   "execution_count": 1124,
   "metadata": {},
   "outputs": [],
   "source": [
    "data[\"Restaurant20To50\"]=pd.to_numeric(data[\"Restaurant20To50\"])"
   ]
  },
  {
   "cell_type": "markdown",
   "metadata": {},
   "source": [
    "<p>3.8. Column: Age. It was decide to replace a couple of items (\"50plus\" and \"below21\") by single values. So, its type can be defined as a numerical.</p"
   ]
  },
  {
   "cell_type": "code",
   "execution_count": 1125,
   "metadata": {},
   "outputs": [
    {
     "data": {
      "text/plain": [
       "21         2653\n",
       "26         2559\n",
       "31         2039\n",
       "50plus     1788\n",
       "36         1319\n",
       "41         1093\n",
       "46          686\n",
       "below21     547\n",
       "Name: age, dtype: int64"
      ]
     },
     "execution_count": 1125,
     "metadata": {},
     "output_type": "execute_result"
    }
   ],
   "source": [
    "data['age'].value_counts()"
   ]
  },
  {
   "cell_type": "code",
   "execution_count": 1126,
   "metadata": {},
   "outputs": [],
   "source": [
    "data[\"age\"]=data[\"age\"].str.replace(\"50plus\",\"51\")\n",
    "data[\"age\"]=data[\"age\"].str.replace(\"below21\",\"20\")"
   ]
  },
  {
   "cell_type": "code",
   "execution_count": 1127,
   "metadata": {},
   "outputs": [],
   "source": [
    "data[\"age\"]=pd.to_numeric(data[\"age\"])"
   ]
  },
  {
   "cell_type": "markdown",
   "metadata": {},
   "source": [
    "4. What proportion of the total observations chose to accept the coupon? \n",
    "\n"
   ]
  },
  {
   "cell_type": "code",
   "execution_count": 1128,
   "metadata": {},
   "outputs": [
    {
     "name": "stdout",
     "output_type": "stream",
     "text": [
      "0.5684326710816777\n"
     ]
    }
   ],
   "source": [
    "ans41=(data.query(\"Y==1\")[\"Y\"].count())/len(data[\"Y\"])\n",
    "print(ans41)"
   ]
  },
  {
   "cell_type": "markdown",
   "metadata": {},
   "source": [
    "5. Use a bar plot to visualize the `coupon` column."
   ]
  },
  {
   "cell_type": "code",
   "execution_count": 1129,
   "metadata": {},
   "outputs": [],
   "source": [
    "totalcoupon=data[\"coupon\"].value_counts()\n",
    "totalcoupon = totalcoupon.to_frame()\n",
    "totalcoupon.columns = ['totalcoupon1']\n",
    "totalcoupon.index.names = ['Namecoupon']\n",
    "totalcoupon['Namecoupon'] = totalcoupon.index"
   ]
  },
  {
   "cell_type": "code",
   "execution_count": 1130,
   "metadata": {},
   "outputs": [
    {
     "data": {
      "image/png": "[encoded data removed]",
      "text/plain": [
       "<Figure size 432x288 with 1 Axes>"
      ]
     },
     "metadata": {},
     "output_type": "display_data"
    }
   ],
   "source": [
    "sns.barplot(x=\"Namecoupon\", y=\"totalcoupon1\",data=totalcoupon,edgecolor=\"black\")\n",
    "plt.title('Distribution of Coupon')\n",
    "# Set x-axis label\n",
    "plt.xlabel('')\n",
    "# Set y-axis label\n",
    "plt.ylabel('Counts')\n",
    "plt.xticks(rotation = 90)\n",
    "plt.savefig('Will-a-Customer-Accept-the-Coupon/images/distributioncoupons.png')"
   ]
  },
  {
   "cell_type": "markdown",
   "metadata": {},
   "source": [
    "6. Use a histogram to visualize the temperature column."
   ]
  },
  {
   "cell_type": "code",
   "execution_count": 1131,
   "metadata": {},
   "outputs": [
    {
     "data": {
      "image/png": "[encoded data removed]",
      "text/plain": [
       "<Figure size 360x360 with 1 Axes>"
      ]
     },
     "metadata": {},
     "output_type": "display_data"
    }
   ],
   "source": [
    "sns.displot(data['temperature'],kind=\"hist\",color=\"navy\")\n",
    "plt.title('Histogram of temperatures')\n",
    "plt.savefig('Will-a-Customer-Accept-the-Coupon/images/histogramtemperatures.png')"
   ]
  },
  {
   "cell_type": "markdown",
   "metadata": {},
   "source": [
    "**Investigating the Bar Coupons**\n",
    "\n",
    "Now, we will lead you through an exploration of just the bar related coupons.  \n",
    "\n",
    "1. Create a new `DataFrame` that contains just the bar coupons.\n"
   ]
  },
  {
   "cell_type": "code",
   "execution_count": 1132,
   "metadata": {},
   "outputs": [],
   "source": [
    "df1=pd.DataFrame(data.query('coupon==\"Bar\"')[\"coupon\"].values, data.query('coupon==\"Bar\"')[\"coupon\"].index,columns=[\"Bar\"])"
   ]
  },
  {
   "cell_type": "markdown",
   "metadata": {},
   "source": [
    "2. What proportion of bar coupons were accepted?\n"
   ]
  },
  {
   "cell_type": "code",
   "execution_count": 1133,
   "metadata": {},
   "outputs": [
    {
     "name": "stdout",
     "output_type": "stream",
     "text": [
      "0.065200252286345\n"
     ]
    }
   ],
   "source": [
    "k=0\n",
    "for j in range(0,len(df1)):\n",
    "    if data[\"Y\"][df1.index[j]]==1:\n",
    "        k=k+1\n",
    "ans=(k/len(data[\"Y\"]))\n",
    "print(ans)"
   ]
  },
  {
   "cell_type": "markdown",
   "metadata": {},
   "source": [
    "<h4 style=\"color:red\">Answer:</h4><p> the proportion of the bar coupon accepted was only 0.0652</p>"
   ]
  },
  {
   "cell_type": "markdown",
   "metadata": {},
   "source": [
    "3. Compare the acceptance rate between those who went to a bar 3 or fewer times a month to those who went more.\n"
   ]
  },
  {
   "cell_type": "markdown",
   "metadata": {},
   "source": [
    "<p>Acceptance rate for those who went to a bar 3 or fewer times a month:</p>"
   ]
  },
  {
   "cell_type": "code",
   "execution_count": 1134,
   "metadata": {},
   "outputs": [
    {
     "name": "stdout",
     "output_type": "stream",
     "text": [
      "49.83700405502107\n"
     ]
    }
   ],
   "source": [
    "ans31=((data.query(\"Bar<=2 & Y==1\")[\"Bar\"].dropna().count())/len(data[\"Bar\"].dropna()))*100\n",
    "print(ans31)"
   ]
  },
  {
   "cell_type": "markdown",
   "metadata": {},
   "source": [
    "<p>Acceptance rate for those who who went to a bar more than 3 times a month:</p>"
   ]
  },
  {
   "cell_type": "code",
   "execution_count": 1135,
   "metadata": {},
   "outputs": [
    {
     "name": "stdout",
     "output_type": "stream",
     "text": [
      "7.0525562534785715\n"
     ]
    }
   ],
   "source": [
    "ans32=((data.query(\"Bar>2 & Y==1\")[\"Bar\"].dropna().count())/len(data[\"Bar\"].dropna()))*100\n",
    "print(ans32)"
   ]
  },
  {
   "cell_type": "markdown",
   "metadata": {},
   "source": [
    "<h4 style=\"color:red\">Answer:</h4><p> The acceptance rate for those who went to a bar 3 or fewer times a month is much higher with a value around 50%</p>"
   ]
  },
  {
   "cell_type": "markdown",
   "metadata": {},
   "source": [
    "4. Compare the acceptance rate between drivers who go to a bar more than once a month and are over the age of 25 to the all others.  Is there a difference?\n"
   ]
  },
  {
   "cell_type": "markdown",
   "metadata": {},
   "source": [
    "<p>Acceptance rate between drivers who go to a bar more than once a month and are over the age of 25:</p>"
   ]
  },
  {
   "cell_type": "code",
   "execution_count": 1136,
   "metadata": {},
   "outputs": [
    {
     "name": "stdout",
     "output_type": "stream",
     "text": [
      "13.72346346505526\n"
     ]
    }
   ],
   "source": [
    "ans41=(data.query(\"Bar >1 & age>25 & Y==1\")[\"Bar\"].dropna().count()/len(data[\"Bar\"].dropna()))*100\n",
    "print(ans41)"
   ]
  },
  {
   "cell_type": "markdown",
   "metadata": {},
   "source": [
    "<p>Acceptance rate for all others:</p>"
   ]
  },
  {
   "cell_type": "code",
   "execution_count": 1137,
   "metadata": {},
   "outputs": [
    {
     "name": "stdout",
     "output_type": "stream",
     "text": [
      "43.166096843444386\n"
     ]
    }
   ],
   "source": [
    "ans42=(data.query(\"Y==1\")[\"Bar\"].dropna().count()-data.query(\"Bar >1 & age>25 & Y==1\")[\"Bar\"].dropna().count())/len(data[\"Bar\"].dropna())*100\n",
    "print(ans42)"
   ]
  },
  {
   "cell_type": "markdown",
   "metadata": {},
   "source": [
    "<h4 style=\"color:red\">Answer:</h4><p> The acceptance rate for all others is higher with a value around 43%</p>"
   ]
  },
  {
   "cell_type": "markdown",
   "metadata": {},
   "source": [
    "5. Construct a null and alternative hypothesis for the difference between groups of drivers who go to a bar more than once a month and are over the age of 25 to all other drivers. "
   ]
  },
  {
   "cell_type": "markdown",
   "metadata": {},
   "source": [
    "<h4 style=\"color:blue\">Note:</h4><p> The acceptance rate is not used in this exercise, since it is not stated in the question</p>"
   ]
  },
  {
   "cell_type": "markdown",
   "metadata": {},
   "source": [
    " <h4 style='color:red '> Solution:</h4>\n",
    "        <p style=\"font-weight: bold\">My hypothesis is the following:<p> Null Hypothesis:</p></p> ${H}_{0} : {\\mu}_{Bar>25} - {\\mu}_{Bar}=0  $ <br>\n",
    "        <p> Alternative Hypothesis:</p><br>${H}_{1} : {\\mu}_{Bar>25} -  {\\mu}_{Bar} > 0$ <br> <p> where ${\\mu}_{Bar}$ represents the mean of all other drivers,and ${\\mu}_{Bar>25}$ represents the mean of the drivers who go to the bar more than once and are over 25</p>"
   ]
  },
  {
   "cell_type": "markdown",
   "metadata": {},
   "source": [
    "6. Using alpha at 0.05 test your hypothesis and state your conclusion."
   ]
  },
  {
   "cell_type": "markdown",
   "metadata": {},
   "source": [
    "<h4 style=\"color:red\">Solution:</h4><p>it consists on several steps as follows:</p>"
   ]
  },
  {
   "cell_type": "markdown",
   "metadata": {},
   "source": [
    "<p>Distribution of the drivers who go to the bar more than once and are over 25:</p>"
   ]
  },
  {
   "cell_type": "code",
   "execution_count": 1138,
   "metadata": {},
   "outputs": [],
   "source": [
    "X61=np.random.choice(data.query(\"Bar > 1 and age>25\")[\"Bar\"].dropna(),10000)"
   ]
  },
  {
   "cell_type": "markdown",
   "metadata": {},
   "source": [
    "<p>Distribution of all other drivers:</p>"
   ]
  },
  {
   "cell_type": "code",
   "execution_count": 1139,
   "metadata": {},
   "outputs": [],
   "source": [
    "data1=[]\n",
    "k=0\n",
    "for j in range(0,len(data[\"Bar\"])):\n",
    "    if (data[\"Bar\"][j]>1) & (data[\"age\"][j]>25):\n",
    "        k+=1\n",
    "    else:\n",
    "        data1.append(data[\"Bar\"][j])\n",
    "data1 = np.array(data1)\n",
    "data1 = data1[~np.isnan(data1)]\n",
    "X62=np.random.choice(data1,10000)"
   ]
  },
  {
   "cell_type": "markdown",
   "metadata": {},
   "source": [
    "<p> Generate a distribution Z which is a mixture of estimated distribution of the drivers who go to the bar more than once and are over 25 and the estimated distribution of all other drivers: </p>"
   ]
  },
  {
   "cell_type": "code",
   "execution_count": 1140,
   "metadata": {},
   "outputs": [],
   "source": [
    "Z = np.hstack((X61,X62))"
   ]
  },
  {
   "cell_type": "markdown",
   "metadata": {},
   "source": [
    "<p>Estimate the mean of the difference of X61 and X62:</p>"
   ]
  },
  {
   "cell_type": "code",
   "execution_count": 1141,
   "metadata": {},
   "outputs": [
    {
     "name": "stdout",
     "output_type": "stream",
     "text": [
      "2.8784\n"
     ]
    }
   ],
   "source": [
    "mean_diff = np.mean( X61 - X62)\n",
    "print(mean_diff)"
   ]
  },
  {
   "cell_type": "markdown",
   "metadata": {},
   "source": [
    "<p>Create a for loop that will randomly sample the combined data set Z to produce two random sets px and py. We’ll inspect the distribution of the mean differences between px and py:</p>"
   ]
  },
  {
   "cell_type": "code",
   "execution_count": 1142,
   "metadata": {},
   "outputs": [],
   "source": [
    "n = 4999\n",
    "diff = np.zeros((n,))\n",
    "\n",
    "for j in range(n):\n",
    "     \n",
    "    pxi = np.random.choice( np.arange(20), 10 )\n",
    "    pyi = [ i for i in np.arange(20) if i not in pxi ]\n",
    "     \n",
    "    px = np.mean( [ Z[i] for i in pxi ] )\n",
    "    py = np.mean( [ Z[i] for i in pyi ] )\n",
    "     \n",
    "    diff[j] = px - py"
   ]
  },
  {
   "cell_type": "code",
   "execution_count": 1143,
   "metadata": {},
   "outputs": [
    {
     "data": {
      "text/plain": [
       "Text(5.960000000000001, 0.5, 'Frequency')"
      ]
     },
     "execution_count": 1143,
     "metadata": {},
     "output_type": "execute_result"
    },
    {
     "data": {
      "image/png": "[encoded data removed]",
      "text/plain": [
       "<Figure size 360x360 with 1 Axes>"
      ]
     },
     "metadata": {},
     "output_type": "display_data"
    }
   ],
   "source": [
    "sns.displot(diff,kind=\"hist\",color=\"red\")\n",
    "plt.title('Distribution of Group Differences')\n",
    "# Set x-axis label\n",
    "plt.xlabel('Mean Difference')\n",
    "# Set y-axis label\n",
    "plt.ylabel('Frequency')"
   ]
  },
  {
   "cell_type": "markdown",
   "metadata": {},
   "source": [
    "<p>Estimation of the p-value:</p>"
   ]
  },
  {
   "cell_type": "code",
   "execution_count": 1144,
   "metadata": {},
   "outputs": [
    {
     "name": "stdout",
     "output_type": "stream",
     "text": [
      "0.014602920584116823\n"
     ]
    }
   ],
   "source": [
    "p_value = len( np.where( diff >= mean_diff )[0] )/n\n",
    "print (p_value)"
   ]
  },
  {
   "cell_type": "markdown",
   "metadata": {},
   "source": [
    "<h3 style=\"color:red\">Conclusion to question 6:</h3> <h4> The p_value=0.0146 is less than ${\\alpha}=0.05$ so we do reject ${H}_{0}$, i.e. the null hypothesis.</h4>"
   ]
  },
  {
   "cell_type": "markdown",
   "metadata": {},
   "source": [
    "7. Use the same process to compare the acceptance rate between drivers who go to bars more than once a month and had passengers that were not a kid and had occupations other than farming, fishing, or forestry. \n"
   ]
  },
  {
   "cell_type": "markdown",
   "metadata": {},
   "source": [
    "<h4 style=\"color:blue\">Note:</h4><p> It is understood that the comparison is between the acceptance rate of drivers who go to the bars more than once a month and had passengers that were not a kid,  and the acceptance rate of drivers who go to the bars more than once a month and had occupations other than farming, fishing, or forestry</p>"
   ]
  },
  {
   "cell_type": "markdown",
   "metadata": {},
   "source": [
    "<h4 style='color:red '> Solution:</h4><p style=\"font-weight: bold\">My hypothesis is the following:\n",
    "<p> Null Hypothesis:</p></p> ${H}_{0} : {\\delta}_{BarNK} = {\\delta}_{BarFFF} $ <br>\n",
    "<p> Alternative Hypothesis:</p><br>${H}_{1} : {\\delta}_{BarNK} \\neq {\\delta}_{BarFFF} $ <br> <p> where ${\\delta}_{BarNK}$ represents the acceptance rate of drivers who go to the bars more than once a month and had passengers that were not a kid, ${\\delta}_{BarFFF}$ represents the acceptance rate of drivers who go to the bars more than once a month and had occupations other than farming, fishing, or forestry</p>"
   ]
  },
  {
   "cell_type": "markdown",
   "metadata": {},
   "source": [
    "<p>Acceptance rate for driver who go to the bar more than once and had passangers that were not a kid: ${\\delta}_{BarNK}= 18.311$</p>"
   ]
  },
  {
   "cell_type": "code",
   "execution_count": 1145,
   "metadata": {},
   "outputs": [
    {
     "name": "stdout",
     "output_type": "stream",
     "text": [
      "18.31120298958416\n"
     ]
    }
   ],
   "source": [
    "ans71=(data.query(\"Bar >1 & passanger!='Kid(s)' & Y==1\")[\"Bar\"].dropna().count()/len(data[\"Bar\"].dropna()))*100\n",
    "print(ans71)"
   ]
  },
  {
   "cell_type": "markdown",
   "metadata": {},
   "source": [
    "<p>Acceptance rate for driver who go to the bar more than once and had had occupations other than farming, fishing, or forestry: ${\\delta}_{BarFFF}= 19.2812$</p>"
   ]
  },
  {
   "cell_type": "code",
   "execution_count": 1146,
   "metadata": {},
   "outputs": [
    {
     "name": "stdout",
     "output_type": "stream",
     "text": [
      "19.281227637751453\n"
     ]
    }
   ],
   "source": [
    "ans72=(data.query(\"Bar >1 & occupation!='Farming Fishing & Forestry' & Y==1\")[\"Bar\"].dropna().count()/len(data[\"Bar\"].dropna()))*100\n",
    "print(ans72)"
   ]
  },
  {
   "cell_type": "code",
   "execution_count": 1147,
   "metadata": {},
   "outputs": [
    {
     "data": {
      "text/plain": [
       "0.05030927835051563"
      ]
     },
     "execution_count": 1147,
     "metadata": {},
     "output_type": "execute_result"
    }
   ],
   "source": [
    "(ans72-ans71)/ans72"
   ]
  },
  {
   "cell_type": "markdown",
   "metadata": {},
   "source": [
    "<h4 style=\"font-weight: bold;text-decoration: underline\">Observation: </h4><h5>Percentage difference:  Diff = ${\\delta}_{BarFFF}$ and $ {\\delta}_{BarNK} $ is equal to 5.03%</h5>"
   ]
  },
  {
   "cell_type": "markdown",
   "metadata": {},
   "source": [
    "<h4 style=\"color:red\">Conclusion to question 7:</h4>\n",
    "<p> using $ {\\alpha}=0.05 $, which is the equivalence of a 5%, and observing that Diff is about the same, we may tend to accept by a hair ${H}_{0}$, i.e. the null hypothesis."
   ]
  },
  {
   "cell_type": "markdown",
   "metadata": {},
   "source": [
    "8. Compare the acceptance rates between those passengers who:\n",
    "\n",
    "- go to bars more than once a month, had passengers that were not a kid, and were not widowed *OR*\n",
    "- go to bars more than once a month and are under the age of 30 *OR*\n",
    "- go to cheap restaurants more than 4 times a month and income is less than 50K. \n",
    "\n"
   ]
  },
  {
   "cell_type": "markdown",
   "metadata": {},
   "source": [
    "<p>go to bars more than once a month, had passengers that were not a kid, and were not widowed OR:</p>"
   ]
  },
  {
   "cell_type": "code",
   "execution_count": 1148,
   "metadata": {},
   "outputs": [
    {
     "name": "stdout",
     "output_type": "stream",
     "text": [
      "18.15673289183223\n"
     ]
    }
   ],
   "source": [
    "ans81=(data.query(\"Bar>1 & passanger!='Kid(s)'& maritalStatus!='Widowed' & Y==1\")[\"passanger\"].count()/len(data[\"passanger\"]))*100\n",
    "print(ans81)"
   ]
  },
  {
   "cell_type": "markdown",
   "metadata": {},
   "source": [
    "<p>go to bars more than once a month and are under the age of 30 OR:</p>"
   ]
  },
  {
   "cell_type": "code",
   "execution_count": 1149,
   "metadata": {},
   "outputs": [
    {
     "name": "stdout",
     "output_type": "stream",
     "text": [
      "11.250394197414066\n"
     ]
    }
   ],
   "source": [
    "ans82=(data.query(\"Bar>1 & age<30 & Y==1\")[\"passanger\"].dropna().count()/len(data[\"passanger\"]))*100\n",
    "print(ans82)"
   ]
  },
  {
   "cell_type": "markdown",
   "metadata": {},
   "source": [
    "<p>go to cheap restaurants more than 4 times a month and income is less than 50K:</p>"
   ]
  },
  {
   "cell_type": "code",
   "execution_count": 1150,
   "metadata": {},
   "outputs": [
    {
     "name": "stdout",
     "output_type": "stream",
     "text": [
      "10.793125197098707\n"
     ]
    }
   ],
   "source": [
    "ans83=(data.query(\"RestaurantLessThan20>=6 & income<50000 & Y==1\")[\"passanger\"].count()/len(data[\"passanger\"]))*100\n",
    "print(ans83)"
   ]
  },
  {
   "cell_type": "markdown",
   "metadata": {},
   "source": [
    "<h4 style=\"color:red\">Answer:</h4><p> The acceptance rate is higher for the those passengers who go to bars more than once a month, had passengers that were not a kid, and were not widowed OR with acceptance rate around 18%</p>"
   ]
  },
  {
   "cell_type": "markdown",
   "metadata": {},
   "source": [
    "9.  Based on these observations, what do you hypothesize about passengers who accepted the bar coupons?"
   ]
  },
  {
   "cell_type": "markdown",
   "metadata": {},
   "source": [
    "<h4 style=\"color:red\">Answer:</h4><p> I can make a hypothesis saying that the passengers that were not a kid, and not widowed are more likely to have accepted the bar coupon.</p>"
   ]
  },
  {
   "cell_type": "markdown",
   "metadata": {},
   "source": [
    "### Independent Investigation\n",
    "\n",
    "Using the bar coupon example as motivation, you are to explore one of the other coupon groups and try to determine the characteristics of passengers who accept the coupons.  "
   ]
  },
  {
   "cell_type": "markdown",
   "metadata": {},
   "source": [
    "<h4 style=\"color:red\">Note: </h4><p> The goal of this project/independent investigation  is to use what is known about visualizations and probability distributions to distinguish between customers who accepted a driving coupon versus those that did not, i.e, not being focus about a single coupon group only!</p>"
   ]
  },
  {
   "cell_type": "markdown",
   "metadata": {},
   "source": [
    "<h4 style=\"font-weight:bold\">Prior Observations:</h4><p>Before embarking in any further analysis, it is important to understand the data being used, in particular, if it is biased. As shown in Figure 1A, the histogram of the passengers indicates that most are under the category \" Alone\" by a wide margin. As expected, this effect is propagated through distribution of coupons accepted (Y=1) per passenger category as shown in Figure 1B, likewise for coupons not accepted (Y=0) as shown in Figure 1C. Consequently, I firmly believe that using joint probability seems the right approach to properly answer the question: Will the customer accept the coupon?. However, understanding the social, and economical situation/behaviors of the passenger who accepted or did not accept the coupons needs to be done first.</p>"
   ]
  },
  {
   "cell_type": "markdown",
   "metadata": {},
   "source": [
    "<h4 style=\"color:red\">Figure 1A: </h4><p>Histogram of drivers without/with passengers</p>"
   ]
  },
  {
   "cell_type": "code",
   "execution_count": 1307,
   "metadata": {},
   "outputs": [
    {
     "data": {
      "image/png": "[encoded data removed]",
      "text/plain": [
       "<Figure size 360x360 with 1 Axes>"
      ]
     },
     "metadata": {},
     "output_type": "display_data"
    }
   ],
   "source": [
    "sns.displot(data[\"passanger\"],kind=\"hist\",color=\"yellow\", edgecolor=\"black\")\n",
    "plt.title('Histogram of groupss of drivers without/with Passengers')\n",
    "# Set x-axis label\n",
    "plt.xlabel('passengers')\n",
    "# Set y-axis label\n",
    "plt.ylabel('count')\n",
    "plt.savefig('Will-a-Customer-Accept-the-Coupon/images/histogramdriverswithout_withpassengers.png')"
   ]
  },
  {
   "cell_type": "markdown",
   "metadata": {},
   "source": [
    "<h4 style=\"color:red\">Figure 1B:</h4><p>Countplot of Coupons Accepted (Y=1) by drivers without/with Passengers categories</p>"
   ]
  },
  {
   "cell_type": "code",
   "execution_count": 1304,
   "metadata": {},
   "outputs": [
    {
     "data": {
      "image/png": "[encoded data removed]",
      "text/plain": [
       "<Figure size 432x288 with 1 Axes>"
      ]
     },
     "metadata": {},
     "output_type": "display_data"
    }
   ],
   "source": [
    "sns.countplot(x=\"passanger\", data=data.query(\"Y==1\"),hue=\"coupon\",edgecolor=\"black\")\n",
    "plt.title('Histogram of Coupon Accepted (Y=1) by drivers without/with Passengers')\n",
    "# Set x-axis label\n",
    "plt.xlabel('passengers')\n",
    "# Set y-axis label\n",
    "plt.ylabel('count')\n",
    "plt.legend(bbox_to_anchor=(1.02, 1), loc='upper left')\n",
    "plt.savefig('Will-a-Customer-Accept-the-Coupon/images/countplotacceptedcouponbypassengers.png')"
   ]
  },
  {
   "cell_type": "markdown",
   "metadata": {},
   "source": [
    "<h4 style=\"color:red\">Figure 1C:</h4><p>Distribution of Coupon not Accepted (Y=0) by drivers without/with Passengers categories</p>"
   ]
  },
  {
   "cell_type": "code",
   "execution_count": 1155,
   "metadata": {},
   "outputs": [
    {
     "data": {
      "image/png": "[encoded data removed]",
      "text/plain": [
       "<Figure size 432x288 with 1 Axes>"
      ]
     },
     "metadata": {},
     "output_type": "display_data"
    }
   ],
   "source": [
    "sns.countplot(x=\"passanger\", data=data.query(\"Y==0\"),hue=\"coupon\",edgecolor=\"black\")\n",
    "plt.title('Histogram of Coupon not Accepted (Y=0) by drivers without/with Passengers')\n",
    "# Set x-axis label\n",
    "plt.xlabel('passengers')\n",
    "# Set y-axis label\n",
    "plt.ylabel('count')\n",
    "plt.legend(bbox_to_anchor=(1.02, 1), loc='upper left')\n",
    "plt.savefig('Will-a-Customer-Accept-the-Coupon/images/countplotnoacceptedcouponbypassengers.png')"
   ]
  },
  {
   "cell_type": "markdown",
   "metadata": {},
   "source": [
    "<h4 style=\"color:red\">Figure 1D:</h4><p>Combine histogram of Coupon Accepted (Y=1) and not Accepted (Y=0) by drivers without/with Passenger Categories, and coupons</p>"
   ]
  },
  {
   "cell_type": "markdown",
   "metadata": {},
   "source": [
    "<p style=\"font-weight: bold;text-decoration: underline\">Observation: </p><p>This catplot plot is very illustrative, since it is well clear that the \"Restaurant(<20)\" and \"Carry Out & Take away\" coupons are favored in term of acceptance compare to the rest of coupons, i.e. (\"Bar\", \"Restaurant(20-50)\")</p>"
   ]
  },
  {
   "cell_type": "code",
   "execution_count": 1156,
   "metadata": {},
   "outputs": [
    {
     "data": {
      "image/png": "[encoded data removed]",
      "text/plain": [
       "<Figure size 1053.73x288 with 5 Axes>"
      ]
     },
     "metadata": {},
     "output_type": "display_data"
    }
   ],
   "source": [
    "sns.catplot(x=\"passanger\", data=data,col=\"coupon\",hue=\"Y\",edgecolor=\"black\",kind=\"count\",\n",
    "                height=4, aspect=0.7,palette=sns.color_palette(['red', 'green']))\n",
    "plt.savefig('Will-a-Customer-Accept-the-Coupon/images/catplotcouponacceptednoaccepteddriversbypassenger.png')"
   ]
  },
  {
   "cell_type": "markdown",
   "metadata": {},
   "source": [
    "<h4 style=\"color:red\">Figure 1E:</h4><p>Combine histogram of Coupon Accepted (Y=1) and not Accepted (Y=0) by Passenger Categories, and expiration of the coupon (2h and 24h).</p>"
   ]
  },
  {
   "cell_type": "markdown",
   "metadata": {},
   "source": [
    "<p style=\"font-weight: bold;text-decoration: underline\">Observation: </p><p>Again, the catplot is very illustrative, since it is well clear that the drivers with/without passengers accepted much more the coupons that expire in 24 hours (i.e, 1 day).</p>"
   ]
  },
  {
   "cell_type": "code",
   "execution_count": 1157,
   "metadata": {},
   "outputs": [
    {
     "data": {
      "image/png": "[encoded data removed]",
      "text/plain": [
       "<Figure size 621.725x288 with 2 Axes>"
      ]
     },
     "metadata": {},
     "output_type": "display_data"
    }
   ],
   "source": [
    "sns.catplot(x=\"passanger\", data=data,col=\"expiration\",hue=\"Y\",edgecolor=\"black\",kind=\"count\",\n",
    "                height=4, aspect=1,palette=sns.color_palette(['red', 'green']))\n",
    "plt.savefig('Will-a-Customer-Accept-the-Coupon/images/catplotexpirationacceptednoaccepteddriversbypassenger.png')"
   ]
  },
  {
   "cell_type": "markdown",
   "metadata": {},
   "source": [
    "<h4 style=\"color:red\">Figure 1F:</h4><p>Combine histogram of Coupon Accepted (Y=1) and not Accepted (Y=0) by drivers without/with Passenger Categories, and Ages.</p>"
   ]
  },
  {
   "cell_type": "markdown",
   "metadata": {},
   "source": [
    "<p style=\"font-weight: bold;text-decoration: underline\">Observation: </p><p>The catplot below indicates that drivers with /without passengers with ages of 21 and 26 are much more keen to accept the coupons</p>"
   ]
  },
  {
   "cell_type": "code",
   "execution_count": 1158,
   "metadata": {},
   "outputs": [
    {
     "data": {
      "image/png": "[encoded data removed]",
      "text/plain": [
       "<Figure size 1773.72x360 with 8 Axes>"
      ]
     },
     "metadata": {},
     "output_type": "display_data"
    }
   ],
   "source": [
    "sns.catplot(x=\"passanger\", data=data,col=\"age\",hue=\"Y\",edgecolor=\"black\",kind=\"count\",\n",
    "                height=5, aspect=0.6,palette=sns.color_palette(['red', 'green']))\n",
    "plt.savefig('Will-a-Customer-Accept-the-Coupon/images/catplotagesacceptednoaccepteddriversbypassenger.png')"
   ]
  },
  {
   "cell_type": "markdown",
   "metadata": {},
   "source": [
    "<h4 style=\"color:red\">Figure 1G:</h4><p>Combine histogram of Coupon Accepted (Y=1) and not Accepted (Y=0) by drivers without/with Passenger Categories, and Marital Status (2h and 24h).</p>"
   ]
  },
  {
   "cell_type": "code",
   "execution_count": 1161,
   "metadata": {},
   "outputs": [
    {
     "data": {
      "image/png": "[encoded data removed]",
      "text/plain": [
       "<Figure size 1053.73x288 with 5 Axes>"
      ]
     },
     "metadata": {},
     "output_type": "display_data"
    }
   ],
   "source": [
    "sns.catplot(x=\"passanger\", data=data,col=\"maritalStatus\",hue=\"Y\",edgecolor=\"black\",kind=\"count\",\n",
    "                height=4, aspect=0.7,palette=sns.color_palette(['red', 'green']))\n",
    "plt.savefig('Will-a-Customer-Accept-the-Coupon/images/catplotmaritalstatusacceptednoaccepteddriversbypassenger.png')"
   ]
  },
  {
   "cell_type": "markdown",
   "metadata": {},
   "source": [
    "<h4 style=\"color:red\">Figure 1H:</h4><p>Combine histogram of Coupon Accepted (Y=1) and not Accepted (Y=0) by drivers without/with  Passenger Categories, and Temperatures.</p>"
   ]
  },
  {
   "cell_type": "markdown",
   "metadata": {},
   "source": [
    "<p style=\"font-weight: bold;text-decoration: underline\">Observation: </p><p>The catplot below indicates that drivers with /without passengers  are more keen to accept the coupons when temperatures are warmer</p>"
   ]
  },
  {
   "cell_type": "code",
   "execution_count": 1163,
   "metadata": {},
   "outputs": [
    {
     "data": {
      "image/png": "[encoded data removed]",
      "text/plain": [
       "<Figure size 909.725x288 with 3 Axes>"
      ]
     },
     "metadata": {},
     "output_type": "display_data"
    }
   ],
   "source": [
    "sns.catplot(x=\"passanger\", data=data,col=\"temperature\",hue=\"Y\",edgecolor=\"black\",kind=\"count\",\n",
    "                height=4, aspect=1,palette=sns.color_palette(['red', 'green']))\n",
    "plt.savefig('Will-a-Customer-Accept-the-Coupon/images/catplottemperaturesacceptednoaccepteddriversbypassenger.png')"
   ]
  },
  {
   "cell_type": "markdown",
   "metadata": {},
   "source": [
    "<h4 style=\"color:red\">Figure 1I:</h4><p>Combine distribution of Coupon Accepted (Y=1) and not Accepted (Y=0) by drivers without/with Passenger Categories, and Weather.</p>"
   ]
  },
  {
   "cell_type": "markdown",
   "metadata": {},
   "source": [
    "<p style=\"font-weight: bold;text-decoration: underline\">Observation: </p><p>The catplot below indicates that drivers with /without passengers  are more than willing to accept the coupons when the day is sunny.</p>"
   ]
  },
  {
   "cell_type": "code",
   "execution_count": 1165,
   "metadata": {},
   "outputs": [
    {
     "data": {
      "image/png": "[encoded data removed]",
      "text/plain": [
       "<Figure size 909.725x288 with 3 Axes>"
      ]
     },
     "metadata": {},
     "output_type": "display_data"
    }
   ],
   "source": [
    "sns.catplot(x=\"passanger\", data=data,col=\"weather\",hue=\"Y\",edgecolor=\"black\",kind=\"count\",\n",
    "                height=4, aspect=1,palette=sns.color_palette(['red', 'green']))\n",
    "plt.savefig('Will-a-Customer-Accept-the-Coupon/images/catplotweatheracceptednoaccepteddriversbypassenger.png')"
   ]
  },
  {
   "cell_type": "markdown",
   "metadata": {},
   "source": [
    "<h4 style=\"color:red\">Figure 1I:</h4><p>Combine distribution of Coupon Accepted (Y=1) and not Accepted (Y=0) by drivers with/without Passenger Categories, and Gender.</p>"
   ]
  },
  {
   "cell_type": "markdown",
   "metadata": {},
   "source": [
    "<p style=\"font-weight: bold;text-decoration: underline\">Observation: </p><p>The catplot below indicates that the male drivers with /without passengers  seem to accept more the coupons than not when compare with the female drivers.</p>"
   ]
  },
  {
   "cell_type": "code",
   "execution_count": 1166,
   "metadata": {},
   "outputs": [
    {
     "data": {
      "image/png": "[encoded data removed]",
      "text/plain": [
       "<Figure size 621.725x288 with 2 Axes>"
      ]
     },
     "metadata": {},
     "output_type": "display_data"
    }
   ],
   "source": [
    "sns.catplot(x=\"passanger\", data=data,col=\"gender\",hue=\"Y\",edgecolor=\"black\",kind=\"count\",\n",
    "                height=4, aspect=1,palette=sns.color_palette(['red', 'green']))\n",
    "plt.savefig('Will-a-Customer-Accept-the-Coupon/images/catplotgenderacceptednoaccepteddriversbypassenger.png')"
   ]
  },
  {
   "cell_type": "markdown",
   "metadata": {},
   "source": [
    "<h3 style=\"Font:Bold\">Income ranges for different levels in the passanger column of the data DataFrame using Seaborn Boxplot:</h3>"
   ]
  },
  {
   "cell_type": "markdown",
   "metadata": {},
   "source": [
    "<h4 style=\"color:red\">Figure 2A:</h4><p>Boxplot for Income by drivers with/without passengers who did accept the coupon (Y=1)</p>"
   ]
  },
  {
   "cell_type": "markdown",
   "metadata": {},
   "source": [
    "<p style=\"font-weight: bold;text-decoration: underline\">Observation: </p><p>The boxplot Figure 2A below indicates that the drivers without passsenger, i.e, \"Alone\", and with \"Friends\" have about the same median income, but quite lower than the rest of drivers with  passenger groups  \"Kid(s)\", and \"Partner\".</p><p> Quite similar observation is applied by comparing </p><p style=\"font-weight: bold\">the mean income among those groups who accepted the coupon as indicated by the white small circle markers posted </p> <p>on same aforementioned figure.These observations make sense based on figure 1B, where the groups that did accept more coupon are the drivers without passenger, i.e, \"Alone\", and the ones with \"Friend(s)\". Basically, it is expected that groups with lower income media will be more keen to accept coupons. it is also important to highlight that the drivers without/with passengers who did not accept the coupon (Y=0) have higher mean income.</p>"
   ]
  },
  {
   "cell_type": "code",
   "execution_count": 1300,
   "metadata": {},
   "outputs": [
    {
     "data": {
      "image/png": "[encoded data removed]",
      "text/plain": [
       "<Figure size 720x360 with 1 Axes>"
      ]
     },
     "metadata": {},
     "output_type": "display_data"
    }
   ],
   "source": [
    "plt.figure(figsize=(10,5))\n",
    "plt.ylim(0,120000)\n",
    "sns.boxplot(x='passanger', y='income', hue=\"coupon\",showmeans=True,meanprops={\"marker\":\"o\",\n",
    "                       \"markerfacecolor\":\"white\", \n",
    "                       \"markeredgecolor\":\"black\",\n",
    "                      \"markersize\":\"7\"},data=data.query(\"Y==1\"))\n",
    "plt.title(\"Income by drivers without/with passengers who accepted the coupon (Y=1)\")\n",
    "# Set x-axis label\n",
    "plt.xlabel('passengers')\n",
    "# Set y-axis label\n",
    "plt.legend(bbox_to_anchor=(1.02, 1), loc='upper left')\n",
    "plt.ylabel('Income')\n",
    "plt.savefig('Will-a-Customer-Accept-the-Coupon/images/boxplotincomeacceptbypassenger.png')\n",
    "plt.show()"
   ]
  },
  {
   "cell_type": "markdown",
   "metadata": {},
   "source": [
    "<h4 style=\"color:red\">Figure 2B:</h4><p>Boxplot for Income by drivers with/without passengers who did not accept the coupon (Y=0)</p>"
   ]
  },
  {
   "cell_type": "code",
   "execution_count": 1168,
   "metadata": {},
   "outputs": [
    {
     "data": {
      "image/png": "[encoded data removed]",
      "text/plain": [
       "<Figure size 720x360 with 1 Axes>"
      ]
     },
     "metadata": {},
     "output_type": "display_data"
    }
   ],
   "source": [
    "plt.figure(figsize=(10,5))\n",
    "plt.ylim(0,120000)\n",
    "sns.boxplot(x='passanger', y='income', hue=\"coupon\",showmeans=True,meanprops={\"marker\":\"o\",\n",
    "                       \"markerfacecolor\":\"white\", \n",
    "                       \"markeredgecolor\":\"black\",\n",
    "                      \"markersize\":\"7\"},data=data.query(\"Y==0\"))\n",
    "plt.title(\"Income by drivers without/with passengers who did not accept the coupon (Y=0)\")\n",
    "# Set x-axis label\n",
    "plt.xlabel('passengers')\n",
    "# Set y-axis label\n",
    "plt.legend(bbox_to_anchor=(1.02, 1), loc='upper left')\n",
    "plt.ylabel('Income')\n",
    "plt.savefig('Will-a-Customer-Accept-the-Coupon/images/boxplotincomenoacceptbypassenger.png')\n",
    "plt.show()"
   ]
  },
  {
   "cell_type": "markdown",
   "metadata": {},
   "source": [
    "<h4 style=\"color:red\">Figure 2C:</h4><p>Boxplot for Ages by drivers with/without passengers who did accept the coupon (Y=1)</p>"
   ]
  },
  {
   "cell_type": "markdown",
   "metadata": {},
   "source": [
    "<p style=\"font-weight: bold;text-decoration: underline\">Observation: </p><p>The boxplot Figure 2C below indicates that the drivers without passsenger, i.e, \"Alone\", and with \"Friends\"  have about the same mean age range (please see the small white circles) the through the different coupons categories, i.e. drivers without and with the aforementioned passengers in their early 30's are more willing to accept the coupons (Y=1). Conversely, the drivers with / without passengers who did not accept the coupon (Y=0) are a bit older as shown on figure 2D. </p>"
   ]
  },
  {
   "cell_type": "code",
   "execution_count": 1173,
   "metadata": {},
   "outputs": [
    {
     "data": {
      "image/png": "[encoded data removed]",
      "text/plain": [
       "<Figure size 720x360 with 1 Axes>"
      ]
     },
     "metadata": {},
     "output_type": "display_data"
    }
   ],
   "source": [
    "plt.figure(figsize=(10,5))\n",
    "plt.ylim(10,60)\n",
    "sns.boxplot(x='passanger', y='age', hue=\"coupon\",showmeans=True,meanprops={\"marker\":\"o\",\n",
    "                       \"markerfacecolor\":\"white\", \n",
    "                       \"markeredgecolor\":\"black\",\n",
    "                      \"markersize\":\"7\"},data=data.query(\"Y==1\"))\n",
    "plt.title(\"age by drivers without/with passengers who accepted the coupon (Y=1)\")\n",
    "# Set x-axis label\n",
    "plt.xlabel('passengers')\n",
    "# Set y-axis label\n",
    "plt.legend(bbox_to_anchor=(1.02, 1), loc='upper left')\n",
    "plt.ylabel('Age')\n",
    "plt.savefig('Will-a-Customer-Accept-the-Coupon/images/boxplotagesacceptbypassenger.png')\n",
    "plt.show()"
   ]
  },
  {
   "cell_type": "markdown",
   "metadata": {},
   "source": [
    "<h4 style=\"color:red\">Figure 2D:</h4><p>Boxplot for Ages by drivers with/without passengers who did accept the coupon (Y=0)</p>"
   ]
  },
  {
   "cell_type": "code",
   "execution_count": 1174,
   "metadata": {},
   "outputs": [
    {
     "data": {
      "image/png": "[encoded data removed]",
      "text/plain": [
       "<Figure size 720x360 with 1 Axes>"
      ]
     },
     "metadata": {},
     "output_type": "display_data"
    }
   ],
   "source": [
    "plt.figure(figsize=(10,5))\n",
    "plt.ylim(10,60)\n",
    "sns.boxplot(x='passanger', y='age', hue=\"coupon\",showmeans=True,meanprops={\"marker\":\"o\",\n",
    "                       \"markerfacecolor\":\"white\", \n",
    "                       \"markeredgecolor\":\"black\",\n",
    "                      \"markersize\":\"7\"},data=data.query(\"Y==0\"))\n",
    "plt.title(\"age by drivers without/with passengers who accepted the coupon (Y=0)\")\n",
    "# Set x-axis label\n",
    "plt.xlabel('passengers')\n",
    "# Set y-axis label\n",
    "plt.legend(bbox_to_anchor=(1.02, 1), loc='upper left')\n",
    "plt.ylabel('Age')\n",
    "plt.savefig('Will-a-Customer-Accept-the-Coupon/images/boxplotagesnoacceptbypassenger.png')\n",
    "plt.show()"
   ]
  },
  {
   "cell_type": "markdown",
   "metadata": {},
   "source": [
    "<h4 style=\"color:red\">Figure 3A:</h4><p>Compare the income for the combinations of levels in drivers without/with passenger who did accept the coupon (Y=1), and coupon columns using Pandas Pivot and Seaborn Heatmap</p>"
   ]
  },
  {
   "cell_type": "markdown",
   "metadata": {},
   "source": [
    "<p style=\"font-weight: bold;text-decoration: underline\">Observation: </p><p>The heatmap below clearly indicates that the drivers without passengersi.e, \"Alone\" that accepted coupons seem to earn less income as evidenced by the less intense red colors.</p>"
   ]
  },
  {
   "cell_type": "code",
   "execution_count": 1305,
   "metadata": {},
   "outputs": [
    {
     "data": {
      "image/png": "[encoded data removed]",
      "text/plain": [
       "<Figure size 720x432 with 2 Axes>"
      ]
     },
     "metadata": {},
     "output_type": "display_data"
    }
   ],
   "source": [
    "def feature_interactions(df,feature1, feature2,continuous_col):\n",
    "    group = df.groupby([feature1,feature2],as_index=False)[continuous_col].mean().reset_index(drop=True)\n",
    "    pivot = group.pivot(index=feature1, columns=feature2, values=continuous_col)\n",
    "    pivot.fillna(0, inplace=True)\n",
    "    plt.figure(figsize=(10,6))\n",
    "    plt.title(\"Heatmap income by drivers without/with passengers who accepted the coupon (Y=1)\")\n",
    "    sns.heatmap(pivot,cmap='Reds',linewidths=2, linecolor='yellow',cbar_kws={'label': 'income'})\n",
    "    plt.savefig('Will-a-Customer-Accept-the-Coupon/images/heatmapincomecceptbypassenger.png')\n",
    "    plt.show()\n",
    "\n",
    "feature_interactions(data.query(\"Y==1\"),'coupon','passanger','income')"
   ]
  },
  {
   "cell_type": "markdown",
   "metadata": {},
   "source": [
    "<h4 style=\"color:red\">Figure 3B:</h4><p>Compare the income for the combinations of levels in drivers without/with passenger who did not accept the coupon (Y=0), and coupon columns using Pandas Pivot and Seaborn Heatmap</p>"
   ]
  },
  {
   "cell_type": "code",
   "execution_count": null,
   "metadata": {},
   "outputs": [],
   "source": [
    "<p style=\"font-weight: bold;text-decoration: underline\">Observation: </p><p>Same aforementioned comments made on Figure 3A are applicable when coupons are not accepted.</p>"
   ]
  },
  {
   "cell_type": "code",
   "execution_count": 1177,
   "metadata": {},
   "outputs": [
    {
     "data": {
      "image/png": "[encoded data removed]",
      "text/plain": [
       "<Figure size 720x432 with 2 Axes>"
      ]
     },
     "metadata": {},
     "output_type": "display_data"
    }
   ],
   "source": [
    "def feature_interactions(df,feature1, feature2,continuous_col):\n",
    "    group = df.groupby([feature1,feature2],as_index=False)[continuous_col].mean().reset_index(drop=True)\n",
    "    pivot = group.pivot(index=feature1, columns=feature2, values=continuous_col)\n",
    "    pivot.fillna(0, inplace=True)\n",
    "    plt.figure(figsize=(10,6))\n",
    "    sns.heatmap(pivot,cmap='Reds',linewidths=2, linecolor='yellow',cbar_kws={'label': 'income'})\n",
    "    plt.savefig('Will-a-Customer-Accept-the-Coupon/images/heatmapincomenoacceptbypassenger.png')\n",
    "    plt.show()\n",
    "\n",
    "feature_interactions(data.query(\"Y==0\"),'coupon','passanger','income')"
   ]
  },
  {
   "cell_type": "markdown",
   "metadata": {},
   "source": [
    "<h3 style=\"Font:Bold\">Conditional Probababilities  & Visualization of results for each drivers without and with passengers  categories who accepted (Y=1) and did not accept(Y=0) the  coupons (\"Restaurant(<20)\",\"Coffee House\",\"Carry out & Take away\",\"Bar\", \"Restaurant(20-50)\").</h3>"
   ]
  },
  {
   "cell_type": "markdown",
   "metadata": {},
   "source": [
    "<h4 style=\"Font:Bold\">4. Estimation Conditional Probababilities for drivers without passanger ('Alone') who acceped and did not accept the different coupons (\"Restaurant(<20)\", \"Coffee House\",\"Carry out & Take away\",\"Bar\",\"Restaurant(20-50)\")</h4>"
   ]
  },
  {
   "cell_type": "markdown",
   "metadata": {},
   "source": [
    "<h4 style=\"color:red\">4A.</h4><p> What is the probability given that drivers without passanger ('Alone') accepted \"Restaurant(<20)\"\" coupon?"
   ]
  },
  {
   "cell_type": "code",
   "execution_count": 1178,
   "metadata": {},
   "outputs": [
    {
     "name": "stdout",
     "output_type": "stream",
     "text": [
      "Alone    0.125394\n",
      "Name: passanger, dtype: float64\n"
     ]
    }
   ],
   "source": [
    "Alone_passanger_1=data.query(\"passanger =='Alone'\")[\"passanger\"].value_counts()\n",
    "Alone_passanger_acceptedRestaurant20 =data.query(\"passanger =='Alone' & coupon=='Restaurant(<20)' & Y ==1\")[\"passanger\"].value_counts()\n",
    "p_Alone_passanger_acceptedRestaurant20_Alone_passanger =(Alone_passanger_acceptedRestaurant20/Alone_passanger_1)\n",
    "print(p_Alone_passanger_acceptedRestaurant20_Alone_passanger)"
   ]
  },
  {
   "cell_type": "markdown",
   "metadata": {},
   "source": [
    "<h4 style=\"color:red\">4B.</h4><p> What is the probability given that drivers without passanger ('Alone') did not accept \"Restaurant(<20)\"\" coupon?"
   ]
  },
  {
   "cell_type": "code",
   "execution_count": 1179,
   "metadata": {},
   "outputs": [
    {
     "name": "stdout",
     "output_type": "stream",
     "text": [
      "Alone    0.071047\n",
      "Name: passanger, dtype: float64\n"
     ]
    }
   ],
   "source": [
    "Alone_passanger_1=data.query(\"passanger =='Alone'\")[\"passanger\"].value_counts()\n",
    "Alone_passanger_noacceptedRestaurant20=data.query(\"passanger =='Alone' & coupon=='Restaurant(<20)' & Y ==0\")[\"passanger\"].value_counts()\n",
    "p_Alone_passanger_noacceptedRestaurant20_Alone_passanger=(Alone_passanger_noacceptedRestaurant20/Alone_passanger_1)\n",
    "print(p_Alone_passanger_noacceptedRestaurant20_Alone_passanger)"
   ]
  },
  {
   "cell_type": "markdown",
   "metadata": {},
   "source": [
    "<h4 style=\"color:red\">4C.</h4><p> What is the probability given that drivers without passanger ('Alone') accepted \"Coffee House\" coupon?"
   ]
  },
  {
   "cell_type": "code",
   "execution_count": 1180,
   "metadata": {},
   "outputs": [
    {
     "name": "stdout",
     "output_type": "stream",
     "text": [
      "Alone    0.13525\n",
      "Name: passanger, dtype: float64\n"
     ]
    }
   ],
   "source": [
    "Alone_passanger_1=data.query(\"passanger =='Alone'\")[\"passanger\"].value_counts()\n",
    "Alone_passanger_acceptedCoffeeHouse=data.query(\"passanger =='Alone' & coupon=='Coffee House' & Y ==1\")[\"passanger\"].value_counts()\n",
    "p_Alone_passanger_acceptedCoffeeHouse_Alone_passanger=(Alone_passanger_acceptedCoffeeHouse/Alone_passanger_1)\n",
    "print(p_Alone_passanger_acceptedCoffeeHouse_Alone_passanger)"
   ]
  },
  {
   "cell_type": "markdown",
   "metadata": {},
   "source": [
    "<h4 style=\"color:red\">4D.</h4><p> What is the probability given that drivers without passanger ('Alone') did not accept \"Coffee House\" coupon?"
   ]
  },
  {
   "cell_type": "code",
   "execution_count": 1181,
   "metadata": {},
   "outputs": [
    {
     "name": "stdout",
     "output_type": "stream",
     "text": [
      "Alone    0.17358\n",
      "Name: passanger, dtype: float64\n"
     ]
    }
   ],
   "source": [
    "Alone_passanger_1=data.query(\"passanger =='Alone'\")[\"passanger\"].value_counts()\n",
    "Alone_passanger_noacceptedCoffeeHouse=data.query(\"passanger =='Alone' & coupon=='Coffee House' & Y ==0\")[\"passanger\"].value_counts()\n",
    "p_Alone_passanger_noacceptedCoffeeHouse_Alone_passanger=(Alone_passanger_noacceptedCoffeeHouse/Alone_passanger_1)\n",
    "print(p_Alone_passanger_noacceptedCoffeeHouse_Alone_passanger)"
   ]
  },
  {
   "cell_type": "markdown",
   "metadata": {},
   "source": [
    "<h4 style=\"color:red\">4E.</h4><p> What is the probability given that drivers without passanger ('Alone') accepted \"Carry out & Take away\" coupon?"
   ]
  },
  {
   "cell_type": "code",
   "execution_count": 1182,
   "metadata": {},
   "outputs": [
    {
     "name": "stdout",
     "output_type": "stream",
     "text": [
      "Alone    0.139904\n",
      "Name: passanger, dtype: float64\n"
     ]
    }
   ],
   "source": [
    "Alone_passanger_1=data.query(\"passanger =='Alone'\")[\"passanger\"].value_counts()\n",
    "Alone_passanger_acceptedCarryoutTakeaway=data.query(\"passanger =='Alone' & coupon=='Carry out & Take away' & Y ==1\")[\"passanger\"].value_counts()\n",
    "p_Alone_passanger_acceptedCarryoutTakeaway_Alone_passanger=(Alone_passanger_acceptedCarryoutTakeaway/Alone_passanger_1)\n",
    "print(p_Alone_passanger_acceptedCarryoutTakeaway_Alone_passanger)"
   ]
  },
  {
   "cell_type": "markdown",
   "metadata": {},
   "source": [
    "<h4 style=\"color:red\">4F.</h4><p> What is the probability given that drivers without passanger ('Alone') did not accept \"Carry out & Take away\" coupon??"
   ]
  },
  {
   "cell_type": "code",
   "execution_count": 1183,
   "metadata": {},
   "outputs": [
    {
     "name": "stdout",
     "output_type": "stream",
     "text": [
      "Alone    0.05243\n",
      "Name: passanger, dtype: float64\n"
     ]
    }
   ],
   "source": [
    "Alone_passanger_1=data.query(\"passanger =='Alone'\")[\"passanger\"].value_counts()\n",
    "Alone_passanger_noacceptedCarryoutTakeaway=data.query(\"passanger =='Alone' & coupon=='Carry out & Take away' & Y ==0\")[\"passanger\"].value_counts()\n",
    "p_Alone_passanger_noacceptedCarryoutTakeaway_Alone_passanger=(Alone_passanger_noacceptedCarryoutTakeaway/Alone_passanger_1)\n",
    "print(p_Alone_passanger_noacceptedCarryoutTakeaway_Alone_passanger)"
   ]
  },
  {
   "cell_type": "markdown",
   "metadata": {},
   "source": [
    "<h4 style=\"color:red\">4G.</h4><p> What is the probability given that drivers without passanger ('Alone') accepted \"Bar\" coupon?"
   ]
  },
  {
   "cell_type": "code",
   "execution_count": 1184,
   "metadata": {},
   "outputs": [
    {
     "name": "stdout",
     "output_type": "stream",
     "text": [
      "Alone    0.06694\n",
      "Name: passanger, dtype: float64\n"
     ]
    }
   ],
   "source": [
    "Alone_passanger_1=data.query(\"passanger =='Alone'\")[\"passanger\"].value_counts()\n",
    "Alone_passanger_acceptedBar=data.query(\"passanger =='Alone' & coupon=='Bar' & Y ==1\")[\"passanger\"].value_counts()\n",
    "p_Alone_passanger_acceptedBar_Alone_passanger=(Alone_passanger_acceptedBar/Alone_passanger_1)\n",
    "print(p_Alone_passanger_acceptedBar_Alone_passanger)"
   ]
  },
  {
   "cell_type": "markdown",
   "metadata": {},
   "source": [
    "<h4 style=\"color:red\">4H.</h4><p> What is the probability given that drivers without passanger ('Alone') did not accept \"Bar\" coupon?"
   ]
  },
  {
   "cell_type": "code",
   "execution_count": 1185,
   "metadata": {},
   "outputs": [
    {
     "name": "stdout",
     "output_type": "stream",
     "text": [
      "Alone    0.097331\n",
      "Name: passanger, dtype: float64\n"
     ]
    }
   ],
   "source": [
    "Alone_passanger_1=data.query(\"passanger =='Alone'\")[\"passanger\"].value_counts()\n",
    "Alone_passanger_acceptedBar=data.query(\"passanger =='Alone' & coupon=='Bar' & Y ==0\")[\"passanger\"].value_counts()\n",
    "p_Alone_passanger_acceptedBar_Alone_passanger=(Alone_passanger_acceptedBar/Alone_passanger_1)\n",
    "print(p_Alone_passanger_acceptedBar_Alone_passanger)"
   ]
  },
  {
   "cell_type": "markdown",
   "metadata": {},
   "source": [
    "<h4 style=\"color:red\">4I.</h4><p> What is the probability given that drivers without passanger ('Alone') accepted \"Restaurant(20-50)\"  coupon?"
   ]
  },
  {
   "cell_type": "code",
   "execution_count": 1186,
   "metadata": {},
   "outputs": [
    {
     "name": "stdout",
     "output_type": "stream",
     "text": [
      "Alone    0.058316\n",
      "Name: passanger, dtype: float64\n"
     ]
    }
   ],
   "source": [
    "Alone_passanger_1=data.query(\"passanger =='Alone'\")[\"passanger\"].value_counts()\n",
    "Alone_passanger_acceptedRestaurant2050=data.query(\"passanger =='Alone' & coupon=='Restaurant(20-50)' & Y ==1\")[\"passanger\"].value_counts()\n",
    "p_Alone_passanger_acceptedRestaurant2050_Alone_passanger=(Alone_passanger_acceptedRestaurant2050/Alone_passanger_1)\n",
    "print(p_Alone_passanger_acceptedRestaurant2050_Alone_passanger)"
   ]
  },
  {
   "cell_type": "markdown",
   "metadata": {},
   "source": [
    "<h4 style=\"color:red\">4L.</h4><p> What is the probability given that drivers without passanger ('Alone') did not accept \"Restaurant(20-50)\"  coupon?"
   ]
  },
  {
   "cell_type": "code",
   "execution_count": 1187,
   "metadata": {},
   "outputs": [
    {
     "name": "stdout",
     "output_type": "stream",
     "text": [
      "Alone    0.079808\n",
      "Name: passanger, dtype: float64\n"
     ]
    }
   ],
   "source": [
    "Alone_passanger_1=data.query(\"passanger =='Alone'\")[\"passanger\"].value_counts()\n",
    "Alone_passanger_noacceptedRestaurant2050=data.query(\"passanger =='Alone' & coupon=='Restaurant(20-50)' & Y ==0\")[\"passanger\"].value_counts()\n",
    "p_Alone_passanger_noacceptedRestaurant2050_Alone_passanger=(Alone_passanger_noacceptedRestaurant2050/Alone_passanger_1)\n",
    "print(p_Alone_passanger_noacceptedRestaurant2050_Alone_passanger)"
   ]
  },
  {
   "cell_type": "markdown",
   "metadata": {},
   "source": [
    "<h4 style=\"Font:Bold\">5. Estimation Conditional Probababilities for drivers with passanger ('Friend(s)') who accepted and did not accept the different coupons (\"Restaurant(<20)\", \"Coffee House\",\"Carry out & Take away\",\"Bar\",\"Restaurant(20-50)\")</h4>"
   ]
  },
  {
   "cell_type": "markdown",
   "metadata": {},
   "source": [
    "<h4 style=\"color:red\">5A.</h4><p> What is the probability given that drivers with passanger ('Friend(s)') accepted \"Restaurant(<20)\" coupon?"
   ]
  },
  {
   "cell_type": "code",
   "execution_count": 1188,
   "metadata": {},
   "outputs": [
    {
     "name": "stdout",
     "output_type": "stream",
     "text": [
      "Friend(s)    0.200728\n",
      "Name: passanger, dtype: float64\n"
     ]
    }
   ],
   "source": [
    "Friends_passanger_1=data.query(\"passanger =='Friend(s)'\")[\"passanger\"].value_counts()\n",
    "Friends_passanger_acceptedRestaurant20 =data.query(\"passanger =='Friend(s)' & coupon=='Restaurant(<20)' & Y ==1\")[\"passanger\"].value_counts()\n",
    "p_Friends_passanger_acceptedRestaurant20_Friends_passanger =(Friends_passanger_acceptedRestaurant20/Friends_passanger_1)\n",
    "print(p_Friends_passanger_acceptedRestaurant20_Friends_passanger)"
   ]
  },
  {
   "cell_type": "markdown",
   "metadata": {},
   "source": [
    "<h4 style=\"color:red\">5B.</h4><p> What is the probability given that drivers with passanger ('Friend(s)') did not accept \"Restaurant(<20)\" coupon?"
   ]
  },
  {
   "cell_type": "code",
   "execution_count": 1189,
   "metadata": {},
   "outputs": [
    {
     "name": "stdout",
     "output_type": "stream",
     "text": [
      "Friend(s)    0.049727\n",
      "Name: passanger, dtype: float64\n"
     ]
    }
   ],
   "source": [
    "Friends_passanger_1=data.query(\"passanger =='Friend(s)'\")[\"passanger\"].value_counts()\n",
    "Friends_passanger_noacceptedRestaurant20 =data.query(\"passanger =='Friend(s)' & coupon=='Restaurant(<20)' & Y ==0\")[\"passanger\"].value_counts()\n",
    "p_Friends_passanger_noacceptedRestaurant20_Friends_passanger =(Friends_passanger_noacceptedRestaurant20/Friends_passanger_1)\n",
    "print(p_Friends_passanger_noacceptedRestaurant20_Friends_passanger)"
   ]
  },
  {
   "cell_type": "markdown",
   "metadata": {},
   "source": [
    "<h4 style=\"color:red\">5C.</h4><p> What is the probability given that drivers with passanger ('Friend(s)') accepted \"Coffee House\" coupon?"
   ]
  },
  {
   "cell_type": "code",
   "execution_count": 1190,
   "metadata": {},
   "outputs": [
    {
     "name": "stdout",
     "output_type": "stream",
     "text": [
      "Friend(s)    0.222256\n",
      "Name: passanger, dtype: float64\n"
     ]
    }
   ],
   "source": [
    "Friends_passanger_1=data.query(\"passanger =='Friend(s)'\")[\"passanger\"].value_counts()\n",
    "Friends_passanger_acceptedCoffeeHouse =data.query(\"passanger =='Friend(s)' & coupon=='Coffee House' & Y ==1\")[\"passanger\"].value_counts()\n",
    "p_Friends_passanger_acceptedCoffeeHouse_Friends_passanger =(Friends_passanger_acceptedCoffeeHouse/Friends_passanger_1)\n",
    "print(p_Friends_passanger_acceptedCoffeeHouse_Friends_passanger)"
   ]
  },
  {
   "cell_type": "markdown",
   "metadata": {},
   "source": [
    "<h4 style=\"color:red\">5D.</h4><p> What is the probability given that drivers with passanger ('Friend(s)') did not accept \"Coffee House\" coupon?"
   ]
  },
  {
   "cell_type": "code",
   "execution_count": 1191,
   "metadata": {},
   "outputs": [
    {
     "name": "stdout",
     "output_type": "stream",
     "text": [
      "Friend(s)    0.150091\n",
      "Name: passanger, dtype: float64\n"
     ]
    }
   ],
   "source": [
    "Friends_passanger_1=data.query(\"passanger =='Friend(s)'\")[\"passanger\"].value_counts()\n",
    "Friends_passanger_noacceptedCoffeeHouse =data.query(\"passanger =='Friend(s)' & coupon=='Coffee House' & Y ==0\")[\"passanger\"].value_counts()\n",
    "p_Friends_passanger_noacceptedCoffeeHouse_Friends_passanger =(Friends_passanger_noacceptedCoffeeHouse/Friends_passanger_1)\n",
    "print(p_Friends_passanger_noacceptedCoffeeHouse_Friends_passanger)"
   ]
  },
  {
   "cell_type": "markdown",
   "metadata": {},
   "source": [
    "<h4 style=\"color:red\">5E.</h4><p> What is the probability given that drivers with passanger ('Friend(s)') accepted \"Carry out & Take away\" coupon?"
   ]
  },
  {
   "cell_type": "code",
   "execution_count": 1192,
   "metadata": {},
   "outputs": [
    {
     "name": "stdout",
     "output_type": "stream",
     "text": [
      "Friend(s)    0.1698\n",
      "Name: passanger, dtype: float64\n"
     ]
    }
   ],
   "source": [
    "Friends_passanger_1=data.query(\"passanger =='Friend(s)'\")[\"passanger\"].value_counts()\n",
    "Friends_passanger_acceptedCarryoutTakeaway =data.query(\"passanger =='Friend(s)' & coupon=='Carry out & Take away' & Y ==1\")[\"passanger\"].value_counts()\n",
    "p_Friends_passanger_acceptedCarryoutTakeaway_Friends_passanger =(Friends_passanger_acceptedCarryoutTakeaway/Friends_passanger_1)\n",
    "print(p_Friends_passanger_acceptedCarryoutTakeaway_Friends_passanger)"
   ]
  },
  {
   "cell_type": "markdown",
   "metadata": {},
   "source": [
    "<h4 style=\"color:red\">5F.</h4><p> What is the probability given that drivers with passanger ('Friend(s)') did not accept \"Carry out & Take away\" coupon?"
   ]
  },
  {
   "cell_type": "code",
   "execution_count": 1193,
   "metadata": {},
   "outputs": [
    {
     "name": "stdout",
     "output_type": "stream",
     "text": [
      "Friend(s)    0.054275\n",
      "Name: passanger, dtype: float64\n"
     ]
    }
   ],
   "source": [
    "Friends_passanger_1=data.query(\"passanger =='Friend(s)'\")[\"passanger\"].value_counts()\n",
    "Friends_passanger_acceptedCarryoutTakeaway =data.query(\"passanger =='Friend(s)' & coupon=='Carry out & Take away' & Y ==0\")[\"passanger\"].value_counts()\n",
    "p_Friends_passanger_acceptedCarryoutTakeaway_Friends_passanger =(Friends_passanger_acceptedCarryoutTakeaway/Friends_passanger_1)\n",
    "print(p_Friends_passanger_acceptedCarryoutTakeaway_Friends_passanger)"
   ]
  },
  {
   "cell_type": "markdown",
   "metadata": {},
   "source": [
    "<h4 style=\"color:red\">5G.</h4><p> What is the probability given that drivers with passanger ('Friend(s)') accepted \"Bar\" coupon?"
   ]
  },
  {
   "cell_type": "code",
   "execution_count": 1194,
   "metadata": {},
   "outputs": [
    {
     "name": "stdout",
     "output_type": "stream",
     "text": [
      "Friend(s)    0.057004\n",
      "Name: passanger, dtype: float64\n"
     ]
    }
   ],
   "source": [
    "Friends_passanger_1=data.query(\"passanger =='Friend(s)'\")[\"passanger\"].value_counts()\n",
    "Friends_passanger_acceptedBar =data.query(\"passanger =='Friend(s)' & coupon=='Bar' & Y ==1\")[\"passanger\"].value_counts()\n",
    "p_Friends_passanger_acceptedBar_Friends_passanger =(Friends_passanger_acceptedBar/Friends_passanger_1)\n",
    "print(p_Friends_passanger_acceptedBar_Friends_passanger)"
   ]
  },
  {
   "cell_type": "markdown",
   "metadata": {},
   "source": [
    "<h4 style=\"color:red\">5H.</h4><p> What is the probability given that drivers with passanger ('Friend(s)') did not accept \"Bar\" coupon?"
   ]
  },
  {
   "cell_type": "code",
   "execution_count": 1195,
   "metadata": {},
   "outputs": [
    {
     "name": "stdout",
     "output_type": "stream",
     "text": [
      "Friend(s)    0.045179\n",
      "Name: passanger, dtype: float64\n"
     ]
    }
   ],
   "source": [
    "Friends_passanger_1=data.query(\"passanger =='Friend(s)'\")[\"passanger\"].value_counts()\n",
    "Friends_passanger_noacceptedBar =data.query(\"passanger =='Friend(s)' & coupon=='Bar' & Y ==0\")[\"passanger\"].value_counts()\n",
    "p_Friends_passanger_noacceptedBar_Friends_passanger =(Friends_passanger_noacceptedBar/Friends_passanger_1)\n",
    "print(p_Friends_passanger_noacceptedBar_Friends_passanger)"
   ]
  },
  {
   "cell_type": "markdown",
   "metadata": {},
   "source": [
    "<h4 style=\"color:red\">5I.</h4><p> What is the probability given that drivers with passanger ('Friend(s)') accepted \"Restaurant(20-50)\" coupon?"
   ]
  },
  {
   "cell_type": "code",
   "execution_count": 1196,
   "metadata": {},
   "outputs": [
    {
     "name": "stdout",
     "output_type": "stream",
     "text": [
      "Friend(s)    0.023651\n",
      "Name: passanger, dtype: float64\n"
     ]
    }
   ],
   "source": [
    "Friends_passanger_1=data.query(\"passanger =='Friend(s)'\")[\"passanger\"].value_counts()\n",
    "Friends_passanger_acceptedRestaurant2050 =data.query(\"passanger =='Friend(s)' & coupon=='Restaurant(20-50)' & Y ==1\")[\"passanger\"].value_counts()\n",
    "p_Friends_passanger_acceptedRestaurant2050_Friends_passanger =(Friends_passanger_acceptedRestaurant2050 /Friends_passanger_1)\n",
    "print(p_Friends_passanger_acceptedRestaurant2050_Friends_passanger)"
   ]
  },
  {
   "cell_type": "markdown",
   "metadata": {},
   "source": [
    "<h4 style=\"color:red\">5L.</h4><p> What is the probability given that drivers with passanger ('Friend(s)') did not accept \"Restaurant(20-50)\" coupon?"
   ]
  },
  {
   "cell_type": "code",
   "execution_count": 1197,
   "metadata": {},
   "outputs": [
    {
     "name": "stdout",
     "output_type": "stream",
     "text": [
      "Friend(s)    0.027289\n",
      "Name: passanger, dtype: float64\n"
     ]
    }
   ],
   "source": [
    "Friends_passanger_1=data.query(\"passanger =='Friend(s)'\")[\"passanger\"].value_counts()\n",
    "Friends_passanger_acceptedRestaurant2050 =data.query(\"passanger =='Friend(s)' & coupon=='Restaurant(20-50)' & Y ==0\")[\"passanger\"].value_counts()\n",
    "p_Friends_passanger_acceptedRestaurant2050_Friends_passanger =(Friends_passanger_acceptedRestaurant2050 /Friends_passanger_1)\n",
    "print(p_Friends_passanger_acceptedRestaurant2050_Friends_passanger)"
   ]
  },
  {
   "cell_type": "markdown",
   "metadata": {},
   "source": [
    "<h4 style=\"Font:Bold\">6. Estimation Conditional Probababilities for drivers with passanger ('Partner') who accepted and did not accept the different coupons (\"Restaurant(<20)\", \"Coffee House\",\"Carry out & Take away\",\"Bar\",\"Restaurant(20-50)\")</h4>"
   ]
  },
  {
   "cell_type": "markdown",
   "metadata": {},
   "source": [
    "<h4 style=\"color:red\">6A.</h4><p> What is the probability given that drivers with passanger ('Partner') accepted \"Restaurant(<20)\" coupon?"
   ]
  },
  {
   "cell_type": "code",
   "execution_count": 1198,
   "metadata": {},
   "outputs": [
    {
     "name": "stdout",
     "output_type": "stream",
     "text": [
      "Partner    0.185116\n",
      "Name: passanger, dtype: float64\n"
     ]
    }
   ],
   "source": [
    "Partner_passanger_1=data.query(\"passanger =='Partner'\")[\"passanger\"].value_counts()\n",
    "Partner_passanger_acceptedRestaurant20 =data.query(\"passanger =='Partner' & coupon=='Restaurant(<20)' & Y ==1\")[\"passanger\"].value_counts()\n",
    "p_Partner_passanger_acceptedRestaurant20_Partner_passanger =(Partner_passanger_acceptedRestaurant20/Partner_passanger_1)\n",
    "print(p_Partner_passanger_acceptedRestaurant20_Partner_passanger)"
   ]
  },
  {
   "cell_type": "markdown",
   "metadata": {},
   "source": [
    "<h4 style=\"color:red\">6B.</h4><p> What is the probability given that drivers with passanger ('Partner') did not accept \"Restaurant(<20)\" coupon?"
   ]
  },
  {
   "cell_type": "code",
   "execution_count": 1199,
   "metadata": {},
   "outputs": [
    {
     "name": "stdout",
     "output_type": "stream",
     "text": [
      "Partner    0.054884\n",
      "Name: passanger, dtype: float64\n"
     ]
    }
   ],
   "source": [
    "Partner_passanger_1=data.query(\"passanger =='Partner'\")[\"passanger\"].value_counts()\n",
    "Partner_passanger_noacceptedRestaurant20 =data.query(\"passanger =='Partner' & coupon=='Restaurant(<20)' & Y ==0\")[\"passanger\"].value_counts()\n",
    "p_Partner_passanger_noacceptedRestaurant20_Partner_passanger =(Partner_passanger_noacceptedRestaurant20/Partner_passanger_1)\n",
    "print(p_Partner_passanger_noacceptedRestaurant20_Partner_passanger)"
   ]
  },
  {
   "cell_type": "markdown",
   "metadata": {},
   "source": [
    "<h4 style=\"color:red\">6C.</h4><p> What is the probability given that drivers with passanger ('Partner') accepted \"Coffee House\" coupon?"
   ]
  },
  {
   "cell_type": "code",
   "execution_count": 1200,
   "metadata": {},
   "outputs": [
    {
     "name": "stdout",
     "output_type": "stream",
     "text": [
      "Partner    0.16186\n",
      "Name: passanger, dtype: float64\n"
     ]
    }
   ],
   "source": [
    "Partner_passanger_1=data.query(\"passanger =='Partner'\")[\"passanger\"].value_counts()\n",
    "Partner_passanger_acceptedCoffeeHouse =data.query(\"passanger =='Partner' & coupon=='Coffee House' & Y ==1\")[\"passanger\"].value_counts()\n",
    "p_Partner_passanger_acceptedCoffeeHouse_Partner_passanger =(Partner_passanger_acceptedCoffeeHouse/Partner_passanger_1)\n",
    "print(p_Partner_passanger_acceptedCoffeeHouse_Partner_passanger)"
   ]
  },
  {
   "cell_type": "markdown",
   "metadata": {},
   "source": [
    "<h4 style=\"color:red\">6D.</h4><p> What is the probability given that drivers with passanger ('Partner') did not accept \"Coffee House\" coupon?"
   ]
  },
  {
   "cell_type": "code",
   "execution_count": 1201,
   "metadata": {},
   "outputs": [
    {
     "name": "stdout",
     "output_type": "stream",
     "text": [
      "Partner    0.12186\n",
      "Name: passanger, dtype: float64\n"
     ]
    }
   ],
   "source": [
    "Partner_passanger_1=data.query(\"passanger =='Partner'\")[\"passanger\"].value_counts()\n",
    "Partner_passanger_noacceptedCoffeeHouse =data.query(\"passanger =='Partner' & coupon=='Coffee House' & Y ==0\")[\"passanger\"].value_counts()\n",
    "p_Partner_passanger_noacceptedCoffeeHouse_Partner_passanger =(Partner_passanger_noacceptedCoffeeHouse/Partner_passanger_1)\n",
    "print(p_Partner_passanger_noacceptedCoffeeHouse_Partner_passanger)"
   ]
  },
  {
   "cell_type": "markdown",
   "metadata": {},
   "source": [
    "<h4 style=\"color:red\">6E.</h4><p> What is the probability given that drivers with passanger ('Partner') accepted \"Carry out & Take away\" coupon?"
   ]
  },
  {
   "cell_type": "code",
   "execution_count": 1202,
   "metadata": {},
   "outputs": [
    {
     "name": "stdout",
     "output_type": "stream",
     "text": [
      "Partner    0.066047\n",
      "Name: passanger, dtype: float64\n"
     ]
    }
   ],
   "source": [
    "Partner_passanger_1=data.query(\"passanger =='Partner'\")[\"passanger\"].value_counts()\n",
    "Partner_passanger_acceptedCarryoutTakeaway =data.query(\"passanger =='Partner' & coupon=='Carry out & Take away' & Y ==1\")[\"passanger\"].value_counts()\n",
    "p_Partner_passanger_acceptedCarryoutTakeaway_Partner_passanger =(Partner_passanger_acceptedCarryoutTakeaway/Partner_passanger_1)\n",
    "print(p_Partner_passanger_acceptedCarryoutTakeaway_Partner_passanger)"
   ]
  },
  {
   "cell_type": "markdown",
   "metadata": {},
   "source": [
    "<h4 style=\"color:red\">6F.</h4><p> What is the probability given that drivers with passanger ('Partner') did not accept \"Carry out & Take away\" coupon?"
   ]
  },
  {
   "cell_type": "code",
   "execution_count": 1203,
   "metadata": {},
   "outputs": [
    {
     "name": "stdout",
     "output_type": "stream",
     "text": [
      "Partner    0.024186\n",
      "Name: passanger, dtype: float64\n"
     ]
    }
   ],
   "source": [
    "Partner_passanger_1=data.query(\"passanger =='Partner'\")[\"passanger\"].value_counts()\n",
    "Partner_passanger_noacceptedCarryoutTakeaway =data.query(\"passanger =='Partner' & coupon=='Carry out & Take away' & Y ==0\")[\"passanger\"].value_counts()\n",
    "p_Partner_passanger_noacceptedCarryoutTakeaway_Partner_passanger =(Partner_passanger_noacceptedCarryoutTakeaway/Partner_passanger_1)\n",
    "print(p_Partner_passanger_noacceptedCarryoutTakeaway_Partner_passanger)"
   ]
  },
  {
   "cell_type": "markdown",
   "metadata": {},
   "source": [
    "<h4 style=\"color:red\">6G.</h4><p> What is the probability given that drivers with passanger ('Partner') accepted \"Bar\" coupon?"
   ]
  },
  {
   "cell_type": "code",
   "execution_count": 1204,
   "metadata": {},
   "outputs": [
    {
     "name": "stdout",
     "output_type": "stream",
     "text": [
      "Partner    0.099535\n",
      "Name: passanger, dtype: float64\n"
     ]
    }
   ],
   "source": [
    "Partner_passanger_1=data.query(\"passanger =='Partner'\")[\"passanger\"].value_counts()\n",
    "Partner_passanger_acceptedBar =data.query(\"passanger =='Partner' & coupon=='Bar' & Y ==1\")[\"passanger\"].value_counts()\n",
    "p_Partner_passanger_acceptedBar_Partner_passanger =(Partner_passanger_acceptedBar/Partner_passanger_1)\n",
    "print(p_Partner_passanger_acceptedBar_Partner_passanger)"
   ]
  },
  {
   "cell_type": "markdown",
   "metadata": {},
   "source": [
    "<h4 style=\"color:red\">6H.</h4><p> What is the probability given that drivers with passanger ('Partner') did not accept \"Bar\" coupon?"
   ]
  },
  {
   "cell_type": "code",
   "execution_count": 1205,
   "metadata": {},
   "outputs": [
    {
     "name": "stdout",
     "output_type": "stream",
     "text": [
      "Partner    0.155349\n",
      "Name: passanger, dtype: float64\n"
     ]
    }
   ],
   "source": [
    "Partner_passanger_1=data.query(\"passanger =='Partner'\")[\"passanger\"].value_counts()\n",
    "Partner_passanger_noacceptedBar =data.query(\"passanger =='Partner' & coupon=='Bar' & Y ==0\")[\"passanger\"].value_counts()\n",
    "p_Partner_passanger_noacceptedBar_Partner_passanger =(Partner_passanger_noacceptedBar/Partner_passanger_1)\n",
    "print(p_Partner_passanger_noacceptedBar_Partner_passanger)"
   ]
  },
  {
   "cell_type": "markdown",
   "metadata": {},
   "source": [
    "<h4 style=\"color:red\">6I.</h4><p> What is the probability given that drivers with passanger ('Partner') accepted \"Restaurant(20-50)\" coupon?"
   ]
  },
  {
   "cell_type": "code",
   "execution_count": 1206,
   "metadata": {},
   "outputs": [
    {
     "name": "stdout",
     "output_type": "stream",
     "text": [
      "Partner    0.082791\n",
      "Name: passanger, dtype: float64\n"
     ]
    }
   ],
   "source": [
    "Partner_passanger_1=data.query(\"passanger =='Partner'\")[\"passanger\"].value_counts()\n",
    "Partner_passanger_acceptedRestaurant2050 =data.query(\"passanger =='Partner' & coupon=='Restaurant(20-50)' & Y ==1\")[\"passanger\"].value_counts()\n",
    "p_Partner_passanger_acceptedRestaurant2050_Partner_passanger =(Partner_passanger_acceptedRestaurant2050/Partner_passanger_1)\n",
    "print(p_Partner_passanger_acceptedRestaurant2050_Partner_passanger)"
   ]
  },
  {
   "cell_type": "markdown",
   "metadata": {},
   "source": [
    "<h4 style=\"color:red\">6L.</h4><p> What is the probability given that drivers with passanger ('Partner') did not accept \"Restaurant(20-50)\" coupon?"
   ]
  },
  {
   "cell_type": "code",
   "execution_count": 1207,
   "metadata": {},
   "outputs": [
    {
     "name": "stdout",
     "output_type": "stream",
     "text": [
      "Partner    0.048372\n",
      "Name: passanger, dtype: float64\n"
     ]
    }
   ],
   "source": [
    "Partner_passanger_1=data.query(\"passanger =='Partner'\")[\"passanger\"].value_counts()\n",
    "Partner_passanger_noacceptedRestaurant2050 =data.query(\"passanger =='Partner' & coupon=='Restaurant(20-50)' & Y ==0\")[\"passanger\"].value_counts()\n",
    "p_Partner_passanger_noacceptedRestaurant2050_Partner_passanger =(Partner_passanger_noacceptedRestaurant2050/Partner_passanger_1)\n",
    "print(p_Partner_passanger_noacceptedRestaurant2050_Partner_passanger)"
   ]
  },
  {
   "cell_type": "markdown",
   "metadata": {},
   "source": [
    "<h4 style=\"Font:Bold\">7. Estimation Conditional Probababilities for drivers with passanger ('Kid(s)') who accepted and did not accept  the different coupons (\"Restaurant(<20)\", \"Coffee House\",\"Carry out & Take away\",\"Bar\",\"Restaurant(20-50)\")</h4>"
   ]
  },
  {
   "cell_type": "markdown",
   "metadata": {},
   "source": [
    "<h4 style=\"color:red\">7A.</h4><p> What is the probability given that drivers with passanger ('Kid(s)') accepted \"Restaurant(<20)\" coupon?"
   ]
  },
  {
   "cell_type": "code",
   "execution_count": 1208,
   "metadata": {},
   "outputs": [
    {
     "name": "stdout",
     "output_type": "stream",
     "text": [
      "Kid(s)    0.191849\n",
      "Name: passanger, dtype: float64\n"
     ]
    }
   ],
   "source": [
    "Kids_passanger_1=data.query(\"passanger =='Kid(s)'\")[\"passanger\"].value_counts()\n",
    "Kids_passanger_acceptedRestaurant20 =data.query(\"passanger =='Kid(s)' & coupon=='Restaurant(<20)' & Y ==1\")[\"passanger\"].value_counts()\n",
    "p_Kids_passanger_acceptedRestaurant20_Kids_passanger =(Kids_passanger_acceptedRestaurant20/Kids_passanger_1)\n",
    "print(p_Kids_passanger_acceptedRestaurant20_Kids_passanger)"
   ]
  },
  {
   "cell_type": "markdown",
   "metadata": {},
   "source": [
    "<h4 style=\"color:red\">7B.</h4><p> What is the probability given that drivers with passanger ('Kid(s)') did not accept \"Restaurant(<20)\" coupon?"
   ]
  },
  {
   "cell_type": "code",
   "execution_count": 1209,
   "metadata": {},
   "outputs": [
    {
     "name": "stdout",
     "output_type": "stream",
     "text": [
      "Kid(s)    0.073559\n",
      "Name: passanger, dtype: float64\n"
     ]
    }
   ],
   "source": [
    "Kids_passanger_1=data.query(\"passanger =='Kid(s)'\")[\"passanger\"].value_counts()\n",
    "Kids_passanger_noacceptedRestaurant20 =data.query(\"passanger =='Kid(s)' & coupon=='Restaurant(<20)' & Y ==0\")[\"passanger\"].value_counts()\n",
    "p_Kids_passanger_noacceptedRestaurant20_Kids_passanger =(Kids_passanger_noacceptedRestaurant20/Kids_passanger_1)\n",
    "print(p_Kids_passanger_noacceptedRestaurant20_Kids_passanger)"
   ]
  },
  {
   "cell_type": "markdown",
   "metadata": {},
   "source": [
    "<h4 style=\"color:red\">7C.</h4><p> What is the probability given that drivers with passanger ('Kid(s)') accepted \"Coffee House\" coupon?"
   ]
  },
  {
   "cell_type": "code",
   "execution_count": 1210,
   "metadata": {},
   "outputs": [
    {
     "name": "stdout",
     "output_type": "stream",
     "text": [
      "Kid(s)    0.099404\n",
      "Name: passanger, dtype: float64\n"
     ]
    }
   ],
   "source": [
    "Kids_passanger_1=data.query(\"passanger =='Kid(s)'\")[\"passanger\"].value_counts()\n",
    "Kids_passanger_acceptedCoffeeHouse =data.query(\"passanger =='Kid(s)' & coupon=='Coffee House' & Y ==1\")[\"passanger\"].value_counts()\n",
    "p_Kids_passanger_acceptedCoffeeHouse_Kids_passanger =(Kids_passanger_acceptedCoffeeHouse/Kids_passanger_1)\n",
    "print(p_Kids_passanger_acceptedCoffeeHouse_Kids_passanger)"
   ]
  },
  {
   "cell_type": "markdown",
   "metadata": {},
   "source": [
    "<h4 style=\"color:red\">7D.</h4><p> What is the probability given that drivers with passanger ('Kid(s)') did not accept \"Coffee House\" coupon?"
   ]
  },
  {
   "cell_type": "code",
   "execution_count": 1211,
   "metadata": {},
   "outputs": [
    {
     "name": "stdout",
     "output_type": "stream",
     "text": [
      "Kid(s)    0.106362\n",
      "Name: passanger, dtype: float64\n"
     ]
    }
   ],
   "source": [
    "Kids_passanger_1=data.query(\"passanger =='Kid(s)'\")[\"passanger\"].value_counts()\n",
    "Kids_passanger_noacceptedCoffeeHouse =data.query(\"passanger =='Kid(s)' & coupon=='Coffee House' & Y ==0\")[\"passanger\"].value_counts()\n",
    "p_Kids_passanger_noacceptedCoffeeHouse_Kids_passanger =(Kids_passanger_noacceptedCoffeeHouse/Kids_passanger_1)\n",
    "print(p_Kids_passanger_noacceptedCoffeeHouse_Kids_passanger)"
   ]
  },
  {
   "cell_type": "markdown",
   "metadata": {},
   "source": [
    "<h4 style=\"color:red\">7E.</h4><p> What is the probability given that drivers with passanger ('Kid(s)') accepted \"Carry out & Take away\" coupon?"
   ]
  },
  {
   "cell_type": "code",
   "execution_count": 1212,
   "metadata": {},
   "outputs": [
    {
     "name": "stdout",
     "output_type": "stream",
     "text": [
      "Kid(s)    0.106362\n",
      "Name: passanger, dtype: float64\n"
     ]
    }
   ],
   "source": [
    "Kids_passanger_1=data.query(\"passanger =='Kid(s)'\")[\"passanger\"].value_counts()\n",
    "Kids_passanger_acceptedCarryoutTakeaway =data.query(\"passanger =='Kid(s)' & coupon=='Carry out & Take away' & Y ==1\")[\"passanger\"].value_counts()\n",
    "p_Kids_passanger_acceptedCarryoutTakeaway_Kids_passanger =(Kids_passanger_acceptedCarryoutTakeaway/Kids_passanger_1)\n",
    "print(p_Kids_passanger_acceptedCarryoutTakeaway_Kids_passanger)"
   ]
  },
  {
   "cell_type": "markdown",
   "metadata": {},
   "source": [
    "<h4 style=\"color:red\">7F.</h4><p> What is the probability given that drivers with passanger ('Kid(s)') did not accept \"Carry out & Take away\" coupon?"
   ]
  },
  {
   "cell_type": "code",
   "execution_count": 1213,
   "metadata": {},
   "outputs": [
    {
     "name": "stdout",
     "output_type": "stream",
     "text": [
      "Kid(s)    0.044732\n",
      "Name: passanger, dtype: float64\n"
     ]
    }
   ],
   "source": [
    "Kids_passanger_1=data.query(\"passanger =='Kid(s)'\")[\"passanger\"].value_counts()\n",
    "Kids_passanger_noacceptedCarryoutTakeaway =data.query(\"passanger =='Kid(s)' & coupon=='Carry out & Take away' & Y ==0\")[\"passanger\"].value_counts()\n",
    "p_Kids_passanger_noacceptedCarryoutTakeaway_Kids_passanger =(Kids_passanger_noacceptedCarryoutTakeaway/Kids_passanger_1)\n",
    "print(p_Kids_passanger_noacceptedCarryoutTakeaway_Kids_passanger)"
   ]
  },
  {
   "cell_type": "markdown",
   "metadata": {},
   "source": [
    "<h4 style=\"color:red\">7G.</h4><p> What is the probability given that drivers with passanger ('Kid(s)') acccepted \"Bar\" coupon?"
   ]
  },
  {
   "cell_type": "code",
   "execution_count": 1214,
   "metadata": {},
   "outputs": [
    {
     "name": "stdout",
     "output_type": "stream",
     "text": [
      "Kid(s)    0.042744\n",
      "Name: passanger, dtype: float64\n"
     ]
    }
   ],
   "source": [
    "Kids_passanger_1=data.query(\"passanger =='Kid(s)'\")[\"passanger\"].value_counts()\n",
    "Kids_passanger_acceptedBar =data.query(\"passanger =='Kid(s)' & coupon=='Bar' & Y ==1\")[\"passanger\"].value_counts()\n",
    "p_Kids_passanger_acceptedBar_Kids_passanger =(Kids_passanger_acceptedBar/Kids_passanger_1)\n",
    "print(p_Kids_passanger_acceptedBar_Kids_passanger)"
   ]
  },
  {
   "cell_type": "markdown",
   "metadata": {},
   "source": [
    "<h4 style=\"color:red\">7H.</h4><p> What is the probability given that drivers with passanger ('Kid(s)') did not acccept \"Bar\" coupon?"
   ]
  },
  {
   "cell_type": "code",
   "execution_count": 1215,
   "metadata": {},
   "outputs": [
    {
     "name": "stdout",
     "output_type": "stream",
     "text": [
      "Kid(s)    0.162028\n",
      "Name: passanger, dtype: float64\n"
     ]
    }
   ],
   "source": [
    "Kids_passanger_1=data.query(\"passanger =='Kid(s)'\")[\"passanger\"].value_counts()\n",
    "Kids_passanger_noacceptedBar =data.query(\"passanger =='Kid(s)' & coupon=='Bar' & Y ==0\")[\"passanger\"].value_counts()\n",
    "p_Kids_passanger_noacceptedBar_Kids_passanger =(Kids_passanger_noacceptedBar/Kids_passanger_1)\n",
    "print(p_Kids_passanger_noacceptedBar_Kids_passanger)"
   ]
  },
  {
   "cell_type": "markdown",
   "metadata": {},
   "source": [
    "<h4 style=\"color:red\">7I.</h4><p> What is the probability given that drivers with passanger ('Kid(s)') accepted \"Restaurant(20-50)\" coupon?"
   ]
  },
  {
   "cell_type": "code",
   "execution_count": 1216,
   "metadata": {},
   "outputs": [
    {
     "name": "stdout",
     "output_type": "stream",
     "text": [
      "Kid(s)    0.064612\n",
      "Name: passanger, dtype: float64\n"
     ]
    }
   ],
   "source": [
    "Kids_passanger_1=data.query(\"passanger =='Kid(s)'\")[\"passanger\"].value_counts()\n",
    "Kids_passanger_acceptedRestaurant2050 =data.query(\"passanger =='Kid(s)' & coupon=='Restaurant(20-50)' & Y ==1\")[\"passanger\"].value_counts()\n",
    "p_Kids_passanger_acceptedRestaurant2050_Kids_passanger =(Kids_passanger_acceptedRestaurant2050/Kids_passanger_1)\n",
    "print(p_Kids_passanger_acceptedRestaurant2050_Kids_passanger)"
   ]
  },
  {
   "cell_type": "markdown",
   "metadata": {},
   "source": [
    "<h4 style=\"color:red\">7L.</h4><p> What is the probability given that drivers with passanger ('Kid(s)') did not accept \"Restaurant(20-50)\" coupon?"
   ]
  },
  {
   "cell_type": "code",
   "execution_count": 1217,
   "metadata": {},
   "outputs": [
    {
     "name": "stdout",
     "output_type": "stream",
     "text": [
      "Kid(s)    0.10835\n",
      "Name: passanger, dtype: float64\n"
     ]
    }
   ],
   "source": [
    "Kids_passanger_1=data.query(\"passanger =='Kid(s)'\")[\"passanger\"].value_counts()\n",
    "Kids_passanger_noacceptedRestaurant2050 =data.query(\"passanger =='Kid(s)' & coupon=='Restaurant(20-50)' & Y ==0\")[\"passanger\"].value_counts()\n",
    "p_Kids_passanger_noacceptedRestaurant2050_Kids_passanger =(Kids_passanger_noacceptedRestaurant2050/Kids_passanger_1)\n",
    "print(p_Kids_passanger_noacceptedRestaurant2050_Kids_passanger)"
   ]
  },
  {
   "cell_type": "markdown",
   "metadata": {},
   "source": [
    "<h4 style=\"Font:Bold\">8. Visualization of the Conditional Probababilities estimated for drivers without/with  passengers who accepted and did not accept  the different coupons (\"Restaurant(<20)\", \"Coffee House\",\"Carry out & Take away\",\"Bar\",\"Restaurant(20-50)\")</h4>"
   ]
  },
  {
   "cell_type": "markdown",
   "metadata": {},
   "source": [
    "<h5 style=\"Font:Bold\">The results obtained in previous sections where compiled in .csv file</h5>"
   ]
  },
  {
   "cell_type": "code",
   "execution_count": 1218,
   "metadata": {},
   "outputs": [],
   "source": [
    "data1a = pd.read_csv('probabilities_proj1.csv')"
   ]
  },
  {
   "cell_type": "code",
   "execution_count": 1223,
   "metadata": {},
   "outputs": [
    {
     "data": {
      "image/png": "[encoded data removed]",
      "text/plain": [
       "<Figure size 864x432 with 1 Axes>"
      ]
     },
     "metadata": {},
     "output_type": "display_data"
    }
   ],
   "source": [
    "fig = plt.figure(figsize = (12, 6))\n",
    "plt.ylim(0,0.3)\n",
    "sns.barplot(x = 'coupon',\n",
    "            y = 'probability',\n",
    "            data = data1a.query(\"passenger=='Alone'\"),hue='Y',palette=sns.color_palette(['red', 'green']))\n",
    "plt.title('Probability of Coupon Accepted (Y=1 ) vs not accepted (Y=0) by Drivers without passenger, i.e, \"Alone\"')\n",
    "# Set y-axis label\n",
    "plt.ylabel('Probability')\n",
    "plt.legend(bbox_to_anchor=(1.02, 1), loc='upper left',title='Y')\n",
    "plt.xticks(rotation = 90)\n",
    "plt.savefig('Will-a-Customer-Accept-the-Coupon/images/barplotprobabilityacceptnoacceptcouponbyalonepassanger.png')"
   ]
  },
  {
   "cell_type": "code",
   "execution_count": 1220,
   "metadata": {},
   "outputs": [
    {
     "data": {
      "image/png": "[encoded data removed]",
      "text/plain": [
       "<Figure size 864x432 with 1 Axes>"
      ]
     },
     "metadata": {},
     "output_type": "display_data"
    }
   ],
   "source": [
    "fig = plt.figure(figsize = (12, 6))\n",
    "plt.ylim(0,0.3)\n",
    "sns.barplot(x = 'coupon',\n",
    "            y = 'probability',\n",
    "            data = data1a.query(\"passenger=='Friend(s)'\"),hue='Y',palette=sns.color_palette(['red', 'green']))\n",
    "plt.title('Probability of Coupon Accepted (Y=1 ) vs not accepted (Y=0) by Drivers with passenger \"Friend(s)\"')\n",
    "# Set y-axis label\n",
    "plt.ylabel('Probability')\n",
    "plt.legend(bbox_to_anchor=(1.02, 1), loc='upper left',title='Y')\n",
    "plt.xticks(rotation = 90)\n",
    "plt.savefig('Will-a-Customer-Accept-the-Coupon/images/barplotprobabilityacceptnoacceptcouponbyfriendpassanger.png')"
   ]
  },
  {
   "cell_type": "code",
   "execution_count": 1221,
   "metadata": {},
   "outputs": [
    {
     "data": {
      "image/png": "[encoded data removed]",
      "text/plain": [
       "<Figure size 864x432 with 1 Axes>"
      ]
     },
     "metadata": {},
     "output_type": "display_data"
    }
   ],
   "source": [
    "fig = plt.figure(figsize = (12, 6))\n",
    "plt.ylim(0,0.3)\n",
    "sns.barplot(x = 'coupon',\n",
    "            y = 'probability',\n",
    "            data = data1a.query(\"passenger=='Partner'\"),hue='Y',palette=sns.color_palette(['red', 'green']))\n",
    "plt.title('Probability of Coupon Accepted (Y=1 ) vs not accepted (Y=0) by Drivers with passenger \"Partner\"')\n",
    "# Set y-axis label\n",
    "plt.ylabel('Probability')\n",
    "plt.legend(bbox_to_anchor=(1.02, 1), loc='upper left',title='Y')\n",
    "plt.xticks(rotation = 90)\n",
    "plt.savefig('Will-a-Customer-Accept-the-Coupon/images/barplotprobabilityacceptnoacceptcouponbypartnerpassanger.png')"
   ]
  },
  {
   "cell_type": "code",
   "execution_count": 1222,
   "metadata": {},
   "outputs": [
    {
     "data": {
      "image/png": "[encoded data removed]",
      "text/plain": [
       "<Figure size 864x432 with 1 Axes>"
      ]
     },
     "metadata": {},
     "output_type": "display_data"
    }
   ],
   "source": [
    "fig = plt.figure(figsize = (12, 6))\n",
    "plt.ylim(0,0.3)\n",
    "sns.barplot(x = 'coupon',\n",
    "            y = 'probability',\n",
    "            data = data1a.query(\"passenger=='Kid(s)'\"),hue='Y',palette=sns.color_palette(['red', 'green']))\n",
    "plt.title('Probability of Coupon Accepted (Y=1 ) vs not accepted (Y=0) by Drivers with passenger \"Kid(s)\"')\n",
    "# Set y-axis label\n",
    "plt.ylabel('Probability')\n",
    "plt.legend(bbox_to_anchor=(1.02, 1), loc='upper left',title='Y')\n",
    "plt.xticks(rotation = 90)\n",
    "plt.savefig('Will-a-Customer-Accept-the-Coupon/images/barplotprobabilityacceptnoacceptcouponbykidspassanger.png')"
   ]
  },
  {
   "cell_type": "markdown",
   "metadata": {},
   "source": [
    "<h3 style=\"Font:Bold\">Estimation of Conditional Probababilities  & Visualization of results for the all drivers without/with passengers  who accepted (Y=1) and did not accept(Y=0) the  coupons by weather (\"Sunny\", \"Snowy\",\"Rainy\").</h3>"
   ]
  },
  {
   "cell_type": "markdown",
   "metadata": {},
   "source": [
    "<h4 style=\"Font:Bold\">9.Estimation of Conditional Probababilities  for the all drivers without/ with passengers who accepted (Y=1) and did not accept (Y=0) the  coupons by weather (\"Sunny\", \"Snowy\",\"Rainy\").</h4>"
   ]
  },
  {
   "cell_type": "code",
   "execution_count": 1224,
   "metadata": {},
   "outputs": [
    {
     "name": "stdout",
     "output_type": "stream",
     "text": [
      "0.47216966256701354\n"
     ]
    }
   ],
   "source": [
    "passanger_1=data[\"passanger\"].count()\n",
    "passanger_acceptedSunny =data.query(\"weather =='Sunny' & Y ==1\")[\"passanger\"].count()\n",
    "passanger_acceptedSunny__passanger =(passanger_acceptedSunny/passanger_1)\n",
    "print(passanger_acceptedSunny__passanger)"
   ]
  },
  {
   "cell_type": "code",
   "execution_count": 1225,
   "metadata": {},
   "outputs": [
    {
     "name": "stdout",
     "output_type": "stream",
     "text": [
      "0.3216650898770104\n"
     ]
    }
   ],
   "source": [
    "passanger_1=data[\"passanger\"].count()\n",
    "passanger_acceptedSunny =data.query(\"weather =='Sunny' & Y ==0\")[\"passanger\"].count()\n",
    "passanger_acceptedSunny__passanger =(passanger_acceptedSunny/passanger_1)\n",
    "print(passanger_acceptedSunny__passanger)"
   ]
  },
  {
   "cell_type": "code",
   "execution_count": 1226,
   "metadata": {},
   "outputs": [
    {
     "name": "stdout",
     "output_type": "stream",
     "text": [
      "0.05211289813938821\n"
     ]
    }
   ],
   "source": [
    "passanger_1=data[\"passanger\"].count()\n",
    "passanger_acceptedSunny =data.query(\"weather =='Snowy' & Y ==1\")[\"passanger\"].count()\n",
    "passanger_acceptedSunny__passanger =(passanger_acceptedSunny/passanger_1)\n",
    "print(passanger_acceptedSunny__passanger)"
   ]
  },
  {
   "cell_type": "code",
   "execution_count": 1227,
   "metadata": {},
   "outputs": [
    {
     "name": "stdout",
     "output_type": "stream",
     "text": [
      "0.0586565752128666\n"
     ]
    }
   ],
   "source": [
    "passanger_1=data[\"passanger\"].count()\n",
    "passanger_acceptedSunny =data.query(\"weather =='Snowy' & Y ==0\")[\"passanger\"].count()\n",
    "passanger_acceptedSunny__passanger =(passanger_acceptedSunny/passanger_1)\n",
    "print(passanger_acceptedSunny__passanger)"
   ]
  },
  {
   "cell_type": "code",
   "execution_count": 1228,
   "metadata": {},
   "outputs": [
    {
     "name": "stdout",
     "output_type": "stream",
     "text": [
      "0.04415011037527594\n"
     ]
    }
   ],
   "source": [
    "passanger_1=data[\"passanger\"].count()\n",
    "passanger_acceptedSunny =data.query(\"weather =='Rainy' & Y ==1\")[\"passanger\"].count()\n",
    "passanger_acceptedSunny__passanger =(passanger_acceptedSunny/passanger_1)\n",
    "print(passanger_acceptedSunny__passanger)"
   ]
  },
  {
   "cell_type": "code",
   "execution_count": 1229,
   "metadata": {},
   "outputs": [
    {
     "name": "stdout",
     "output_type": "stream",
     "text": [
      "0.05124566382844529\n"
     ]
    }
   ],
   "source": [
    "passanger_1=data[\"passanger\"].count()\n",
    "passanger_acceptedSunny =data.query(\"weather =='Rainy' & Y ==0\")[\"passanger\"].count()\n",
    "passanger_acceptedSunny__passanger =(passanger_acceptedSunny/passanger_1)\n",
    "print(passanger_acceptedSunny__passanger)"
   ]
  },
  {
   "cell_type": "markdown",
   "metadata": {},
   "source": [
    "<h4 style=\"Font:Bold\">10.Visualization of Conditional Probababilities estimated  for the all drivers without/ with passengers who accepted (Y=1) and did not accept (Y=0) the  coupons by weather (\"Sunny\", \"Snowy\",\"Rainy\").</h4>"
   ]
  },
  {
   "cell_type": "markdown",
   "metadata": {},
   "source": [
    "<h5 style=\"Font:Bold\">The results obtained in previous sections where compiled in .csv file</h5>"
   ]
  },
  {
   "cell_type": "code",
   "execution_count": 1237,
   "metadata": {},
   "outputs": [],
   "source": [
    "data2a = pd.read_csv('probabilities_proj2.csv')"
   ]
  },
  {
   "cell_type": "code",
   "execution_count": 1231,
   "metadata": {},
   "outputs": [
    {
     "data": {
      "image/png": "[encoded data removed]",
      "text/plain": [
       "<Figure size 864x432 with 1 Axes>"
      ]
     },
     "metadata": {},
     "output_type": "display_data"
    }
   ],
   "source": [
    "fig = plt.figure(figsize = (12, 6))\n",
    "plt.ylim(0,0.7)\n",
    "sns.barplot(x = 'weather',\n",
    "            y = 'probability',\n",
    "            data = data2a.query(\"passenger=='Kid(s)'\"),hue='Y',palette=sns.color_palette(['red', 'green']))\n",
    "plt.title('Probability of Coupon Accepted (Y=1 ) vs not accepted (Y=0) for all Drivers without/with passengers by weather\"')\n",
    "# Set y-axis label\n",
    "plt.ylabel('Probability')\n",
    "plt.legend(bbox_to_anchor=(1.02, 1), loc='upper left',title='Y')\n",
    "plt.xticks(rotation = 90)\n",
    "plt.savefig('Will-a-Customer-Accept-the-Coupon/images/barplotprobabilityacceptnoacceptcouponbyweather.png')"
   ]
  },
  {
   "cell_type": "code",
   "execution_count": null,
   "metadata": {},
   "outputs": [],
   "source": [
    "<h3 style=\"Font:Bold\">Estimation of Conditional Probababilities  & Visualization of results for the all drivers without/with passengers  who accepted (Y=1) and did not accept(Y=0) the  coupons by gender (\"Female\", \"Male\").</h3>"
   ]
  },
  {
   "cell_type": "markdown",
   "metadata": {},
   "source": [
    "<h4 style=\"Font:Bold\">11.Estimation of Conditional Probababilities  for the all drivers without/ with passengers who accepted (Y=1) and did not accept (Y=0) the  coupons by gender (\"Female\", \"Male\").</h4>"
   ]
  },
  {
   "cell_type": "code",
   "execution_count": 1232,
   "metadata": {},
   "outputs": [
    {
     "name": "stdout",
     "output_type": "stream",
     "text": [
      "0.28090507726269315\n"
     ]
    }
   ],
   "source": [
    "passanger_1=data[\"passanger\"].count()\n",
    "passanger_acceptedSunny =data.query(\"gender =='Female' & Y ==1\")[\"passanger\"].count()\n",
    "passanger_acceptedSunny__passanger =(passanger_acceptedSunny/passanger_1)\n",
    "print(passanger_acceptedSunny__passanger)"
   ]
  },
  {
   "cell_type": "code",
   "execution_count": 1233,
   "metadata": {},
   "outputs": [
    {
     "name": "stdout",
     "output_type": "stream",
     "text": [
      "0.2875275938189846\n"
     ]
    }
   ],
   "source": [
    "passanger_1=data[\"passanger\"].count()\n",
    "passanger_acceptedSunny =data.query(\"gender =='Male' & Y ==1\")[\"passanger\"].count()\n",
    "passanger_acceptedSunny__passanger =(passanger_acceptedSunny/passanger_1)\n",
    "print(passanger_acceptedSunny__passanger)"
   ]
  },
  {
   "cell_type": "code",
   "execution_count": 1234,
   "metadata": {},
   "outputs": [
    {
     "name": "stdout",
     "output_type": "stream",
     "text": [
      "0.23241879533270263\n"
     ]
    }
   ],
   "source": [
    "passanger_1=data[\"passanger\"].count()\n",
    "passanger_acceptedSunny =data.query(\"gender =='Female' & Y ==0\")[\"passanger\"].count()\n",
    "passanger_acceptedSunny__passanger =(passanger_acceptedSunny/passanger_1)\n",
    "print(passanger_acceptedSunny__passanger)"
   ]
  },
  {
   "cell_type": "code",
   "execution_count": 1235,
   "metadata": {},
   "outputs": [
    {
     "name": "stdout",
     "output_type": "stream",
     "text": [
      "0.19914853358561968\n"
     ]
    }
   ],
   "source": [
    "passanger_1=data[\"passanger\"].count()\n",
    "passanger_acceptedSunny =data.query(\"gender =='Male' & Y ==0\")[\"passanger\"].count()\n",
    "passanger_acceptedSunny__passanger =(passanger_acceptedSunny/passanger_1)\n",
    "print(passanger_acceptedSunny__passanger)"
   ]
  },
  {
   "cell_type": "code",
   "execution_count": 1238,
   "metadata": {},
   "outputs": [],
   "source": [
    "data3a = pd.read_csv('probabilities_proj3.csv')"
   ]
  },
  {
   "cell_type": "code",
   "execution_count": 1241,
   "metadata": {},
   "outputs": [
    {
     "data": {
      "image/png": "[encoded data removed]",
      "text/plain": [
       "<Figure size 864x432 with 1 Axes>"
      ]
     },
     "metadata": {},
     "output_type": "display_data"
    }
   ],
   "source": [
    "fig = plt.figure(figsize = (12, 6))\n",
    "plt.ylim(0,0.5)\n",
    "sns.barplot(x = 'gender',\n",
    "            y = 'probability',\n",
    "            data = data3a.query(\"passenger=='Kid(s)'\"),hue='Y',palette=sns.color_palette(['red', 'green']))\n",
    "plt.title('Probability of Coupon Accepted (Y=1 ) vs not accepted (Y=0) for all Drivers without/with passengers by gender\"')\n",
    "# Set y-axis label\n",
    "plt.ylabel('Probability')\n",
    "plt.legend(bbox_to_anchor=(1.02, 1), loc='upper left',title='Y')\n",
    "plt.xticks(rotation = 90)\n",
    "plt.savefig('Will-a-Customer-Accept-the-Coupon/images/barplotprobabilityacceptnoacceptcouponbygender.png')"
   ]
  },
  {
   "cell_type": "markdown",
   "metadata": {},
   "source": [
    "<h3 style=\"Font:Bold\">Making a Hypothesis to understand the behavior of drivers without/with passsengers that go to the CoffeeHouse more than once and have income less than $50000 to all others drivers without/with passengers</h3> "
   ]
  },
  {
   "cell_type": "markdown",
   "metadata": {},
   "source": [
    "<h4 style='color:red '> Hypothesis:</h4>\n",
    "        <p style=\"font-weight: bold\">My hypothesis is the following:<p> Null Hypothesis:</p></p> ${H}_{0} : {\\mu}_{CoffeHouse>1} - {\\mu}_{CoffeHouse}=0  $ <br>\n",
    "        <p> Alternative Hypothesis:</p><br>${H}_{1} : {\\mu}_{CoffeHouse>1} - {\\mu}_{CoffeHouse}>0 $ <br> <p> where ${\\mu}_{CoffeHouse}$ represents the mean of all other drivers,and ${\\mu}_{CoffeHouse>1}$ represents the mean of the drivers who go to the Coffee House more than once and have income less than 50000</p>"
   ]
  },
  {
   "cell_type": "markdown",
   "metadata": {},
   "source": [
    "<h4>Constructing a null and alternative hypothesis for the difference between drivers without/with passengers  who go to the Coffee House more than once a month and income less than $50000 to all other drivers without/with passenger.</h4>"
   ]
  },
  {
   "cell_type": "code",
   "execution_count": 1283,
   "metadata": {},
   "outputs": [],
   "source": [
    "X611=np.random.choice(data.query(\"CoffeeHouse > 1 & income<50000\")[\"CoffeeHouse\"].dropna(),10000)"
   ]
  },
  {
   "cell_type": "code",
   "execution_count": 1284,
   "metadata": {},
   "outputs": [],
   "source": [
    "data11=[]\n",
    "k=0\n",
    "for j in range(0,len(data[\"CoffeeHouse\"])):\n",
    "    if (data[\"CoffeeHouse\"][j]>1) & (data[\"income\"][j]<50000):\n",
    "        k+=1\n",
    "    else:\n",
    "        data11.append(data[\"CoffeeHouse\"][j])\n",
    "data11 = np.array(data11)\n",
    "data11 = data11[~np.isnan(data11)]\n",
    "X622=np.random.choice(data11,10000)"
   ]
  },
  {
   "cell_type": "code",
   "execution_count": 1285,
   "metadata": {},
   "outputs": [],
   "source": [
    "Z11 = np.hstack((X611,X622))"
   ]
  },
  {
   "cell_type": "code",
   "execution_count": 1286,
   "metadata": {},
   "outputs": [
    {
     "name": "stdout",
     "output_type": "stream",
     "text": [
      "2.8541\n"
     ]
    }
   ],
   "source": [
    "mean_diff11 = np.mean( X611 - X622)\n",
    "print(mean_diff11)"
   ]
  },
  {
   "cell_type": "code",
   "execution_count": 1293,
   "metadata": {},
   "outputs": [
    {
     "name": "stdout",
     "output_type": "stream",
     "text": [
      "4.88125\n"
     ]
    }
   ],
   "source": [
    "print(data.query(\"CoffeeHouse>1 & income<50000 & Y==0\")[\"CoffeeHouse\"].mean())"
   ]
  },
  {
   "cell_type": "code",
   "execution_count": 1287,
   "metadata": {},
   "outputs": [],
   "source": [
    "n = 4999\n",
    "diff11 = np.zeros((n,))\n",
    "\n",
    "for j in range(n):\n",
    "     \n",
    "    pxi = np.random.choice( np.arange(20), 10 )\n",
    "    pyi = [ i for i in np.arange(20) if i not in pxi ]\n",
    "     \n",
    "    px = np.mean( [ Z11[i] for i in pxi ] )\n",
    "    py = np.mean( [ Z11[i] for i in pyi ] )\n",
    "     \n",
    "    diff11[j] = px - py"
   ]
  },
  {
   "cell_type": "code",
   "execution_count": 1295,
   "metadata": {},
   "outputs": [
    {
     "data": {
      "image/png": "[encoded data removed]",
      "text/plain": [
       "<Figure size 360x360 with 1 Axes>"
      ]
     },
     "metadata": {},
     "output_type": "display_data"
    }
   ],
   "source": [
    "sns.displot(diff11,kind=\"hist\",color=\"navy\")\n",
    "plt.title('Distribution of Group Differences')\n",
    "# Set x-axis label\n",
    "plt.xlabel('Mean Difference')\n",
    "# Set y-axis label\n",
    "plt.ylabel('Frequency')\n",
    "plt.savefig('Will-a-Customer-Accept-the-Coupon/images/diffhistohypothesiscoffeehouseincome5000.png')"
   ]
  },
  {
   "cell_type": "code",
   "execution_count": 1297,
   "metadata": {},
   "outputs": [
    {
     "name": "stdout",
     "output_type": "stream",
     "text": [
      "0.021804360872174435\n"
     ]
    }
   ],
   "source": [
    "p_value11 = len( np.where( diff11 >= mean_diff11 )[0] )/n\n",
    "print (p_value11)"
   ]
  },
  {
   "cell_type": "markdown",
   "metadata": {},
   "source": [
    "<h4 style=\"color:red\">Comments:</h4> <h3> The p_value=0.0218 is less than ${\\alpha}=0.05$ so we do reject ${H}_{0}$, i.e. the null hypothesis.</h3>"
   ]
  },
  {
   "cell_type": "markdown",
   "metadata": {},
   "source": [
    "<h4 style=\"font-weight: bold;text-decoration: underline;color:red\">Another Comments:</h4><h4> This basically mean that drivers without/with passenger with income less than $50000 go more often to the Coffee House than drivers without/with passenger with higher income, independently if the first group have accepted or not the coupon.</h4>"
   ]
  },
  {
   "cell_type": "markdown",
   "metadata": {},
   "source": [
    "<h4 style=\"font-weight: bold\">Final conclusions are condensated in the README.md file contained in the github project</h4>"
   ]
  }
 ],
 "metadata": {
  "kernelspec": {
   "display_name": "Python 3 (ipykernel)",
   "language": "python",
   "name": "python3"
  },
  "language_info": {
   "codemirror_mode": {
    "name": "ipython",
    "version": 3
   },
   "file_extension": ".py",
   "mimetype": "text/x-python",
   "name": "python",
   "nbconvert_exporter": "python",
   "pygments_lexer": "ipython3",
   "version": "3.9.7"
  },
  "widgets": {
   "application/vnd.jupyter.widget-state+json": {
    "state": {},
    "version_major": 2,
    "version_minor": 0
   }
  }
 },
 "nbformat": 4,
 "nbformat_minor": 4
}
