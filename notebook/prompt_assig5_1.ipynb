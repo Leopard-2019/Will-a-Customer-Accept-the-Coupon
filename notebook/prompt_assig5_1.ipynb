{
 "cells": [
  {
   "cell_type": "markdown",
   "metadata": {},
   "source": [
    "### Will a Customer Accept the Coupon?\n",
    "\n",
    "**Overview**\n",
    "\n",
    "The goal of this project is to use what you know about visualizations and probability distributions to distinguish between customers who accepted a driving coupon versus those that did not.\n",
    "\n",
    "**Data**\n",
    "\n",
    "\n",
    "This data comes to us from the UCI Machine Learning repository and was collected via a survey on Amazon Mechanical Turk. The survey describes different driving scenarios including the destination, current time, weather, passenger, etc., and then ask the person whether he will accept the coupon if he is the driver. Answers that the user will drive there ‘right away’ or ‘later before the coupon expires’ are labeled as ‘Y = 1’ and answers ‘no, I do not want the coupon’ are labeled as ‘Y = 0’.  There are five different types of coupons -- less expensive restaurants (under \\\\$20), coffee houses, carry out & take away, bar, and more expensive restaurants (\\\\$20 - \\\\$50). "
   ]
  },
  {
   "cell_type": "markdown",
   "metadata": {},
   "source": [
    "**Deliverables**\n",
    "\n",
    "Your final product should be a brief report that highlights the differences between customers who did and did not accept the coupons.  To explore the data you will utilize your knowledge of plotting, statistical summaries, and visualization using Python. You will publish your findings in a public facing github repository as your first portfolio piece. \n",
    "\n",
    "\n",
    "\n"
   ]
  },
  {
   "cell_type": "markdown",
   "metadata": {},
   "source": [
    "### Data Description\n",
    "\n",
    "The attributes of this data set include:\n",
    "1. User attributes\n",
    "    -  Gender: male, female\n",
    "    -  Age: below 21, 21 to 25, 26 to 30, etc.\n",
    "    -  Marital Status: single, married partner, unmarried partner, or widowed\n",
    "    -  Number of children: 0, 1, or more than 1\n",
    "    -  Education: high school, bachelors degree, associates degree, or graduate degree\n",
    "    -  Occupation: architecture & engineering, business & financial, etc.\n",
    "    -  Annual income: less than \\\\$12500, \\\\$12500 - \\\\$24999, \\\\$25000 - \\\\$37499, etc.\n",
    "    -  Number of times that he/she goes to a bar: 0, less than 1, 1 to 3, 4 to 8 or greater than 8\n",
    "    -  Number of times that he/she buys takeaway food: 0, less than 1, 1 to 3, 4 to 8 or greater\n",
    "    than 8\n",
    "    -  Number of times that he/she goes to a coffee house: 0, less than 1, 1 to 3, 4 to 8 or\n",
    "    greater than 8\n",
    "    -  Number of times that he/she eats at a restaurant with average expense less than \\\\$20 per\n",
    "    person: 0, less than 1, 1 to 3, 4 to 8 or greater than 8\n",
    "    -  Number of times that he/she goes to a bar: 0, less than 1, 1 to 3, 4 to 8 or greater than 8\n",
    "\n",
    "2. Contextual attributes\n",
    "    - Driving destination: home, work, or no urgent destination\n",
    "    - Location of user, coupon and destination: we provide a map to show the geographical\n",
    "    location of the user, destination, and the venue, and we mark the distance between each\n",
    "    two places with time of driving. The user can see whether the venue is in the same\n",
    "    direction as the destination.\n",
    "    - Weather: sunny, rainy, or snowy\n",
    "    - Temperature: 30F, 55F, or 80F\n",
    "    - Time: 10AM, 2PM, or 6PM\n",
    "    - Passenger: alone, partner, kid(s), or friend(s)\n",
    "\n",
    "3. Coupon attributes\n",
    "    - time before it expires: 2 hours or one day"
   ]
  },
  {
   "cell_type": "code",
   "execution_count": 949,
   "metadata": {},
   "outputs": [],
   "source": [
    "import matplotlib.pyplot as plt\n",
    "import seaborn as sns\n",
    "import pandas as pd\n",
    "import numpy as np"
   ]
  },
  {
   "cell_type": "markdown",
   "metadata": {},
   "source": [
    "### Problems\n",
    "\n",
    "Use the prompts below to get started with your data analysis.  \n",
    "\n",
    "1. Read in the `coupons.csv` file.\n",
    "\n",
    "\n"
   ]
  },
  {
   "cell_type": "code",
   "execution_count": 950,
   "metadata": {},
   "outputs": [],
   "source": [
    "data = pd.read_csv('coupons.csv')"
   ]
  },
  {
   "cell_type": "code",
   "execution_count": 951,
   "metadata": {},
   "outputs": [
    {
     "data": {
      "text/html": [
       "<div>\n",
       "<style scoped>\n",
       "    .dataframe tbody tr th:only-of-type {\n",
       "        vertical-align: middle;\n",
       "    }\n",
       "\n",
       "    .dataframe tbody tr th {\n",
       "        vertical-align: top;\n",
       "    }\n",
       "\n",
       "    .dataframe thead th {\n",
       "        text-align: right;\n",
       "    }\n",
       "</style>\n",
       "<table border=\"1\" class=\"dataframe\">\n",
       "  <thead>\n",
       "    <tr style=\"text-align: right;\">\n",
       "      <th></th>\n",
       "      <th>destination</th>\n",
       "      <th>passanger</th>\n",
       "      <th>weather</th>\n",
       "      <th>temperature</th>\n",
       "      <th>time</th>\n",
       "      <th>coupon</th>\n",
       "      <th>expiration</th>\n",
       "      <th>gender</th>\n",
       "      <th>age</th>\n",
       "      <th>maritalStatus</th>\n",
       "      <th>...</th>\n",
       "      <th>CoffeeHouse</th>\n",
       "      <th>CarryAway</th>\n",
       "      <th>RestaurantLessThan20</th>\n",
       "      <th>Restaurant20To50</th>\n",
       "      <th>toCoupon_GEQ5min</th>\n",
       "      <th>toCoupon_GEQ15min</th>\n",
       "      <th>toCoupon_GEQ25min</th>\n",
       "      <th>direction_same</th>\n",
       "      <th>direction_opp</th>\n",
       "      <th>Y</th>\n",
       "    </tr>\n",
       "  </thead>\n",
       "  <tbody>\n",
       "    <tr>\n",
       "      <th>0</th>\n",
       "      <td>No Urgent Place</td>\n",
       "      <td>Alone</td>\n",
       "      <td>Sunny</td>\n",
       "      <td>55</td>\n",
       "      <td>2PM</td>\n",
       "      <td>Restaurant(&lt;20)</td>\n",
       "      <td>1d</td>\n",
       "      <td>Female</td>\n",
       "      <td>21</td>\n",
       "      <td>Unmarried partner</td>\n",
       "      <td>...</td>\n",
       "      <td>never</td>\n",
       "      <td>NaN</td>\n",
       "      <td>4~8</td>\n",
       "      <td>1~3</td>\n",
       "      <td>1</td>\n",
       "      <td>0</td>\n",
       "      <td>0</td>\n",
       "      <td>0</td>\n",
       "      <td>1</td>\n",
       "      <td>1</td>\n",
       "    </tr>\n",
       "    <tr>\n",
       "      <th>1</th>\n",
       "      <td>No Urgent Place</td>\n",
       "      <td>Friend(s)</td>\n",
       "      <td>Sunny</td>\n",
       "      <td>80</td>\n",
       "      <td>10AM</td>\n",
       "      <td>Coffee House</td>\n",
       "      <td>2h</td>\n",
       "      <td>Female</td>\n",
       "      <td>21</td>\n",
       "      <td>Unmarried partner</td>\n",
       "      <td>...</td>\n",
       "      <td>never</td>\n",
       "      <td>NaN</td>\n",
       "      <td>4~8</td>\n",
       "      <td>1~3</td>\n",
       "      <td>1</td>\n",
       "      <td>0</td>\n",
       "      <td>0</td>\n",
       "      <td>0</td>\n",
       "      <td>1</td>\n",
       "      <td>0</td>\n",
       "    </tr>\n",
       "    <tr>\n",
       "      <th>2</th>\n",
       "      <td>No Urgent Place</td>\n",
       "      <td>Friend(s)</td>\n",
       "      <td>Sunny</td>\n",
       "      <td>80</td>\n",
       "      <td>10AM</td>\n",
       "      <td>Carry out &amp; Take away</td>\n",
       "      <td>2h</td>\n",
       "      <td>Female</td>\n",
       "      <td>21</td>\n",
       "      <td>Unmarried partner</td>\n",
       "      <td>...</td>\n",
       "      <td>never</td>\n",
       "      <td>NaN</td>\n",
       "      <td>4~8</td>\n",
       "      <td>1~3</td>\n",
       "      <td>1</td>\n",
       "      <td>1</td>\n",
       "      <td>0</td>\n",
       "      <td>0</td>\n",
       "      <td>1</td>\n",
       "      <td>1</td>\n",
       "    </tr>\n",
       "    <tr>\n",
       "      <th>3</th>\n",
       "      <td>No Urgent Place</td>\n",
       "      <td>Friend(s)</td>\n",
       "      <td>Sunny</td>\n",
       "      <td>80</td>\n",
       "      <td>2PM</td>\n",
       "      <td>Coffee House</td>\n",
       "      <td>2h</td>\n",
       "      <td>Female</td>\n",
       "      <td>21</td>\n",
       "      <td>Unmarried partner</td>\n",
       "      <td>...</td>\n",
       "      <td>never</td>\n",
       "      <td>NaN</td>\n",
       "      <td>4~8</td>\n",
       "      <td>1~3</td>\n",
       "      <td>1</td>\n",
       "      <td>1</td>\n",
       "      <td>0</td>\n",
       "      <td>0</td>\n",
       "      <td>1</td>\n",
       "      <td>0</td>\n",
       "    </tr>\n",
       "    <tr>\n",
       "      <th>4</th>\n",
       "      <td>No Urgent Place</td>\n",
       "      <td>Friend(s)</td>\n",
       "      <td>Sunny</td>\n",
       "      <td>80</td>\n",
       "      <td>2PM</td>\n",
       "      <td>Coffee House</td>\n",
       "      <td>1d</td>\n",
       "      <td>Female</td>\n",
       "      <td>21</td>\n",
       "      <td>Unmarried partner</td>\n",
       "      <td>...</td>\n",
       "      <td>never</td>\n",
       "      <td>NaN</td>\n",
       "      <td>4~8</td>\n",
       "      <td>1~3</td>\n",
       "      <td>1</td>\n",
       "      <td>1</td>\n",
       "      <td>0</td>\n",
       "      <td>0</td>\n",
       "      <td>1</td>\n",
       "      <td>0</td>\n",
       "    </tr>\n",
       "  </tbody>\n",
       "</table>\n",
       "<p>5 rows × 26 columns</p>\n",
       "</div>"
      ],
      "text/plain": [
       "       destination  passanger weather  temperature  time  \\\n",
       "0  No Urgent Place      Alone   Sunny           55   2PM   \n",
       "1  No Urgent Place  Friend(s)   Sunny           80  10AM   \n",
       "2  No Urgent Place  Friend(s)   Sunny           80  10AM   \n",
       "3  No Urgent Place  Friend(s)   Sunny           80   2PM   \n",
       "4  No Urgent Place  Friend(s)   Sunny           80   2PM   \n",
       "\n",
       "                  coupon expiration  gender age      maritalStatus  ...  \\\n",
       "0        Restaurant(<20)         1d  Female  21  Unmarried partner  ...   \n",
       "1           Coffee House         2h  Female  21  Unmarried partner  ...   \n",
       "2  Carry out & Take away         2h  Female  21  Unmarried partner  ...   \n",
       "3           Coffee House         2h  Female  21  Unmarried partner  ...   \n",
       "4           Coffee House         1d  Female  21  Unmarried partner  ...   \n",
       "\n",
       "   CoffeeHouse CarryAway RestaurantLessThan20 Restaurant20To50  \\\n",
       "0        never       NaN                  4~8              1~3   \n",
       "1        never       NaN                  4~8              1~3   \n",
       "2        never       NaN                  4~8              1~3   \n",
       "3        never       NaN                  4~8              1~3   \n",
       "4        never       NaN                  4~8              1~3   \n",
       "\n",
       "  toCoupon_GEQ5min toCoupon_GEQ15min toCoupon_GEQ25min direction_same  \\\n",
       "0                1                 0                 0              0   \n",
       "1                1                 0                 0              0   \n",
       "2                1                 1                 0              0   \n",
       "3                1                 1                 0              0   \n",
       "4                1                 1                 0              0   \n",
       "\n",
       "  direction_opp  Y  \n",
       "0             1  1  \n",
       "1             1  0  \n",
       "2             1  1  \n",
       "3             1  0  \n",
       "4             1  0  \n",
       "\n",
       "[5 rows x 26 columns]"
      ]
     },
     "execution_count": 951,
     "metadata": {},
     "output_type": "execute_result"
    }
   ],
   "source": [
    "data.head()"
   ]
  },
  {
   "cell_type": "code",
   "execution_count": 952,
   "metadata": {},
   "outputs": [
    {
     "name": "stdout",
     "output_type": "stream",
     "text": [
      "<class 'pandas.core.frame.DataFrame'>\n",
      "RangeIndex: 12684 entries, 0 to 12683\n",
      "Data columns (total 26 columns):\n",
      " #   Column                Non-Null Count  Dtype \n",
      "---  ------                --------------  ----- \n",
      " 0   destination           12684 non-null  object\n",
      " 1   passanger             12684 non-null  object\n",
      " 2   weather               12684 non-null  object\n",
      " 3   temperature           12684 non-null  int64 \n",
      " 4   time                  12684 non-null  object\n",
      " 5   coupon                12684 non-null  object\n",
      " 6   expiration            12684 non-null  object\n",
      " 7   gender                12684 non-null  object\n",
      " 8   age                   12684 non-null  object\n",
      " 9   maritalStatus         12684 non-null  object\n",
      " 10  has_children          12684 non-null  int64 \n",
      " 11  education             12684 non-null  object\n",
      " 12  occupation            12684 non-null  object\n",
      " 13  income                12684 non-null  object\n",
      " 14  car                   108 non-null    object\n",
      " 15  Bar                   12577 non-null  object\n",
      " 16  CoffeeHouse           12467 non-null  object\n",
      " 17  CarryAway             12533 non-null  object\n",
      " 18  RestaurantLessThan20  12554 non-null  object\n",
      " 19  Restaurant20To50      12495 non-null  object\n",
      " 20  toCoupon_GEQ5min      12684 non-null  int64 \n",
      " 21  toCoupon_GEQ15min     12684 non-null  int64 \n",
      " 22  toCoupon_GEQ25min     12684 non-null  int64 \n",
      " 23  direction_same        12684 non-null  int64 \n",
      " 24  direction_opp         12684 non-null  int64 \n",
      " 25  Y                     12684 non-null  int64 \n",
      "dtypes: int64(8), object(18)\n",
      "memory usage: 2.5+ MB\n"
     ]
    }
   ],
   "source": [
    "data.info()"
   ]
  },
  {
   "cell_type": "markdown",
   "metadata": {},
   "source": [
    "2. Investigate the dataset for missing or problematic data."
   ]
  },
  {
   "cell_type": "code",
   "execution_count": 953,
   "metadata": {},
   "outputs": [
    {
     "data": {
      "text/plain": [
       "destination                 0\n",
       "passanger                   0\n",
       "weather                     0\n",
       "temperature                 0\n",
       "time                        0\n",
       "coupon                      0\n",
       "expiration                  0\n",
       "gender                      0\n",
       "age                         0\n",
       "maritalStatus               0\n",
       "has_children                0\n",
       "education                   0\n",
       "occupation                  0\n",
       "income                      0\n",
       "car                     12576\n",
       "Bar                       107\n",
       "CoffeeHouse               217\n",
       "CarryAway                 151\n",
       "RestaurantLessThan20      130\n",
       "Restaurant20To50          189\n",
       "toCoupon_GEQ5min            0\n",
       "toCoupon_GEQ15min           0\n",
       "toCoupon_GEQ25min           0\n",
       "direction_same              0\n",
       "direction_opp               0\n",
       "Y                           0\n",
       "dtype: int64"
      ]
     },
     "execution_count": 953,
     "metadata": {},
     "output_type": "execute_result"
    }
   ],
   "source": [
    "data.isnull().sum()"
   ]
  },
  {
   "cell_type": "markdown",
   "metadata": {},
   "source": [
    "3. Decide what to do about your missing data -- drop, replace, other..."
   ]
  },
  {
   "cell_type": "markdown",
   "metadata": {},
   "source": [
    "<p style=\"font-weight: bold\">There are some columns defined as object that need to be treated as numerical in order to facilitate the follow up analysis. As a result, It was decided to start off with the following columns: expiration and age</p>"
   ]
  },
  {
   "cell_type": "markdown",
   "metadata": {},
   "source": [
    "<p>3.1. Column: expiration. It was decided to convert everything to hours. So, its type can be defined as a numerical.</p>"
   ]
  },
  {
   "cell_type": "code",
   "execution_count": 954,
   "metadata": {},
   "outputs": [
    {
     "data": {
      "text/plain": [
       "1d    7091\n",
       "2h    5593\n",
       "Name: expiration, dtype: int64"
      ]
     },
     "execution_count": 954,
     "metadata": {},
     "output_type": "execute_result"
    }
   ],
   "source": [
    "data['expiration'].value_counts()"
   ]
  },
  {
   "cell_type": "code",
   "execution_count": 955,
   "metadata": {},
   "outputs": [],
   "source": [
    "data[\"expiration\"]=data[\"expiration\"].str.replace(\"1d\",\"24\")\n",
    "data[\"expiration\"]=data[\"expiration\"].str.replace(\"2h\",\"2\")"
   ]
  },
  {
   "cell_type": "code",
   "execution_count": 956,
   "metadata": {},
   "outputs": [],
   "source": [
    "data[\"expiration\"]=pd.to_numeric(data[\"expiration\"])"
   ]
  },
  {
   "cell_type": "markdown",
   "metadata": {},
   "source": [
    "<p>3.2. Column: income. It was decide to replace all blank spaces sign \"$\", and \"-\" into \" \". It was also decided to replace the income range into their averages.So, its type can be defined as a numerical.</p>"
   ]
  },
  {
   "cell_type": "code",
   "execution_count": 957,
   "metadata": {},
   "outputs": [
    {
     "data": {
      "text/plain": [
       "$25000 - $37499     2013\n",
       "$12500 - $24999     1831\n",
       "$37500 - $49999     1805\n",
       "$100000 or More     1736\n",
       "$50000 - $62499     1659\n",
       "Less than $12500    1042\n",
       "$87500 - $99999      895\n",
       "$75000 - $87499      857\n",
       "$62500 - $74999      846\n",
       "Name: income, dtype: int64"
      ]
     },
     "execution_count": 957,
     "metadata": {},
     "output_type": "execute_result"
    }
   ],
   "source": [
    "data['income'].value_counts()"
   ]
  },
  {
   "cell_type": "code",
   "execution_count": 958,
   "metadata": {},
   "outputs": [],
   "source": [
    "data[\"income\"]=data[\"income\"].str.replace(\"$\",\" \",regex=True)\n",
    "data[\"income\"]=data[\"income\"].str.replace(\"-\",\" \",regex=True)\n",
    "data[\"income\"]=data[\"income\"].str.replace(\" \",\"\",regex=True)"
   ]
  },
  {
   "cell_type": "code",
   "execution_count": 959,
   "metadata": {},
   "outputs": [],
   "source": [
    "data[\"income\"]=data[\"income\"].str.replace(\"2500037499\",\"31250\",regex=True)\n",
    "data[\"income\"]=data[\"income\"].str.replace(\"1250024999\",\"18750\",regex=True)\n",
    "data[\"income\"]=data[\"income\"].str.replace(\"3750049999\",\"43750\",regex=True)\n",
    "data[\"income\"]=data[\"income\"].str.replace(\"100000orMore\",\"100000\",regex=True)\n",
    "data[\"income\"]=data[\"income\"].str.replace(\"5000062499\",\"56250\",regex=True)\n",
    "data[\"income\"]=data[\"income\"].str.replace(\"Lessthan12500\",\"12499\",regex=True)\n",
    "data[\"income\"]=data[\"income\"].str.replace(\"8750099999\",\"93750\",regex=True)\n",
    "data[\"income\"]=data[\"income\"].str.replace(\"7500087499\",\"81250\",regex=True)\n",
    "data[\"income\"]=data[\"income\"].str.replace(\"6250074999\",\"68750\",regex=True)"
   ]
  },
  {
   "cell_type": "code",
   "execution_count": 960,
   "metadata": {},
   "outputs": [],
   "source": [
    "data[\"income\"]=pd.to_numeric(data[\"income\"])"
   ]
  },
  {
   "cell_type": "markdown",
   "metadata": {},
   "source": [
    "<p>3.3. Column: Bar. It was decide to replace all by single values, most of them representing their average. So, its type can be defined as a numerical.</p>"
   ]
  },
  {
   "cell_type": "code",
   "execution_count": 961,
   "metadata": {},
   "outputs": [
    {
     "data": {
      "text/plain": [
       "never    5197\n",
       "less1    3482\n",
       "1~3      2473\n",
       "4~8      1076\n",
       "gt8       349\n",
       "Name: Bar, dtype: int64"
      ]
     },
     "execution_count": 961,
     "metadata": {},
     "output_type": "execute_result"
    }
   ],
   "source": [
    "data['Bar'].value_counts()"
   ]
  },
  {
   "cell_type": "code",
   "execution_count": 962,
   "metadata": {},
   "outputs": [],
   "source": [
    "data[\"Bar\"]=data[\"Bar\"].str.replace(\"never\",\"0\")\n",
    "data[\"Bar\"]=data[\"Bar\"].str.replace(\"less1\",\"1\")\n",
    "data[\"Bar\"]=data[\"Bar\"].str.replace(\"1~3\",\"2\")\n",
    "data[\"Bar\"]=data[\"Bar\"].str.replace(\"4~8\",\"6\")\n",
    "data[\"Bar\"]=data[\"Bar\"].str.replace(\"gt8\",\"9\")"
   ]
  },
  {
   "cell_type": "code",
   "execution_count": 963,
   "metadata": {},
   "outputs": [],
   "source": [
    "data[\"Bar\"]=pd.to_numeric(data[\"Bar\"])"
   ]
  },
  {
   "cell_type": "markdown",
   "metadata": {},
   "source": [
    "<p>3.4. Column: CoffeHouse. It was decide to replace all by single values, most of them representing their average. So, its type can be defined as a numerical.</p"
   ]
  },
  {
   "cell_type": "code",
   "execution_count": 964,
   "metadata": {},
   "outputs": [
    {
     "data": {
      "text/plain": [
       "less1    3385\n",
       "1~3      3225\n",
       "never    2962\n",
       "4~8      1784\n",
       "gt8      1111\n",
       "Name: CoffeeHouse, dtype: int64"
      ]
     },
     "execution_count": 964,
     "metadata": {},
     "output_type": "execute_result"
    }
   ],
   "source": [
    "data['CoffeeHouse'].value_counts()"
   ]
  },
  {
   "cell_type": "code",
   "execution_count": 965,
   "metadata": {},
   "outputs": [],
   "source": [
    "data[\"CoffeeHouse\"]=data[\"CoffeeHouse\"].str.replace(\"never\",\"0\")\n",
    "data[\"CoffeeHouse\"]=data[\"CoffeeHouse\"].str.replace(\"less1\",\"1\")\n",
    "data[\"CoffeeHouse\"]=data[\"CoffeeHouse\"].str.replace(\"1~3\",\"2\")\n",
    "data[\"CoffeeHouse\"]=data[\"CoffeeHouse\"].str.replace(\"4~8\",\"6\")\n",
    "data[\"CoffeeHouse\"]=data[\"CoffeeHouse\"].str.replace(\"gt8\",\"9\")"
   ]
  },
  {
   "cell_type": "code",
   "execution_count": 966,
   "metadata": {},
   "outputs": [],
   "source": [
    "data[\"CoffeeHouse\"]=pd.to_numeric(data[\"CoffeeHouse\"])"
   ]
  },
  {
   "cell_type": "markdown",
   "metadata": {},
   "source": [
    "<p>3.5. Column: CarryAway. It was decide to replace all by single values, most of them representing their average. So, its type can be defined as a numerical.</p"
   ]
  },
  {
   "cell_type": "code",
   "execution_count": 967,
   "metadata": {},
   "outputs": [
    {
     "data": {
      "text/plain": [
       "1~3      4672\n",
       "4~8      4258\n",
       "less1    1856\n",
       "gt8      1594\n",
       "never     153\n",
       "Name: CarryAway, dtype: int64"
      ]
     },
     "execution_count": 967,
     "metadata": {},
     "output_type": "execute_result"
    }
   ],
   "source": [
    "data['CarryAway'].value_counts()"
   ]
  },
  {
   "cell_type": "code",
   "execution_count": 968,
   "metadata": {},
   "outputs": [],
   "source": [
    "data[\"CarryAway\"]=data[\"CarryAway\"].str.replace(\"never\",\"0\")\n",
    "data[\"CarryAway\"]=data[\"CarryAway\"].str.replace(\"less1\",\"1\")\n",
    "data[\"CarryAway\"]=data[\"CarryAway\"].str.replace(\"1~3\",\"2\")\n",
    "data[\"CarryAway\"]=data[\"CarryAway\"].str.replace(\"4~8\",\"6\")\n",
    "data[\"CarryAway\"]=data[\"CarryAway\"].str.replace(\"gt8\",\"9\")"
   ]
  },
  {
   "cell_type": "code",
   "execution_count": 969,
   "metadata": {},
   "outputs": [],
   "source": [
    "data[\"CarryAway\"]=pd.to_numeric(data[\"CarryAway\"])"
   ]
  },
  {
   "cell_type": "markdown",
   "metadata": {},
   "source": [
    "<p>3.6. Column: RestaurantLessThan20. It was decide to replace all by single values, most of them representing their average. So, its type can be defined as a numerical.</p"
   ]
  },
  {
   "cell_type": "code",
   "execution_count": 970,
   "metadata": {},
   "outputs": [
    {
     "data": {
      "text/plain": [
       "1~3      5376\n",
       "4~8      3580\n",
       "less1    2093\n",
       "gt8      1285\n",
       "never     220\n",
       "Name: RestaurantLessThan20, dtype: int64"
      ]
     },
     "execution_count": 970,
     "metadata": {},
     "output_type": "execute_result"
    }
   ],
   "source": [
    "data['RestaurantLessThan20'].value_counts()"
   ]
  },
  {
   "cell_type": "code",
   "execution_count": 971,
   "metadata": {},
   "outputs": [],
   "source": [
    "data[\"RestaurantLessThan20\"]=data[\"RestaurantLessThan20\"].str.replace(\"never\",\"0\")\n",
    "data[\"RestaurantLessThan20\"]=data[\"RestaurantLessThan20\"].str.replace(\"less1\",\"1\")\n",
    "data[\"RestaurantLessThan20\"]=data[\"RestaurantLessThan20\"].str.replace(\"1~3\",\"2\")\n",
    "data[\"RestaurantLessThan20\"]=data[\"RestaurantLessThan20\"].str.replace(\"4~8\",\"6\")\n",
    "data[\"RestaurantLessThan20\"]=data[\"RestaurantLessThan20\"].str.replace(\"gt8\",\"9\")"
   ]
  },
  {
   "cell_type": "code",
   "execution_count": 972,
   "metadata": {},
   "outputs": [],
   "source": [
    "data[\"RestaurantLessThan20\"]=pd.to_numeric(data[\"RestaurantLessThan20\"])"
   ]
  },
  {
   "cell_type": "markdown",
   "metadata": {},
   "source": [
    "<p>3.7. Column: Restaurant20To50. It was decide to replace all by single values, most of them representing their average. So, its type can be defined as a numerical.</p"
   ]
  },
  {
   "cell_type": "code",
   "execution_count": 973,
   "metadata": {},
   "outputs": [
    {
     "data": {
      "text/plain": [
       "less1    6077\n",
       "1~3      3290\n",
       "never    2136\n",
       "4~8       728\n",
       "gt8       264\n",
       "Name: Restaurant20To50, dtype: int64"
      ]
     },
     "execution_count": 973,
     "metadata": {},
     "output_type": "execute_result"
    }
   ],
   "source": [
    "data['Restaurant20To50'].value_counts()"
   ]
  },
  {
   "cell_type": "code",
   "execution_count": 974,
   "metadata": {},
   "outputs": [],
   "source": [
    "data[\"Restaurant20To50\"]=data[\"Restaurant20To50\"].str.replace(\"never\",\"0\")\n",
    "data[\"Restaurant20To50\"]=data[\"Restaurant20To50\"].str.replace(\"less1\",\"1\")\n",
    "data[\"Restaurant20To50\"]=data[\"Restaurant20To50\"].str.replace(\"1~3\",\"2\")\n",
    "data[\"Restaurant20To50\"]=data[\"Restaurant20To50\"].str.replace(\"4~8\",\"6\")\n",
    "data[\"Restaurant20To50\"]=data[\"Restaurant20To50\"].str.replace(\"gt8\",\"9\")"
   ]
  },
  {
   "cell_type": "code",
   "execution_count": 975,
   "metadata": {},
   "outputs": [],
   "source": [
    "data[\"Restaurant20To50\"]=pd.to_numeric(data[\"Restaurant20To50\"])"
   ]
  },
  {
   "cell_type": "markdown",
   "metadata": {},
   "source": [
    "<p>3.8. Column: Age. It was decide to replace a couple of items (\"50plus\" and \"below21\") by single values. So, its type can be defined as a numerical.</p"
   ]
  },
  {
   "cell_type": "code",
   "execution_count": 976,
   "metadata": {},
   "outputs": [
    {
     "data": {
      "text/plain": [
       "21         2653\n",
       "26         2559\n",
       "31         2039\n",
       "50plus     1788\n",
       "36         1319\n",
       "41         1093\n",
       "46          686\n",
       "below21     547\n",
       "Name: age, dtype: int64"
      ]
     },
     "execution_count": 976,
     "metadata": {},
     "output_type": "execute_result"
    }
   ],
   "source": [
    "data['age'].value_counts()"
   ]
  },
  {
   "cell_type": "code",
   "execution_count": 977,
   "metadata": {},
   "outputs": [],
   "source": [
    "data[\"age\"]=data[\"age\"].str.replace(\"50plus\",\"51\")\n",
    "data[\"age\"]=data[\"age\"].str.replace(\"below21\",\"20\")"
   ]
  },
  {
   "cell_type": "code",
   "execution_count": 978,
   "metadata": {},
   "outputs": [],
   "source": [
    "data[\"age\"]=pd.to_numeric(data[\"age\"])"
   ]
  },
  {
   "cell_type": "markdown",
   "metadata": {},
   "source": [
    "4. What proportion of the total observations chose to accept the coupon? \n",
    "\n"
   ]
  },
  {
   "cell_type": "code",
   "execution_count": 979,
   "metadata": {},
   "outputs": [
    {
     "name": "stdout",
     "output_type": "stream",
     "text": [
      "0.5684326710816777\n"
     ]
    }
   ],
   "source": [
    "ans41=(data.query(\"Y==1\")[\"Y\"].count())/len(data[\"Y\"])\n",
    "print(ans41)"
   ]
  },
  {
   "cell_type": "markdown",
   "metadata": {},
   "source": [
    "5. Use a bar plot to visualize the `coupon` column."
   ]
  },
  {
   "cell_type": "code",
   "execution_count": 443,
   "metadata": {},
   "outputs": [],
   "source": [
    "totalcoupon=data[\"coupon\"].value_counts()\n",
    "totalcoupon = totalcoupon.to_frame()\n",
    "totalcoupon.columns = ['totalcoupon1']\n",
    "totalcoupon.index.names = ['Namecoupon']\n",
    "totalcoupon['Namecoupon'] = totalcoupon.index"
   ]
  },
  {
   "cell_type": "code",
   "execution_count": 562,
   "metadata": {},
   "outputs": [
    {
     "data": {
      "text/plain": [
       "(array([0, 1, 2, 3, 4]),\n",
       " [Text(0, 0, 'Coffee House'),\n",
       "  Text(1, 0, 'Restaurant(<20)'),\n",
       "  Text(2, 0, 'Carry out & Take away'),\n",
       "  Text(3, 0, 'Bar'),\n",
       "  Text(4, 0, 'Restaurant(20-50)')])"
      ]
     },
     "execution_count": 562,
     "metadata": {},
     "output_type": "execute_result"
    },
    {
     "data": {
      "image/png": "[encoded data removed]",
      "text/plain": [
       "<Figure size 432x288 with 1 Axes>"
      ]
     },
     "metadata": {},
     "output_type": "display_data"
    }
   ],
   "source": [
    "sns.barplot(x=\"Namecoupon\", y=\"totalcoupon1\",data=totalcoupon,edgecolor=\"black\")\n",
    "plt.title('Distribution of Coupon')\n",
    "# Set x-axis label\n",
    "plt.xlabel('')\n",
    "# Set y-axis label\n",
    "plt.ylabel('Counts')\n",
    "plt.xticks(rotation = 90)"
   ]
  },
  {
   "cell_type": "markdown",
   "metadata": {},
   "source": [
    "6. Use a histogram to visualize the temperature column."
   ]
  },
  {
   "cell_type": "code",
   "execution_count": 352,
   "metadata": {},
   "outputs": [
    {
     "data": {
      "text/plain": [
       "<seaborn.axisgrid.FacetGrid at 0x7fa1cad82670>"
      ]
     },
     "execution_count": 352,
     "metadata": {},
     "output_type": "execute_result"
    },
    {
     "data": {
      "image/png": "[encoded data removed]",
      "text/plain": [
       "<Figure size 360x360 with 1 Axes>"
      ]
     },
     "metadata": {
      "needs_background": "light"
     },
     "output_type": "display_data"
    }
   ],
   "source": [
    "sns.displot(data['temperature'],kind=\"hist\",color=\"navy\")"
   ]
  },
  {
   "cell_type": "markdown",
   "metadata": {},
   "source": [
    "**Investigating the Bar Coupons**\n",
    "\n",
    "Now, we will lead you through an exploration of just the bar related coupons.  \n",
    "\n",
    "1. Create a new `DataFrame` that contains just the bar coupons.\n"
   ]
  },
  {
   "cell_type": "code",
   "execution_count": 34,
   "metadata": {},
   "outputs": [],
   "source": [
    "df1=pd.DataFrame(data.query('coupon==\"Bar\"')[\"coupon\"].values, data.query('coupon==\"Bar\"')[\"coupon\"].index,columns=[\"Bar\"])"
   ]
  },
  {
   "cell_type": "markdown",
   "metadata": {},
   "source": [
    "2. What proportion of bar coupons were accepted?\n"
   ]
  },
  {
   "cell_type": "code",
   "execution_count": 111,
   "metadata": {},
   "outputs": [
    {
     "name": "stdout",
     "output_type": "stream",
     "text": [
      "0.065200252286345\n"
     ]
    }
   ],
   "source": [
    "k=0\n",
    "for j in range(0,len(df1)):\n",
    "    if data[\"Y\"][df1.index[j]]==1:\n",
    "        k=k+1\n",
    "ans=(k/len(data[\"Y\"]))\n",
    "print(ans)"
   ]
  },
  {
   "cell_type": "markdown",
   "metadata": {},
   "source": [
    "<h4 style=\"color:red\">Answer:</h4><p> the proportion of the bar coupon accepted was only 0.0652</p>"
   ]
  },
  {
   "cell_type": "markdown",
   "metadata": {},
   "source": [
    "3. Compare the acceptance rate between those who went to a bar 3 or fewer times a month to those who went more.\n"
   ]
  },
  {
   "cell_type": "markdown",
   "metadata": {},
   "source": [
    "<p>Acceptance rate for those who went to a bar 3 or fewer times a month:</p>"
   ]
  },
  {
   "cell_type": "code",
   "execution_count": 994,
   "metadata": {},
   "outputs": [
    {
     "name": "stdout",
     "output_type": "stream",
     "text": [
      "49.83700405502107\n"
     ]
    }
   ],
   "source": [
    "ans31=((data.query(\"Bar<=2 & Y==1\")[\"Bar\"].dropna().count())/len(data[\"Bar\"].dropna()))*100\n",
    "print(ans31)"
   ]
  },
  {
   "cell_type": "markdown",
   "metadata": {},
   "source": [
    "<p>Acceptance rate for those who who went to a bar more than 3 times a month:</p>"
   ]
  },
  {
   "cell_type": "code",
   "execution_count": 995,
   "metadata": {},
   "outputs": [
    {
     "name": "stdout",
     "output_type": "stream",
     "text": [
      "7.0525562534785715\n"
     ]
    }
   ],
   "source": [
    "ans32=((data.query(\"Bar>2 & Y==1\")[\"Bar\"].dropna().count())/len(data[\"Bar\"].dropna()))*100\n",
    "print(ans32)"
   ]
  },
  {
   "cell_type": "markdown",
   "metadata": {},
   "source": [
    "<h4 style=\"color:red\">Answer:</h4><p> The acceptance rate for those who went to a bar 3 or fewer times a month is much higher with a value around 50%</p>"
   ]
  },
  {
   "cell_type": "markdown",
   "metadata": {},
   "source": [
    "4. Compare the acceptance rate between drivers who go to a bar more than once a month and are over the age of 25 to the all others.  Is there a difference?\n"
   ]
  },
  {
   "cell_type": "markdown",
   "metadata": {},
   "source": [
    "<p>Acceptance rate between drivers who go to a bar more than once a month and are over the age of 25:</p>"
   ]
  },
  {
   "cell_type": "code",
   "execution_count": 991,
   "metadata": {},
   "outputs": [
    {
     "name": "stdout",
     "output_type": "stream",
     "text": [
      "13.72346346505526\n"
     ]
    }
   ],
   "source": [
    "ans41=(data.query(\"Bar >1 & age>25 & Y==1\")[\"Bar\"].dropna().count()/len(data[\"Bar\"].dropna()))*100\n",
    "print(ans41)"
   ]
  },
  {
   "cell_type": "markdown",
   "metadata": {},
   "source": [
    "<p>Acceptance rate for all others:</p>"
   ]
  },
  {
   "cell_type": "code",
   "execution_count": 992,
   "metadata": {},
   "outputs": [
    {
     "name": "stdout",
     "output_type": "stream",
     "text": [
      "43.166096843444386\n"
     ]
    }
   ],
   "source": [
    "ans42=(data.query(\"Y==1\")[\"Bar\"].dropna().count()-data.query(\"Bar >1 & age>25 & Y==1\")[\"Bar\"].dropna().count())/len(data[\"Bar\"].dropna())*100\n",
    "print(ans42)"
   ]
  },
  {
   "cell_type": "markdown",
   "metadata": {},
   "source": [
    "<h4 style=\"color:red\">Answer:</h4><p> The acceptance rate for all others is higher with a value around 43%</p>"
   ]
  },
  {
   "cell_type": "markdown",
   "metadata": {},
   "source": [
    "5. Construct a null and alternative hypothesis for the difference between groups of drivers who go to a bar more than once a month and are over the age of 25 to all other drivers. "
   ]
  },
  {
   "cell_type": "markdown",
   "metadata": {},
   "source": [
    "<h4 style=\"color:blue\">Note:</h4><p> The acceptance rate is not used in this exercise, since it is not stated in the question</p>"
   ]
  },
  {
   "cell_type": "markdown",
   "metadata": {},
   "source": [
    " <h4 style='color:red '> Solution:</h4>\n",
    "        <p style=\"font-weight: bold\">My hypothesis is the following:<p> Null Hypothesis:</p></p> ${H}_{0} : {\\mu}_{Bar>25} - {\\mu}_{Bar}=0  $ <br>\n",
    "        <p> Alternative Hypothesis:</p><br>${H}_{1} : {\\mu}_{Bar>25} -  {\\mu}_{Bar} > 0$ <br> <p> where ${\\mu}_{Bar}$ represents the mean of all other drivers,and ${\\mu}_{Bar>25}$ represents the mean of the drivers who go to the bar more than once and are over 25</p>"
   ]
  },
  {
   "cell_type": "markdown",
   "metadata": {},
   "source": [
    "6. Using alpha at 0.05 test your hypothesis and state your conclusion."
   ]
  },
  {
   "cell_type": "markdown",
   "metadata": {},
   "source": [
    "<h4 style=\"color:red\">Solution:</h4><p>it consists on several steps as follows:</p>"
   ]
  },
  {
   "cell_type": "markdown",
   "metadata": {},
   "source": [
    "<p>Distribution of the drivers who go to the bar more than once and are over 25:</p>"
   ]
  },
  {
   "cell_type": "code",
   "execution_count": 996,
   "metadata": {},
   "outputs": [],
   "source": [
    "X61=np.random.choice(data.query(\"Bar > 1 and age>25\")[\"Bar\"].dropna(),10000)"
   ]
  },
  {
   "cell_type": "markdown",
   "metadata": {},
   "source": [
    "<p>Distribution of all other drivers:</p>"
   ]
  },
  {
   "cell_type": "code",
   "execution_count": 997,
   "metadata": {},
   "outputs": [],
   "source": [
    "data1=[]\n",
    "k=0\n",
    "for j in range(0,len(data[\"Bar\"])):\n",
    "    if (data[\"Bar\"][j]>1) & (data[\"age\"][j]>25):\n",
    "        k+=1\n",
    "    else:\n",
    "        data1.append(data[\"Bar\"][j])\n",
    "data1 = np.array(data1)\n",
    "data1 = data1[~np.isnan(data1)]\n",
    "X62=np.random.choice(data1,10000)"
   ]
  },
  {
   "cell_type": "markdown",
   "metadata": {},
   "source": [
    "<p> Generate a distribution Z which is a mixture of estimated distribution of the drivers who go to the bar more than once and are over 25 and the estimated distribution of all other drivers: </p>"
   ]
  },
  {
   "cell_type": "code",
   "execution_count": 998,
   "metadata": {},
   "outputs": [],
   "source": [
    "Z = np.hstack((X61,X62))"
   ]
  },
  {
   "cell_type": "markdown",
   "metadata": {},
   "source": [
    "<p>Estimate the mean of the difference of X61 and X62:</p>"
   ]
  },
  {
   "cell_type": "code",
   "execution_count": 999,
   "metadata": {},
   "outputs": [
    {
     "name": "stdout",
     "output_type": "stream",
     "text": [
      "2.9077\n"
     ]
    }
   ],
   "source": [
    "mean_diff = np.mean( X61 - X62)\n",
    "print(mean_diff)"
   ]
  },
  {
   "cell_type": "markdown",
   "metadata": {},
   "source": [
    "<p>Create a for loop that will randomly sample the combined data set Z to produce two random sets px and py. We’ll inspect the distribution of the mean differences between px and py:</p>"
   ]
  },
  {
   "cell_type": "code",
   "execution_count": 1000,
   "metadata": {},
   "outputs": [],
   "source": [
    "n = 4999\n",
    "diff = np.zeros((n,))\n",
    "\n",
    "for j in range(n):\n",
    "     \n",
    "    pxi = np.random.choice( np.arange(20), 10 )\n",
    "    pyi = [ i for i in np.arange(20) if i not in pxi ]\n",
    "     \n",
    "    px = np.mean( [ Z[i] for i in pxi ] )\n",
    "    py = np.mean( [ Z[i] for i in pyi ] )\n",
    "     \n",
    "    diff[j] = px - py"
   ]
  },
  {
   "cell_type": "code",
   "execution_count": 726,
   "metadata": {},
   "outputs": [
    {
     "data": {
      "text/plain": [
       "Text(5.960000000000001, 0.5, 'Frequency')"
      ]
     },
     "execution_count": 726,
     "metadata": {},
     "output_type": "execute_result"
    },
    {
     "data": {
      "image/png": "[encoded data removed]",
      "text/plain": [
       "<Figure size 360x360 with 1 Axes>"
      ]
     },
     "metadata": {},
     "output_type": "display_data"
    }
   ],
   "source": [
    "sns.displot(diff,kind=\"hist\",color=\"red\")\n",
    "plt.title('Distribution of Group Differences')\n",
    "# Set x-axis label\n",
    "plt.xlabel('Mean Difference')\n",
    "# Set y-axis label\n",
    "plt.ylabel('Frequency')"
   ]
  },
  {
   "cell_type": "markdown",
   "metadata": {},
   "source": [
    "<p>Estimation of the p-value:</p>"
   ]
  },
  {
   "cell_type": "code",
   "execution_count": 727,
   "metadata": {},
   "outputs": [
    {
     "name": "stdout",
     "output_type": "stream",
     "text": [
      "0.007001400280056011\n"
     ]
    }
   ],
   "source": [
    "p_value = len( np.where( diff >= mean_diff )[0] )/n\n",
    "print (p_value)"
   ]
  },
  {
   "cell_type": "markdown",
   "metadata": {},
   "source": [
    "<h3 style=\"color:red\">Conclusion to question 6:</h3> <h4> The p_value=0.007 is less than ${\\alpha}=0.05$ so we do reject ${H}_{0}$, i.e. the null hypothesis.</h4>"
   ]
  },
  {
   "cell_type": "markdown",
   "metadata": {},
   "source": [
    "7. Use the same process to compare the acceptance rate between drivers who go to bars more than once a month and had passengers that were not a kid and had occupations other than farming, fishing, or forestry. \n"
   ]
  },
  {
   "cell_type": "markdown",
   "metadata": {},
   "source": [
    "<h4 style=\"color:blue\">Note:</h4><p> It is understood that the comparison is between the acceptance rate of drivers who go to the bars more than once a month and had passengers that were not a kid,  and the acceptance rate of drivers who go to the bars more than once a month and had occupations other than farming, fishing, or forestry</p>"
   ]
  },
  {
   "cell_type": "markdown",
   "metadata": {},
   "source": [
    "<h4 style='color:red '> Solution:</h4><p style=\"font-weight: bold\">My hypothesis is the following:\n",
    "<p> Null Hypothesis:</p></p> ${H}_{0} : {\\delta}_{BarFFF}= {\\delta}_{BarNK} $ <br>\n",
    "<p> Alternative Hypothesis:</p><br>${H}_{1}$ : some  ${\\delta}_{BarFFF} \\neq {\\delta}_{BarNK} $ <br> <p> where ${\\delta}_{BarNK}$ represents the acceptance rate of drivers who go to the bars more than once a month and had passengers that were not a kid, ${\\delta}_{BarFFF}$ represents the acceptance rate of drivers who go to the bars more than once a month and had occupations other than farming, fishing, or forestry</p>"
   ]
  },
  {
   "cell_type": "markdown",
   "metadata": {},
   "source": [
    "<p>Acceptance rate for driver who go to the bar more than once and had passangers that were not a kid: ${\\delta}_{BarNK}= 18.311$</p>"
   ]
  },
  {
   "cell_type": "code",
   "execution_count": 1001,
   "metadata": {},
   "outputs": [
    {
     "name": "stdout",
     "output_type": "stream",
     "text": [
      "18.31120298958416\n"
     ]
    }
   ],
   "source": [
    "ans71=(data.query(\"Bar >1 & passanger!='Kid(s)' & Y==1\")[\"Bar\"].dropna().count()/len(data[\"Bar\"].dropna()))*100\n",
    "print(ans71)"
   ]
  },
  {
   "cell_type": "markdown",
   "metadata": {},
   "source": [
    "<p>Acceptance rate for driver who go to the bar more than once and had had occupations other than farming, fishing, or forestry: ${\\delta}_{BarFFF}= 19.2812$</p>"
   ]
  },
  {
   "cell_type": "code",
   "execution_count": 1002,
   "metadata": {},
   "outputs": [
    {
     "name": "stdout",
     "output_type": "stream",
     "text": [
      "19.281227637751453\n"
     ]
    }
   ],
   "source": [
    "ans72=(data.query(\"Bar >1 & occupation!='Farming Fishing & Forestry' & Y==1\")[\"Bar\"].dropna().count()/len(data[\"Bar\"].dropna()))*100\n",
    "print(ans72)"
   ]
  },
  {
   "cell_type": "code",
   "execution_count": 1003,
   "metadata": {},
   "outputs": [
    {
     "data": {
      "text/plain": [
       "0.05030927835051563"
      ]
     },
     "execution_count": 1003,
     "metadata": {},
     "output_type": "execute_result"
    }
   ],
   "source": [
    "(ans72-ans71)/ans72"
   ]
  },
  {
   "cell_type": "markdown",
   "metadata": {},
   "source": [
    "<h4 style=\"font-weight: bold;text-decoration: underline\">Observation: </h4><h5>Percentage difference:  Diff = ${\\delta}_{BarFFF}$ and $ {\\delta}_{BarNK} $ is equal to 5.03%</h5>"
   ]
  },
  {
   "cell_type": "markdown",
   "metadata": {},
   "source": [
    "<h4 style=\"color:red\">Conclusion to question 7:</h4>\n",
    "<p> using $ {\\alpha}=0.05 $, which is the equivalence of a 5%, and observing that Diff is about the same, we may tend to accept ${H}_{0}$, i.e. the null hypothesis."
   ]
  },
  {
   "cell_type": "markdown",
   "metadata": {},
   "source": [
    "8. Compare the acceptance rates between those passengers who:\n",
    "\n",
    "- go to bars more than once a month, had passengers that were not a kid, and were not widowed *OR*\n",
    "- go to bars more than once a month and are under the age of 30 *OR*\n",
    "- go to cheap restaurants more than 4 times a month and income is less than 50K. \n",
    "\n"
   ]
  },
  {
   "cell_type": "markdown",
   "metadata": {},
   "source": [
    "<p>go to bars more than once a month, had passengers that were not a kid, and were not widowed OR:</p>"
   ]
  },
  {
   "cell_type": "code",
   "execution_count": 794,
   "metadata": {},
   "outputs": [
    {
     "name": "stdout",
     "output_type": "stream",
     "text": [
      "18.15673289183223\n"
     ]
    }
   ],
   "source": [
    "ans81=(data.query(\"Bar>1 & passanger!='Kid(s)'& maritalStatus!='Widowed' & Y==1\")[\"passanger\"].count()/len(data[\"passanger\"]))*100\n",
    "print(ans81)"
   ]
  },
  {
   "cell_type": "markdown",
   "metadata": {},
   "source": [
    "<p>go to bars more than once a month and are under the age of 30 OR:</p>"
   ]
  },
  {
   "cell_type": "code",
   "execution_count": 790,
   "metadata": {},
   "outputs": [
    {
     "name": "stdout",
     "output_type": "stream",
     "text": [
      "11.250394197414066\n"
     ]
    }
   ],
   "source": [
    "ans82=(data.query(\"Bar>1 & age<30 & Y==1\")[\"passanger\"].dropna().count()/len(data[\"passanger\"]))*100\n",
    "print(ans82)"
   ]
  },
  {
   "cell_type": "markdown",
   "metadata": {},
   "source": [
    "<p>go to cheap restaurants more than 4 times a month and income is less than 50K:</p>"
   ]
  },
  {
   "cell_type": "code",
   "execution_count": 795,
   "metadata": {},
   "outputs": [
    {
     "name": "stdout",
     "output_type": "stream",
     "text": [
      "10.793125197098707\n"
     ]
    }
   ],
   "source": [
    "ans83=(data.query(\"RestaurantLessThan20>=6 & income<50000 & Y==1\")[\"passanger\"].count()/len(data[\"passanger\"]))*100\n",
    "print(ans83)"
   ]
  },
  {
   "cell_type": "markdown",
   "metadata": {},
   "source": [
    "<h4 style=\"color:red\">Answer:</h4><p> The acceptance rate is higher for the those passengers who go to bars more than once a month, had passengers that were not a kid, and were not widowed OR with acceptance rate around 18%</p>"
   ]
  },
  {
   "cell_type": "markdown",
   "metadata": {},
   "source": [
    "9.  Based on these observations, what do you hypothesize about passengers who accepted the bar coupons?"
   ]
  },
  {
   "cell_type": "markdown",
   "metadata": {},
   "source": [
    "<h4 style=\"color:red\">Answer:</h4><p> I can make a hypothesis saying that the passengers that were not a kid, and not widowed are more likely to have accepted the bar coupon.</p>"
   ]
  },
  {
   "cell_type": "markdown",
   "metadata": {},
   "source": [
    "### Independent Investigation\n",
    "\n",
    "Using the bar coupon example as motivation, you are to explore one of the other coupon groups and try to determine the characteristics of passengers who accept the coupons.  "
   ]
  },
  {
   "cell_type": "markdown",
   "metadata": {},
   "source": [
    "<h4 style=\"font-weight:bold\">Prior Observations:</h4><p>Before embarking in any further analysis, it is important to understand the data being used, in particular, if it is biased. As shown in Figure 1A, the histogram of the passengers indicates that most are under the category \" Alone\" by a wide margin. As expected, this effect is propagated through distribution of coupons accepted (Y=1) per passenger category as shown in Figure 1B, likewise for coupons not accepted (Y=0) as shown in Figure 1C. Consequently, I firmly believe that using joint probability seems the right approach to properly answer the question: Will the customer accept the coupon?. However, understanding the social, and economical situation/behaviors of the passenger who accepted or did not accept the coupons needs to be done first.</p>"
   ]
  },
  {
   "cell_type": "markdown",
   "metadata": {},
   "source": [
    "<h4 style=\"color:red\">Figure 1A: </h4><p>Distribution of the Passengers</p>"
   ]
  },
  {
   "cell_type": "code",
   "execution_count": 489,
   "metadata": {},
   "outputs": [
    {
     "data": {
      "text/plain": [
       "Text(-0.16499999999999915, 0.5, 'count')"
      ]
     },
     "execution_count": 489,
     "metadata": {},
     "output_type": "execute_result"
    },
    {
     "data": {
      "image/png": "[encoded data removed]",
      "text/plain": [
       "<Figure size 360x360 with 1 Axes>"
      ]
     },
     "metadata": {},
     "output_type": "display_data"
    }
   ],
   "source": [
    "sns.displot(data[\"passanger\"],kind=\"hist\",color=\"yellow\", edgecolor=\"black\")\n",
    "plt.title('Distribution of Passengers')\n",
    "# Set x-axis label\n",
    "plt.xlabel('passengers')\n",
    "# Set y-axis label\n",
    "plt.ylabel('count')"
   ]
  },
  {
   "cell_type": "markdown",
   "metadata": {},
   "source": [
    "<h4 style=\"color:red\">Figure 1B:</h4><p>Distribution of Coupon Accepted (Y=1) by Passenger Categories</p>"
   ]
  },
  {
   "cell_type": "code",
   "execution_count": 555,
   "metadata": {},
   "outputs": [
    {
     "data": {
      "text/plain": [
       "<matplotlib.legend.Legend at 0x7fa1cdcd9700>"
      ]
     },
     "execution_count": 555,
     "metadata": {},
     "output_type": "execute_result"
    },
    {
     "data": {
      "image/png": "[encoded data removed]",
      "text/plain": [
       "<Figure size 432x288 with 1 Axes>"
      ]
     },
     "metadata": {},
     "output_type": "display_data"
    }
   ],
   "source": [
    "sns.countplot(x=\"passanger\", data=data.query(\"Y==1\"),hue=\"coupon\",edgecolor=\"black\")\n",
    "plt.title('Distribution of Coupon Accepted (Y=1) by Passenger Categories')\n",
    "# Set x-axis label\n",
    "plt.xlabel('passengers')\n",
    "# Set y-axis label\n",
    "plt.ylabel('count')\n",
    "plt.legend(bbox_to_anchor=(1.02, 1), loc='upper left')"
   ]
  },
  {
   "cell_type": "markdown",
   "metadata": {},
   "source": [
    "<h4 style=\"color:red\">Figure 1C:</h4><p>Distribution of Coupon not Accepted (Y=0) by Passenger Categories</p>"
   ]
  },
  {
   "cell_type": "code",
   "execution_count": 586,
   "metadata": {},
   "outputs": [
    {
     "data": {
      "text/plain": [
       "<matplotlib.legend.Legend at 0x7fa1ba778af0>"
      ]
     },
     "execution_count": 586,
     "metadata": {},
     "output_type": "execute_result"
    },
    {
     "data": {
      "image/png": "[encoded data removed]",
      "text/plain": [
       "<Figure size 432x288 with 1 Axes>"
      ]
     },
     "metadata": {},
     "output_type": "display_data"
    }
   ],
   "source": [
    "sns.countplot(x=\"passanger\", data=data.query(\"Y==0\"),hue=\"coupon\",edgecolor=\"black\")\n",
    "plt.title('Distribution of Coupon Accepted (Y=0) by Passenger Categories')\n",
    "# Set x-axis label\n",
    "plt.xlabel('passengers')\n",
    "# Set y-axis label\n",
    "plt.ylabel('count')\n",
    "plt.legend(bbox_to_anchor=(1.02, 1), loc='upper left')"
   ]
  },
  {
   "cell_type": "markdown",
   "metadata": {},
   "source": [
    "<h4 style=\"color:red\">Figure 1D:</h4><p>Combine distribution of Coupon Accepted (Y=1) and not Accepted (Y=0) by Passenger Categories, and coupons</p>"
   ]
  },
  {
   "cell_type": "markdown",
   "metadata": {},
   "source": [
    "<p style=\"font-weight: bold;text-decoration: underline\">Observation: </p><p>This type of plot is very illustrative, since it is well clear that the \"Restaurant(<20)\" and \"Carry Out & Take away\" coupons are favored in term of acceptance compare to rest of coupons</p>"
   ]
  },
  {
   "cell_type": "code",
   "execution_count": 1005,
   "metadata": {},
   "outputs": [
    {
     "data": {
      "text/plain": [
       "<seaborn.axisgrid.FacetGrid at 0x7fa1cdfcbb50>"
      ]
     },
     "execution_count": 1005,
     "metadata": {},
     "output_type": "execute_result"
    },
    {
     "data": {
      "image/png": "[encoded data removed]",
      "text/plain": [
       "<Figure size 1053.73x288 with 5 Axes>"
      ]
     },
     "metadata": {},
     "output_type": "display_data"
    }
   ],
   "source": [
    "sns.catplot(x=\"passanger\", data=data,col=\"coupon\",hue=\"Y\",edgecolor=\"black\",kind=\"count\",\n",
    "                height=4, aspect=0.7,palette=sns.color_palette(['red', 'green']))"
   ]
  },
  {
   "cell_type": "markdown",
   "metadata": {},
   "source": [
    "<h4 style=\"color:red\">Figure 1E:</h4><p>Combine distribution of Coupon Accepted (Y=1) and not Accepted (Y=0) by Passenger Categories, and expiration of the coupon (2h and 24h).</p>"
   ]
  },
  {
   "cell_type": "markdown",
   "metadata": {},
   "source": [
    "<p style=\"font-weight: bold;text-decoration: underline\">Observation: </p><p>Again, type of plot is very illustrative, since it is well clear that the drivers with/without passengers accepted much more the coupons that expire in 24 hours (i.e, 1 day).</p>"
   ]
  },
  {
   "cell_type": "code",
   "execution_count": 1007,
   "metadata": {},
   "outputs": [
    {
     "data": {
      "image/png": "[encoded data removed]",
      "text/plain": [
       "<Figure size 621.725x288 with 2 Axes>"
      ]
     },
     "metadata": {},
     "output_type": "display_data"
    }
   ],
   "source": [
    " sns.catplot(x=\"passanger\", data=data,col=\"expiration\",hue=\"Y\",edgecolor=\"black\",kind=\"count\",\n",
    "                height=4, aspect=1,palette=sns.color_palette(['red', 'green']));"
   ]
  },
  {
   "cell_type": "markdown",
   "metadata": {},
   "source": [
    "<h4 style=\"color:red\">Figure 1F:</h4><p>Combine distribution of Coupon Accepted (Y=1) and not Accepted (Y=0) by Passenger Categories, and Ages.</p>"
   ]
  },
  {
   "cell_type": "markdown",
   "metadata": {},
   "source": [
    "<p style=\"font-weight: bold;text-decoration: underline\">Observation: </p><p>the catplot below indicates that drivers with /without passenger with ages of 21 and 26 are much more keen to accept the coupons</p>"
   ]
  },
  {
   "cell_type": "code",
   "execution_count": 1008,
   "metadata": {},
   "outputs": [
    {
     "data": {
      "image/png": "[encoded data removed]",
      "text/plain": [
       "<Figure size 1773.72x360 with 8 Axes>"
      ]
     },
     "metadata": {},
     "output_type": "display_data"
    }
   ],
   "source": [
    " sns.catplot(x=\"passanger\", data=data,col=\"age\",hue=\"Y\",edgecolor=\"black\",kind=\"count\",\n",
    "                height=5, aspect=0.6,palette=sns.color_palette(['red', 'green']));"
   ]
  },
  {
   "cell_type": "markdown",
   "metadata": {},
   "source": [
    "<h4 style=\"color:red\">Figure 1G:</h4><p>Combine distribution of Coupon Accepted (Y=1) and not Accepted (Y=0) by Passenger Categories, and Marital Status (2h and 24h).</p>"
   ]
  },
  {
   "cell_type": "code",
   "execution_count": 810,
   "metadata": {},
   "outputs": [
    {
     "data": {
      "image/png": "[encoded data removed]",
      "text/plain": [
       "<Figure size 1053.73x288 with 5 Axes>"
      ]
     },
     "metadata": {},
     "output_type": "display_data"
    }
   ],
   "source": [
    " sns.catplot(x=\"passanger\", data=data,col=\"maritalStatus\",hue=\"Y\",edgecolor=\"black\",kind=\"count\",\n",
    "                height=4, aspect=0.7,palette=sns.color_palette(['red', 'green']));"
   ]
  },
  {
   "cell_type": "markdown",
   "metadata": {},
   "source": [
    "<h4 style=\"color:red\">Figure 1H:</h4><p>Combine distribution of Coupon Accepted (Y=1) and not Accepted (Y=0) by Passenger Categories, and Temperatures.</p>"
   ]
  },
  {
   "cell_type": "markdown",
   "metadata": {},
   "source": [
    "<p style=\"font-weight: bold;text-decoration: underline\">Observation: </p><p>The catplot below indicates that drivers with /without passengers  are more keen to accept the coupons when temperatures are more warm</p>"
   ]
  },
  {
   "cell_type": "code",
   "execution_count": 1018,
   "metadata": {},
   "outputs": [
    {
     "data": {
      "image/png": "[encoded data removed]",
      "text/plain": [
       "<Figure size 909.725x288 with 3 Axes>"
      ]
     },
     "metadata": {},
     "output_type": "display_data"
    }
   ],
   "source": [
    " sns.catplot(x=\"passanger\", data=data,col=\"temperature\",hue=\"Y\",edgecolor=\"black\",kind=\"count\",\n",
    "                height=4, aspect=1,palette=sns.color_palette(['red', 'green']));"
   ]
  },
  {
   "cell_type": "markdown",
   "metadata": {},
   "source": [
    "<h4 style=\"color:red\">Figure 1I:</h4><p>Combine distribution of Coupon Accepted (Y=1) and not Accepted (Y=0) by Passenger Categories, and Weather.</p>"
   ]
  },
  {
   "cell_type": "markdown",
   "metadata": {},
   "source": [
    "<p style=\"font-weight: bold;text-decoration: underline\">Observation: </p><p>The catplot below indicates that drivers with /without passengers  are more than willing to accept the coupons when the day is sunny.</p>"
   ]
  },
  {
   "cell_type": "code",
   "execution_count": 1011,
   "metadata": {},
   "outputs": [
    {
     "data": {
      "image/png": "[encoded data removed]",
      "text/plain": [
       "<Figure size 909.725x288 with 3 Axes>"
      ]
     },
     "metadata": {},
     "output_type": "display_data"
    }
   ],
   "source": [
    " sns.catplot(x=\"passanger\", data=data,col=\"weather\",hue=\"Y\",edgecolor=\"black\",kind=\"count\",\n",
    "                height=4, aspect=1,palette=sns.color_palette(['red', 'green']));"
   ]
  },
  {
   "cell_type": "markdown",
   "metadata": {},
   "source": [
    "<h4 style=\"color:red\">Figure 1I:</h4><p>Combine distribution of Coupon Accepted (Y=1) and not Accepted (Y=0) by Passenger Categories, and Gender.</p>"
   ]
  },
  {
   "cell_type": "code",
   "execution_count": null,
   "metadata": {},
   "outputs": [],
   "source": [
    "<p style=\"font-weight: bold;text-decoration: underline\">Observation: </p><p>The catplot below indicates that the male drivers with /without passengers  seem to accept more the coupons than not when compare with the female drivers.</p>"
   ]
  },
  {
   "cell_type": "code",
   "execution_count": 907,
   "metadata": {},
   "outputs": [
    {
     "data": {
      "image/png": "[encoded data removed]",
      "text/plain": [
       "<Figure size 621.725x288 with 2 Axes>"
      ]
     },
     "metadata": {},
     "output_type": "display_data"
    }
   ],
   "source": [
    " sns.catplot(x=\"passanger\", data=data,col=\"gender\",hue=\"Y\",edgecolor=\"black\",kind=\"count\",\n",
    "                height=4, aspect=1,palette=sns.color_palette(['red', 'green']));"
   ]
  },
  {
   "cell_type": "markdown",
   "metadata": {},
   "source": [
    "<h3 style=\"Font:Bold\">Income ranges for different levels in the passanger column of the data DataFrame using Seaborn Boxplot:</h3>"
   ]
  },
  {
   "cell_type": "markdown",
   "metadata": {},
   "source": [
    "<h4 style=\"color:red\">Figure 2A:</h4><p>Boxplot for Income by drivers with/without passengers who did accept the coupon (Y=1)</p>"
   ]
  },
  {
   "cell_type": "code",
   "execution_count": null,
   "metadata": {},
   "outputs": [],
   "source": [
    "<p style=\"font-weight: bold;text-decoration: underline\">Observation: </p><p>The boxplot below indicates that</p>"
   ]
  },
  {
   "cell_type": "code",
   "execution_count": 1017,
   "metadata": {},
   "outputs": [
    {
     "data": {
      "image/png": "[encoded data removed]",
      "text/plain": [
       "<Figure size 720x360 with 1 Axes>"
      ]
     },
     "metadata": {},
     "output_type": "display_data"
    }
   ],
   "source": [
    "plt.figure(figsize=(10,5))\n",
    "plt.ylim(0,120000)\n",
    "sns.boxplot(x='passanger', y='income', hue=\"coupon\",data=data.query(\"Y==1\"))\n",
    "plt.title(\"Income by passengers who accepted the coupon (Y=1)\")\n",
    "# Set x-axis label\n",
    "plt.xlabel('passengers')\n",
    "# Set y-axis label\n",
    "plt.legend(bbox_to_anchor=(1.02, 1), loc='upper left')\n",
    "plt.ylabel('Income')\n",
    "plt.show()"
   ]
  },
  {
   "cell_type": "markdown",
   "metadata": {},
   "source": [
    "<h4 style=\"color:red\">Figure 2B:</h4><p>Boxplot for Income by drivers with/without passengers who did not accept the coupon (Y=0)</p>"
   ]
  },
  {
   "cell_type": "code",
   "execution_count": 1014,
   "metadata": {},
   "outputs": [
    {
     "data": {
      "image/png": "[encoded data removed]",
      "text/plain": [
       "<Figure size 720x360 with 1 Axes>"
      ]
     },
     "metadata": {},
     "output_type": "display_data"
    }
   ],
   "source": [
    "plt.figure(figsize=(10,5))\n",
    "plt.ylim(0,120000)\n",
    "sns.boxplot(x='passanger', y='income', hue=\"coupon\",data=data.query(\"Y==0\"))\n",
    "plt.title(\"Income by passengers who did not accept the coupon (Y=0)\")\n",
    "# Set x-axis label\n",
    "plt.xlabel('passengers')\n",
    "# Set y-axis label\n",
    "plt.legend(bbox_to_anchor=(1.02, 1), loc='upper left')\n",
    "plt.ylabel('Income')\n",
    "plt.show()"
   ]
  },
  {
   "cell_type": "markdown",
   "metadata": {},
   "source": [
    "<h4 style=\"color:red\">Figure 2C:</h4><p>Boxplot for Ages by drivers with/without passengers who did accept the coupon (Y=1)</p>"
   ]
  },
  {
   "cell_type": "code",
   "execution_count": 1016,
   "metadata": {},
   "outputs": [
    {
     "data": {
      "image/png": "[encoded data removed]",
      "text/plain": [
       "<Figure size 720x360 with 1 Axes>"
      ]
     },
     "metadata": {},
     "output_type": "display_data"
    }
   ],
   "source": [
    "plt.figure(figsize=(10,5))\n",
    "plt.ylim(10,60)\n",
    "sns.boxplot(x='passanger', y='age', hue=\"coupon\",data=data.query(\"Y==1\"))\n",
    "plt.title(\"age by passengers who accepted the coupon (Y=1)\")\n",
    "# Set x-axis label\n",
    "plt.xlabel('passengers')\n",
    "# Set y-axis label\n",
    "plt.legend(bbox_to_anchor=(1.02, 1), loc='upper left')\n",
    "plt.ylabel('Age')\n",
    "plt.show()"
   ]
  },
  {
   "cell_type": "markdown",
   "metadata": {},
   "source": [
    "<h4 style=\"color:red\">Figure 2D:</h4><p>Boxplot for Ages by drivers with/without passengers who did accept the coupon (Y=0)</p>"
   ]
  },
  {
   "cell_type": "code",
   "execution_count": 1015,
   "metadata": {},
   "outputs": [
    {
     "data": {
      "image/png": "[encoded data removed]",
      "text/plain": [
       "<Figure size 720x360 with 1 Axes>"
      ]
     },
     "metadata": {},
     "output_type": "display_data"
    }
   ],
   "source": [
    "plt.figure(figsize=(10,5))\n",
    "plt.ylim(10,60)\n",
    "sns.boxplot(x='passanger', y='age', hue=\"coupon\",data=data.query(\"Y==0\"))\n",
    "plt.title(\"age by passengers who accepted the coupon (Y=0)\")\n",
    "# Set x-axis label\n",
    "plt.xlabel('passengers')\n",
    "# Set y-axis label\n",
    "plt.legend(bbox_to_anchor=(1.02, 1), loc='upper left')\n",
    "plt.ylabel('Age')\n",
    "plt.show()"
   ]
  },
  {
   "cell_type": "markdown",
   "metadata": {},
   "source": [
    "<h4 style=\"color:red\">Figure 3A:</h4><p>Compare the income for the combinations of levels in the passenger who did accept the coupon (Y=1), and coupon columns using Pandas Pivot and Seaborn Heatmap</p>"
   ]
  },
  {
   "cell_type": "markdown",
   "metadata": {},
   "source": [
    "<p style=\"font-weight: bold;text-decoration: underline\">Observation: </p><p>The heatmap below clearly indicates that the driver without passengers that accepted coupons seem to earn less income as evicenced by the less intense red colors.</p>"
   ]
  },
  {
   "cell_type": "code",
   "execution_count": 799,
   "metadata": {},
   "outputs": [
    {
     "data": {
      "image/png": "[encoded data removed]",
      "text/plain": [
       "<Figure size 720x432 with 2 Axes>"
      ]
     },
     "metadata": {},
     "output_type": "display_data"
    }
   ],
   "source": [
    "def feature_interactions(df,feature1, feature2,continuous_col):\n",
    "    group = df.groupby([feature1,feature2],as_index=False)[continuous_col].mean().reset_index(drop=True)\n",
    "    pivot = group.pivot(index=feature1, columns=feature2, values=continuous_col)\n",
    "    pivot.fillna(0, inplace=True)\n",
    "    plt.figure(figsize=(10,6))\n",
    "    sns.heatmap(pivot,cmap='Reds',linewidths=2, linecolor='yellow',cbar_kws={'label': 'income'})\n",
    "    plt.show()\n",
    "\n",
    "feature_interactions(data.query(\"Y==1\"),'coupon','passanger','income')"
   ]
  },
  {
   "cell_type": "markdown",
   "metadata": {},
   "source": [
    "<h4 style=\"color:red\">Figure 3B:</h4><p>Compare the income for the combinations of levels in the passenger who did not accept the coupon (Y=0), and coupon columns using Pandas Pivot and Seaborn Heatmap</p>"
   ]
  },
  {
   "cell_type": "markdown",
   "metadata": {},
   "source": [
    "<p style=\"font-weight: bold;text-decoration: underline\">Observation: </p><p>Same aforementioned comments made on Figure 3A are applicable when coupons are not accepted.</p>"
   ]
  },
  {
   "cell_type": "code",
   "execution_count": 797,
   "metadata": {},
   "outputs": [
    {
     "data": {
      "image/png": "[encoded data removed]",
      "text/plain": [
       "<Figure size 720x432 with 2 Axes>"
      ]
     },
     "metadata": {},
     "output_type": "display_data"
    }
   ],
   "source": [
    "def feature_interactions(df,feature1, feature2,continuous_col):\n",
    "    group = df.groupby([feature1,feature2],as_index=False)[continuous_col].mean().reset_index(drop=True)\n",
    "    pivot = group.pivot(index=feature1, columns=feature2, values=continuous_col)\n",
    "    pivot.fillna(0, inplace=True)\n",
    "    plt.figure(figsize=(10,6))\n",
    "    sns.heatmap(pivot,cmap='Reds',linewidths=2, linecolor='yellow',cbar_kws={'label': 'income'})\n",
    "    plt.show()\n",
    "\n",
    "feature_interactions(data.query(\"Y==0\"),'coupon','passanger','income')"
   ]
  },
  {
   "cell_type": "markdown",
   "metadata": {},
   "source": [
    "<h3 style=\"Font:Bold\">4. Conditional Probababilities for the passanger category 'Alone' accepting and not accepting the different coupons (\"Restaurant(<20)\", \"Coffee House\",\"Carry out & Take away\",\"Bar\",\"Restaurant(20-50)\")</h3>"
   ]
  },
  {
   "cell_type": "markdown",
   "metadata": {},
   "source": [
    "<h4 style=\"color:red\">4A.</h4><p> What is the probability given that the passanger category 'Alone' accepted \"Restaurant(<20)\"\" coupon?"
   ]
  },
  {
   "cell_type": "code",
   "execution_count": 1020,
   "metadata": {},
   "outputs": [
    {
     "name": "stdout",
     "output_type": "stream",
     "text": [
      "Alone    0.125394\n",
      "Name: passanger, dtype: float64\n"
     ]
    }
   ],
   "source": [
    "Alone_passanger_1=data.query(\"passanger =='Alone'\")[\"passanger\"].value_counts()\n",
    "Alone_passanger_acceptedRestaurant20 =data.query(\"passanger =='Alone' & coupon=='Restaurant(<20)' & Y ==1\")[\"passanger\"].value_counts()\n",
    "p_Alone_passanger_acceptedRestaurant20_Alone_passanger =(Alone_passanger_acceptedRestaurant20/Alone_passanger_1)\n",
    "print(p_Alone_passanger_acceptedRestaurant20_Alone_passanger)"
   ]
  },
  {
   "cell_type": "markdown",
   "metadata": {},
   "source": [
    "<h4 style=\"color:red\">4B.</h4><p> What is the probability given that the passanger category 'Alone' did not accept \"Restaurant(<20)\"\" coupon?"
   ]
  },
  {
   "cell_type": "code",
   "execution_count": 834,
   "metadata": {},
   "outputs": [
    {
     "name": "stdout",
     "output_type": "stream",
     "text": [
      "Alone    0.071047\n",
      "Name: passanger, dtype: float64\n"
     ]
    }
   ],
   "source": [
    "Alone_passanger_1=data.query(\"passanger =='Alone'\")[\"passanger\"].value_counts()\n",
    "Alone_passanger_noacceptedRestaurant20=data.query(\"passanger =='Alone' & coupon=='Restaurant(<20)' & Y ==0\")[\"passanger\"].value_counts()\n",
    "p_Alone_passanger_noacceptedRestaurant20_Alone_passanger=(Alone_passanger_noacceptedRestaurant20/Alone_passanger_1)\n",
    "print(p_Alone_passanger_noacceptedRestaurant20_Alone_passanger)"
   ]
  },
  {
   "cell_type": "markdown",
   "metadata": {},
   "source": [
    "<h4 style=\"color:red\">4C.</h4><p> What is the probability given that the passanger category 'Alone' accepted \"Coffee House\" coupon?"
   ]
  },
  {
   "cell_type": "code",
   "execution_count": 835,
   "metadata": {},
   "outputs": [
    {
     "name": "stdout",
     "output_type": "stream",
     "text": [
      "Alone    0.13525\n",
      "Name: passanger, dtype: float64\n"
     ]
    }
   ],
   "source": [
    "Alone_passanger_1=data.query(\"passanger =='Alone'\")[\"passanger\"].value_counts()\n",
    "Alone_passanger_acceptedCoffeeHouse=data.query(\"passanger =='Alone' & coupon=='Coffee House' & Y ==1\")[\"passanger\"].value_counts()\n",
    "p_Alone_passanger_acceptedCoffeeHouse_Alone_passanger=(Alone_passanger_acceptedCoffeeHouse/Alone_passanger_1)\n",
    "print(p_Alone_passanger_acceptedCoffeeHouse_Alone_passanger)"
   ]
  },
  {
   "cell_type": "markdown",
   "metadata": {},
   "source": [
    "<h4 style=\"color:red\">4D.</h4><p> What is the probability given that the passanger category 'Alone' did not accept \"Coffee House\" coupon?"
   ]
  },
  {
   "cell_type": "code",
   "execution_count": 836,
   "metadata": {},
   "outputs": [
    {
     "name": "stdout",
     "output_type": "stream",
     "text": [
      "Alone    0.17358\n",
      "Name: passanger, dtype: float64\n"
     ]
    }
   ],
   "source": [
    "Alone_passanger_1=data.query(\"passanger =='Alone'\")[\"passanger\"].value_counts()\n",
    "Alone_passanger_noacceptedCoffeeHouse=data.query(\"passanger =='Alone' & coupon=='Coffee House' & Y ==0\")[\"passanger\"].value_counts()\n",
    "p_Alone_passanger_noacceptedCoffeeHouse_Alone_passanger=(Alone_passanger_noacceptedCoffeeHouse/Alone_passanger_1)\n",
    "print(p_Alone_passanger_noacceptedCoffeeHouse_Alone_passanger)"
   ]
  },
  {
   "cell_type": "markdown",
   "metadata": {},
   "source": [
    "<h4 style=\"color:red\">4E.</h4><p> What is the probability given that the passanger category 'Alone' accepted \"Carry out & Take away\" coupon?"
   ]
  },
  {
   "cell_type": "code",
   "execution_count": 831,
   "metadata": {},
   "outputs": [
    {
     "name": "stdout",
     "output_type": "stream",
     "text": [
      "Alone    0.139904\n",
      "Name: passanger, dtype: float64\n"
     ]
    }
   ],
   "source": [
    "Alone_passanger_1=data.query(\"passanger =='Alone'\")[\"passanger\"].value_counts()\n",
    "Alone_passanger_acceptedCarryoutTakeaway=data.query(\"passanger =='Alone' & coupon=='Carry out & Take away' & Y ==1\")[\"passanger\"].value_counts()\n",
    "p_Alone_passanger_acceptedCarryoutTakeaway_Alone_passanger=(Alone_passanger_acceptedCarryoutTakeaway/Alone_passanger_1)\n",
    "print(p_Alone_passanger_acceptedCarryoutTakeaway_Alone_passanger)"
   ]
  },
  {
   "cell_type": "markdown",
   "metadata": {},
   "source": [
    "<h4 style=\"color:red\">4F.</h4><p> What is the probability given that the passanger category 'Alone' did not accept \"Carry out & Take away\" coupon??"
   ]
  },
  {
   "cell_type": "code",
   "execution_count": 832,
   "metadata": {},
   "outputs": [
    {
     "name": "stdout",
     "output_type": "stream",
     "text": [
      "Alone    0.05243\n",
      "Name: passanger, dtype: float64\n"
     ]
    }
   ],
   "source": [
    "Alone_passanger_1=data.query(\"passanger =='Alone'\")[\"passanger\"].value_counts()\n",
    "Alone_passanger_noacceptedCarryoutTakeaway=data.query(\"passanger =='Alone' & coupon=='Carry out & Take away' & Y ==0\")[\"passanger\"].value_counts()\n",
    "p_Alone_passanger_noacceptedCarryoutTakeaway_Alone_passanger=(Alone_passanger_noacceptedCarryoutTakeaway/Alone_passanger_1)\n",
    "print(p_Alone_passanger_noacceptedCarryoutTakeaway_Alone_passanger)"
   ]
  },
  {
   "cell_type": "markdown",
   "metadata": {},
   "source": [
    "<h4 style=\"color:red\">4G.</h4><p> What is the probability given that the passanger category 'Alone' accepted \"Bar\" coupon?"
   ]
  },
  {
   "cell_type": "code",
   "execution_count": 837,
   "metadata": {},
   "outputs": [
    {
     "name": "stdout",
     "output_type": "stream",
     "text": [
      "Alone    0.06694\n",
      "Name: passanger, dtype: float64\n"
     ]
    }
   ],
   "source": [
    "Alone_passanger_1=data.query(\"passanger =='Alone'\")[\"passanger\"].value_counts()\n",
    "Alone_passanger_acceptedBar=data.query(\"passanger =='Alone' & coupon=='Bar' & Y ==1\")[\"passanger\"].value_counts()\n",
    "p_Alone_passanger_acceptedBar_Alone_passanger=(Alone_passanger_acceptedBar/Alone_passanger_1)\n",
    "print(p_Alone_passanger_acceptedBar_Alone_passanger)"
   ]
  },
  {
   "cell_type": "markdown",
   "metadata": {},
   "source": [
    "<h4 style=\"color:red\">4H.</h4><p> What is the probability given that the passanger category 'Alone' did not accept \"Bar\" coupon?"
   ]
  },
  {
   "cell_type": "code",
   "execution_count": 839,
   "metadata": {},
   "outputs": [
    {
     "name": "stdout",
     "output_type": "stream",
     "text": [
      "Alone    0.097331\n",
      "Name: passanger, dtype: float64\n"
     ]
    }
   ],
   "source": [
    "Alone_passanger_1=data.query(\"passanger =='Alone'\")[\"passanger\"].value_counts()\n",
    "Alone_passanger_acceptedBar=data.query(\"passanger =='Alone' & coupon=='Bar' & Y ==0\")[\"passanger\"].value_counts()\n",
    "p_Alone_passanger_acceptedBar_Alone_passanger=(Alone_passanger_acceptedBar/Alone_passanger_1)\n",
    "print(p_Alone_passanger_acceptedBar_Alone_passanger)"
   ]
  },
  {
   "cell_type": "markdown",
   "metadata": {},
   "source": [
    "<h4 style=\"color:red\">4I.</h4><p> What is the probability given that the passanger category 'Alone' accepted \"Restaurant(20-50)\"  coupon?"
   ]
  },
  {
   "cell_type": "code",
   "execution_count": 843,
   "metadata": {},
   "outputs": [
    {
     "name": "stdout",
     "output_type": "stream",
     "text": [
      "Alone    0.058316\n",
      "Name: passanger, dtype: float64\n"
     ]
    }
   ],
   "source": [
    "Alone_passanger_1=data.query(\"passanger =='Alone'\")[\"passanger\"].value_counts()\n",
    "Alone_passanger_acceptedRestaurant2050=data.query(\"passanger =='Alone' & coupon=='Restaurant(20-50)' & Y ==1\")[\"passanger\"].value_counts()\n",
    "p_Alone_passanger_acceptedRestaurant2050_Alone_passanger=(Alone_passanger_acceptedRestaurant2050/Alone_passanger_1)\n",
    "print(p_Alone_passanger_acceptedRestaurant2050_Alone_passanger)"
   ]
  },
  {
   "cell_type": "markdown",
   "metadata": {},
   "source": [
    "<h4 style=\"color:red\">4L.</h4><p> What is the probability given that the passanger category 'Alone' did not accept \"Restaurant(20-50)\"  coupon?"
   ]
  },
  {
   "cell_type": "code",
   "execution_count": 844,
   "metadata": {},
   "outputs": [
    {
     "name": "stdout",
     "output_type": "stream",
     "text": [
      "Alone    0.079808\n",
      "Name: passanger, dtype: float64\n"
     ]
    }
   ],
   "source": [
    "Alone_passanger_1=data.query(\"passanger =='Alone'\")[\"passanger\"].value_counts()\n",
    "Alone_passanger_noacceptedRestaurant2050=data.query(\"passanger =='Alone' & coupon=='Restaurant(20-50)' & Y ==0\")[\"passanger\"].value_counts()\n",
    "p_Alone_passanger_noacceptedRestaurant2050_Alone_passanger=(Alone_passanger_noacceptedRestaurant2050/Alone_passanger_1)\n",
    "print(p_Alone_passanger_noacceptedRestaurant2050_Alone_passanger)"
   ]
  },
  {
   "cell_type": "markdown",
   "metadata": {},
   "source": [
    "<h4 style=\"Font:Bold\">5. Conditional Probababilities for the passanger category 'Friend(s)' accepting and not accepting the different coupons (\"Restaurant(<20)\", \"Coffee House\",\"Carry out & Take away\",\"Bar\",\"Restaurant(20-50)\")</h4>"
   ]
  },
  {
   "cell_type": "markdown",
   "metadata": {},
   "source": [
    "<h4 style=\"color:red\">5A.</h4><p> What is the probability given that the passanger category 'Friend(s)' accepted \"Restaurant(<20)\" coupon?"
   ]
  },
  {
   "cell_type": "code",
   "execution_count": 846,
   "metadata": {},
   "outputs": [
    {
     "name": "stdout",
     "output_type": "stream",
     "text": [
      "Friend(s)    0.200728\n",
      "Name: passanger, dtype: float64\n"
     ]
    }
   ],
   "source": [
    "Friends_passanger_1=data.query(\"passanger =='Friend(s)'\")[\"passanger\"].value_counts()\n",
    "Friends_passanger_acceptedRestaurant20 =data.query(\"passanger =='Friend(s)' & coupon=='Restaurant(<20)' & Y ==1\")[\"passanger\"].value_counts()\n",
    "p_Friends_passanger_acceptedRestaurant20_Friends_passanger =(Friends_passanger_acceptedRestaurant20/Friends_passanger_1)\n",
    "print(p_Friends_passanger_acceptedRestaurant20_Friends_passanger)"
   ]
  },
  {
   "cell_type": "markdown",
   "metadata": {},
   "source": [
    "<h4 style=\"color:red\">5B.</h4><p> What is the probability given that the passanger category 'Friend(s)' did not accept \"Restaurant(<20)\" coupon?"
   ]
  },
  {
   "cell_type": "code",
   "execution_count": 848,
   "metadata": {},
   "outputs": [
    {
     "name": "stdout",
     "output_type": "stream",
     "text": [
      "Friend(s)    0.049727\n",
      "Name: passanger, dtype: float64\n"
     ]
    }
   ],
   "source": [
    "Friends_passanger_1=data.query(\"passanger =='Friend(s)'\")[\"passanger\"].value_counts()\n",
    "Friends_passanger_noacceptedRestaurant20 =data.query(\"passanger =='Friend(s)' & coupon=='Restaurant(<20)' & Y ==0\")[\"passanger\"].value_counts()\n",
    "p_Friends_passanger_noacceptedRestaurant20_Friends_passanger =(Friends_passanger_noacceptedRestaurant20/Friends_passanger_1)\n",
    "print(p_Friends_passanger_noacceptedRestaurant20_Friends_passanger)"
   ]
  },
  {
   "cell_type": "code",
   "execution_count": null,
   "metadata": {},
   "outputs": [],
   "source": [
    "<h4 style=\"color:red\">5C.</h4><p> What is the probability given that the passanger category 'Friend(s)' accepted \"Coffee House\" coupon?"
   ]
  },
  {
   "cell_type": "code",
   "execution_count": 849,
   "metadata": {},
   "outputs": [
    {
     "name": "stdout",
     "output_type": "stream",
     "text": [
      "Friend(s)    0.222256\n",
      "Name: passanger, dtype: float64\n"
     ]
    }
   ],
   "source": [
    "Friends_passanger_1=data.query(\"passanger =='Friend(s)'\")[\"passanger\"].value_counts()\n",
    "Friends_passanger_acceptedCoffeeHouse =data.query(\"passanger =='Friend(s)' & coupon=='Coffee House' & Y ==1\")[\"passanger\"].value_counts()\n",
    "p_Friends_passanger_acceptedCoffeeHouse_Friends_passanger =(Friends_passanger_acceptedCoffeeHouse/Friends_passanger_1)\n",
    "print(p_Friends_passanger_acceptedCoffeeHouse_Friends_passanger)"
   ]
  },
  {
   "cell_type": "markdown",
   "metadata": {},
   "source": [
    "<h4 style=\"color:red\">5D.</h4><p> What is the probability given that the passanger category 'Friend(s)' did not accept \"Coffee House\" coupon?"
   ]
  },
  {
   "cell_type": "code",
   "execution_count": 850,
   "metadata": {},
   "outputs": [
    {
     "name": "stdout",
     "output_type": "stream",
     "text": [
      "Friend(s)    0.150091\n",
      "Name: passanger, dtype: float64\n"
     ]
    }
   ],
   "source": [
    "Friends_passanger_1=data.query(\"passanger =='Friend(s)'\")[\"passanger\"].value_counts()\n",
    "Friends_passanger_noacceptedCoffeeHouse =data.query(\"passanger =='Friend(s)' & coupon=='Coffee House' & Y ==0\")[\"passanger\"].value_counts()\n",
    "p_Friends_passanger_noacceptedCoffeeHouse_Friends_passanger =(Friends_passanger_noacceptedCoffeeHouse/Friends_passanger_1)\n",
    "print(p_Friends_passanger_noacceptedCoffeeHouse_Friends_passanger)"
   ]
  },
  {
   "cell_type": "code",
   "execution_count": null,
   "metadata": {},
   "outputs": [],
   "source": [
    "<h4 style=\"color:red\">5E.</h4><p> What is the probability given that the passanger category 'Friend(s)' accepted \"Carry out & Take away\" coupon?"
   ]
  },
  {
   "cell_type": "code",
   "execution_count": 854,
   "metadata": {},
   "outputs": [
    {
     "name": "stdout",
     "output_type": "stream",
     "text": [
      "Friend(s)    0.1698\n",
      "Name: passanger, dtype: float64\n"
     ]
    }
   ],
   "source": [
    "Friends_passanger_1=data.query(\"passanger =='Friend(s)'\")[\"passanger\"].value_counts()\n",
    "Friends_passanger_acceptedCarryoutTakeaway =data.query(\"passanger =='Friend(s)' & coupon=='Carry out & Take away' & Y ==1\")[\"passanger\"].value_counts()\n",
    "p_Friends_passanger_acceptedCarryoutTakeaway_Friends_passanger =(Friends_passanger_acceptedCarryoutTakeaway/Friends_passanger_1)\n",
    "print(p_Friends_passanger_acceptedCarryoutTakeaway_Friends_passanger)"
   ]
  },
  {
   "cell_type": "markdown",
   "metadata": {},
   "source": [
    "<h4 style=\"color:red\">5F.</h4><p> What is the probability given that the passanger category 'Friend(s)' did not accept \"Carry out & Take away\" coupon?"
   ]
  },
  {
   "cell_type": "code",
   "execution_count": 855,
   "metadata": {},
   "outputs": [
    {
     "name": "stdout",
     "output_type": "stream",
     "text": [
      "Friend(s)    0.054275\n",
      "Name: passanger, dtype: float64\n"
     ]
    }
   ],
   "source": [
    "Friends_passanger_1=data.query(\"passanger =='Friend(s)'\")[\"passanger\"].value_counts()\n",
    "Friends_passanger_acceptedCarryoutTakeaway =data.query(\"passanger =='Friend(s)' & coupon=='Carry out & Take away' & Y ==0\")[\"passanger\"].value_counts()\n",
    "p_Friends_passanger_acceptedCarryoutTakeaway_Friends_passanger =(Friends_passanger_acceptedCarryoutTakeaway/Friends_passanger_1)\n",
    "print(p_Friends_passanger_acceptedCarryoutTakeaway_Friends_passanger)"
   ]
  },
  {
   "cell_type": "markdown",
   "metadata": {},
   "source": [
    "<h4 style=\"color:red\">5G.</h4><p> What is the probability given that the passanger category 'Friend(s)' accepted \"Bar\" coupon?"
   ]
  },
  {
   "cell_type": "code",
   "execution_count": 856,
   "metadata": {},
   "outputs": [
    {
     "name": "stdout",
     "output_type": "stream",
     "text": [
      "Friend(s)    0.057004\n",
      "Name: passanger, dtype: float64\n"
     ]
    }
   ],
   "source": [
    "Friends_passanger_1=data.query(\"passanger =='Friend(s)'\")[\"passanger\"].value_counts()\n",
    "Friends_passanger_acceptedBar =data.query(\"passanger =='Friend(s)' & coupon=='Bar' & Y ==1\")[\"passanger\"].value_counts()\n",
    "p_Friends_passanger_acceptedBar_Friends_passanger =(Friends_passanger_acceptedBar/Friends_passanger_1)\n",
    "print(p_Friends_passanger_acceptedBar_Friends_passanger)"
   ]
  },
  {
   "cell_type": "markdown",
   "metadata": {},
   "source": [
    "<h4 style=\"color:red\">5H.</h4><p> What is the probability given that the passanger category 'Friend(s)' did not accept \"Bar\" coupon?"
   ]
  },
  {
   "cell_type": "code",
   "execution_count": 857,
   "metadata": {},
   "outputs": [
    {
     "name": "stdout",
     "output_type": "stream",
     "text": [
      "Friend(s)    0.045179\n",
      "Name: passanger, dtype: float64\n"
     ]
    }
   ],
   "source": [
    "Friends_passanger_1=data.query(\"passanger =='Friend(s)'\")[\"passanger\"].value_counts()\n",
    "Friends_passanger_noacceptedBar =data.query(\"passanger =='Friend(s)' & coupon=='Bar' & Y ==0\")[\"passanger\"].value_counts()\n",
    "p_Friends_passanger_noacceptedBar_Friends_passanger =(Friends_passanger_noacceptedBar/Friends_passanger_1)\n",
    "print(p_Friends_passanger_noacceptedBar_Friends_passanger)"
   ]
  },
  {
   "cell_type": "markdown",
   "metadata": {},
   "source": [
    "<h4 style=\"color:red\">5I.</h4><p> What is the probability given that the passanger category 'Friend(s)' accepted \"Restaurant(20-50)\" coupon?"
   ]
  },
  {
   "cell_type": "code",
   "execution_count": 860,
   "metadata": {},
   "outputs": [
    {
     "name": "stdout",
     "output_type": "stream",
     "text": [
      "Friend(s)    0.023651\n",
      "Name: passanger, dtype: float64\n"
     ]
    }
   ],
   "source": [
    "Friends_passanger_1=data.query(\"passanger =='Friend(s)'\")[\"passanger\"].value_counts()\n",
    "Friends_passanger_acceptedRestaurant2050 =data.query(\"passanger =='Friend(s)' & coupon=='Restaurant(20-50)' & Y ==1\")[\"passanger\"].value_counts()\n",
    "p_Friends_passanger_acceptedRestaurant2050_Friends_passanger =(Friends_passanger_acceptedRestaurant2050 /Friends_passanger_1)\n",
    "print(p_Friends_passanger_acceptedRestaurant2050_Friends_passanger)"
   ]
  },
  {
   "cell_type": "markdown",
   "metadata": {},
   "source": [
    "<h4 style=\"color:red\">5L.</h4><p> What is the probability given that the passanger category 'Friend(s)' did not accept \"Restaurant(20-50)\" coupon?"
   ]
  },
  {
   "cell_type": "code",
   "execution_count": 861,
   "metadata": {},
   "outputs": [
    {
     "name": "stdout",
     "output_type": "stream",
     "text": [
      "Friend(s)    0.027289\n",
      "Name: passanger, dtype: float64\n"
     ]
    }
   ],
   "source": [
    "Friends_passanger_1=data.query(\"passanger =='Friend(s)'\")[\"passanger\"].value_counts()\n",
    "Friends_passanger_acceptedRestaurant2050 =data.query(\"passanger =='Friend(s)' & coupon=='Restaurant(20-50)' & Y ==0\")[\"passanger\"].value_counts()\n",
    "p_Friends_passanger_acceptedRestaurant2050_Friends_passanger =(Friends_passanger_acceptedRestaurant2050 /Friends_passanger_1)\n",
    "print(p_Friends_passanger_acceptedRestaurant2050_Friends_passanger)"
   ]
  },
  {
   "cell_type": "markdown",
   "metadata": {},
   "source": [
    "<h4 style=\"Font:Bold\">6. Conditional Probababilities for the passanger category 'Partner' accepting and not accepting the different coupons (\"Restaurant(<20)\", \"Coffee House\",\"Carry out & Take away\",\"Bar\",\"Restaurant(20-50)\")</h4>"
   ]
  },
  {
   "cell_type": "markdown",
   "metadata": {},
   "source": [
    "<h4 style=\"color:red\">6A.</h4><p> What is the probability given that the passanger category 'Partner' accepted \"Restaurant(<20)\" coupon?"
   ]
  },
  {
   "cell_type": "code",
   "execution_count": 869,
   "metadata": {},
   "outputs": [
    {
     "name": "stdout",
     "output_type": "stream",
     "text": [
      "Partner    0.185116\n",
      "Name: passanger, dtype: float64\n"
     ]
    }
   ],
   "source": [
    "Partner_passanger_1=data.query(\"passanger =='Partner'\")[\"passanger\"].value_counts()\n",
    "Partner_passanger_acceptedRestaurant20 =data.query(\"passanger =='Partner' & coupon=='Restaurant(<20)' & Y ==1\")[\"passanger\"].value_counts()\n",
    "p_Partner_passanger_acceptedRestaurant20_Partner_passanger =(Partner_passanger_acceptedRestaurant20/Partner_passanger_1)\n",
    "print(p_Partner_passanger_acceptedRestaurant20_Partner_passanger)"
   ]
  },
  {
   "cell_type": "markdown",
   "metadata": {},
   "source": [
    "<h4 style=\"color:red\">6B.</h4><p> What is the probability given that the passanger category 'Partner' did not accept \"Restaurant(<20)\" coupon?"
   ]
  },
  {
   "cell_type": "code",
   "execution_count": 870,
   "metadata": {},
   "outputs": [
    {
     "name": "stdout",
     "output_type": "stream",
     "text": [
      "Partner    0.054884\n",
      "Name: passanger, dtype: float64\n"
     ]
    }
   ],
   "source": [
    "Partner_passanger_1=data.query(\"passanger =='Partner'\")[\"passanger\"].value_counts()\n",
    "Partner_passanger_noacceptedRestaurant20 =data.query(\"passanger =='Partner' & coupon=='Restaurant(<20)' & Y ==0\")[\"passanger\"].value_counts()\n",
    "p_Partner_passanger_noacceptedRestaurant20_Partner_passanger =(Partner_passanger_noacceptedRestaurant20/Partner_passanger_1)\n",
    "print(p_Partner_passanger_noacceptedRestaurant20_Partner_passanger)"
   ]
  },
  {
   "cell_type": "markdown",
   "metadata": {},
   "source": [
    "<h4 style=\"color:red\">6C.</h4><p> What is the probability given that the passanger category 'Partner' accepted \"Coffee House\" coupon?"
   ]
  },
  {
   "cell_type": "code",
   "execution_count": 871,
   "metadata": {},
   "outputs": [
    {
     "name": "stdout",
     "output_type": "stream",
     "text": [
      "Partner    0.16186\n",
      "Name: passanger, dtype: float64\n"
     ]
    }
   ],
   "source": [
    "Partner_passanger_1=data.query(\"passanger =='Partner'\")[\"passanger\"].value_counts()\n",
    "Partner_passanger_acceptedCoffeeHouse =data.query(\"passanger =='Partner' & coupon=='Coffee House' & Y ==1\")[\"passanger\"].value_counts()\n",
    "p_Partner_passanger_acceptedCoffeeHouse_Partner_passanger =(Partner_passanger_acceptedCoffeeHouse/Partner_passanger_1)\n",
    "print(p_Partner_passanger_acceptedCoffeeHouse_Partner_passanger)"
   ]
  },
  {
   "cell_type": "markdown",
   "metadata": {},
   "source": [
    "<h4 style=\"color:red\">6D.</h4><p> What is the probability given that the passanger category 'Partner' did not accept \"Coffee House\" coupon?"
   ]
  },
  {
   "cell_type": "code",
   "execution_count": 872,
   "metadata": {},
   "outputs": [
    {
     "name": "stdout",
     "output_type": "stream",
     "text": [
      "Partner    0.12186\n",
      "Name: passanger, dtype: float64\n"
     ]
    }
   ],
   "source": [
    "Partner_passanger_1=data.query(\"passanger =='Partner'\")[\"passanger\"].value_counts()\n",
    "Partner_passanger_noacceptedCoffeeHouse =data.query(\"passanger =='Partner' & coupon=='Coffee House' & Y ==0\")[\"passanger\"].value_counts()\n",
    "p_Partner_passanger_noacceptedCoffeeHouse_Partner_passanger =(Partner_passanger_noacceptedCoffeeHouse/Partner_passanger_1)\n",
    "print(p_Partner_passanger_noacceptedCoffeeHouse_Partner_passanger)"
   ]
  },
  {
   "cell_type": "markdown",
   "metadata": {},
   "source": [
    "<h4 style=\"color:red\">6E.</h4><p> What is the probability given that the passanger category 'Partner' accepted \"Carry out & Take away\" coupon?"
   ]
  },
  {
   "cell_type": "code",
   "execution_count": 873,
   "metadata": {},
   "outputs": [
    {
     "name": "stdout",
     "output_type": "stream",
     "text": [
      "Partner    0.066047\n",
      "Name: passanger, dtype: float64\n"
     ]
    }
   ],
   "source": [
    "Partner_passanger_1=data.query(\"passanger =='Partner'\")[\"passanger\"].value_counts()\n",
    "Partner_passanger_acceptedCarryoutTakeaway =data.query(\"passanger =='Partner' & coupon=='Carry out & Take away' & Y ==1\")[\"passanger\"].value_counts()\n",
    "p_Partner_passanger_acceptedCarryoutTakeaway_Partner_passanger =(Partner_passanger_acceptedCarryoutTakeaway/Partner_passanger_1)\n",
    "print(p_Partner_passanger_acceptedCarryoutTakeaway_Partner_passanger)"
   ]
  },
  {
   "cell_type": "markdown",
   "metadata": {},
   "source": [
    "<h4 style=\"color:red\">6F.</h4><p> What is the probability given that the passanger category 'Partner' did not accept \"Carry out & Take away\" coupon?"
   ]
  },
  {
   "cell_type": "code",
   "execution_count": 874,
   "metadata": {},
   "outputs": [
    {
     "name": "stdout",
     "output_type": "stream",
     "text": [
      "Partner    0.024186\n",
      "Name: passanger, dtype: float64\n"
     ]
    }
   ],
   "source": [
    "Partner_passanger_1=data.query(\"passanger =='Partner'\")[\"passanger\"].value_counts()\n",
    "Partner_passanger_noacceptedCarryoutTakeaway =data.query(\"passanger =='Partner' & coupon=='Carry out & Take away' & Y ==0\")[\"passanger\"].value_counts()\n",
    "p_Partner_passanger_noacceptedCarryoutTakeaway_Partner_passanger =(Partner_passanger_noacceptedCarryoutTakeaway/Partner_passanger_1)\n",
    "print(p_Partner_passanger_noacceptedCarryoutTakeaway_Partner_passanger)"
   ]
  },
  {
   "cell_type": "code",
   "execution_count": null,
   "metadata": {},
   "outputs": [],
   "source": [
    "<h4 style=\"color:red\">6G.</h4><p> What is the probability given that the passanger category 'Partner' accepted \"Bar\" coupon?"
   ]
  },
  {
   "cell_type": "code",
   "execution_count": 875,
   "metadata": {},
   "outputs": [
    {
     "name": "stdout",
     "output_type": "stream",
     "text": [
      "Partner    0.099535\n",
      "Name: passanger, dtype: float64\n"
     ]
    }
   ],
   "source": [
    "Partner_passanger_1=data.query(\"passanger =='Partner'\")[\"passanger\"].value_counts()\n",
    "Partner_passanger_acceptedBar =data.query(\"passanger =='Partner' & coupon=='Bar' & Y ==1\")[\"passanger\"].value_counts()\n",
    "p_Partner_passanger_acceptedBar_Partner_passanger =(Partner_passanger_acceptedBar/Partner_passanger_1)\n",
    "print(p_Partner_passanger_acceptedBar_Partner_passanger)"
   ]
  },
  {
   "cell_type": "markdown",
   "metadata": {},
   "source": [
    "<h4 style=\"color:red\">6H.</h4><p> What is the probability given that the passanger category 'Partner' did not accept \"Bar\" coupon?"
   ]
  },
  {
   "cell_type": "code",
   "execution_count": 876,
   "metadata": {},
   "outputs": [
    {
     "name": "stdout",
     "output_type": "stream",
     "text": [
      "Partner    0.155349\n",
      "Name: passanger, dtype: float64\n"
     ]
    }
   ],
   "source": [
    "Partner_passanger_1=data.query(\"passanger =='Partner'\")[\"passanger\"].value_counts()\n",
    "Partner_passanger_noacceptedBar =data.query(\"passanger =='Partner' & coupon=='Bar' & Y ==0\")[\"passanger\"].value_counts()\n",
    "p_Partner_passanger_noacceptedBar_Partner_passanger =(Partner_passanger_noacceptedBar/Partner_passanger_1)\n",
    "print(p_Partner_passanger_noacceptedBar_Partner_passanger)"
   ]
  },
  {
   "cell_type": "code",
   "execution_count": null,
   "metadata": {},
   "outputs": [],
   "source": [
    "<h4 style=\"color:red\">6I.</h4><p> What is the probability given that the passanger category 'Partner' accepted \"Restaurant(20-50)\" coupon?"
   ]
  },
  {
   "cell_type": "code",
   "execution_count": 877,
   "metadata": {},
   "outputs": [
    {
     "name": "stdout",
     "output_type": "stream",
     "text": [
      "Partner    0.082791\n",
      "Name: passanger, dtype: float64\n"
     ]
    }
   ],
   "source": [
    "Partner_passanger_1=data.query(\"passanger =='Partner'\")[\"passanger\"].value_counts()\n",
    "Partner_passanger_acceptedRestaurant2050 =data.query(\"passanger =='Partner' & coupon=='Restaurant(20-50)' & Y ==1\")[\"passanger\"].value_counts()\n",
    "p_Partner_passanger_acceptedRestaurant2050_Partner_passanger =(Partner_passanger_acceptedRestaurant2050/Partner_passanger_1)\n",
    "print(p_Partner_passanger_acceptedRestaurant2050_Partner_passanger)"
   ]
  },
  {
   "cell_type": "markdown",
   "metadata": {},
   "source": [
    "<h4 style=\"color:red\">6L.</h4><p> What is the probability given that the passanger category 'Partner' did not accept \"Restaurant(20-50)\" coupon?"
   ]
  },
  {
   "cell_type": "code",
   "execution_count": 878,
   "metadata": {},
   "outputs": [
    {
     "name": "stdout",
     "output_type": "stream",
     "text": [
      "Partner    0.048372\n",
      "Name: passanger, dtype: float64\n"
     ]
    }
   ],
   "source": [
    "Partner_passanger_1=data.query(\"passanger =='Partner'\")[\"passanger\"].value_counts()\n",
    "Partner_passanger_noacceptedRestaurant2050 =data.query(\"passanger =='Partner' & coupon=='Restaurant(20-50)' & Y ==0\")[\"passanger\"].value_counts()\n",
    "p_Partner_passanger_noacceptedRestaurant2050_Partner_passanger =(Partner_passanger_noacceptedRestaurant2050/Partner_passanger_1)\n",
    "print(p_Partner_passanger_noacceptedRestaurant2050_Partner_passanger)"
   ]
  },
  {
   "cell_type": "code",
   "execution_count": null,
   "metadata": {},
   "outputs": [],
   "source": [
    "<h4 style=\"Font:Bold\">7. Conditional Probababilities for the passanger category 'Kid(s)' accepting and not accepting the different coupons (\"Restaurant(<20)\", \"Coffee House\",\"Carry out & Take away\",\"Bar\",\"Restaurant(20-50)\")</h4>"
   ]
  },
  {
   "cell_type": "markdown",
   "metadata": {},
   "source": [
    "<h4 style=\"color:red\">7A.</h4><p> What is the probability given that the passanger category 'Kid(s)' accepted \"Restaurant(<20)\" coupon?"
   ]
  },
  {
   "cell_type": "code",
   "execution_count": 879,
   "metadata": {},
   "outputs": [
    {
     "name": "stdout",
     "output_type": "stream",
     "text": [
      "Kid(s)    0.191849\n",
      "Name: passanger, dtype: float64\n"
     ]
    }
   ],
   "source": [
    "Kids_passanger_1=data.query(\"passanger =='Kid(s)'\")[\"passanger\"].value_counts()\n",
    "Kids_passanger_acceptedRestaurant20 =data.query(\"passanger =='Kid(s)' & coupon=='Restaurant(<20)' & Y ==1\")[\"passanger\"].value_counts()\n",
    "p_Kids_passanger_acceptedRestaurant20_Kids_passanger =(Kids_passanger_acceptedRestaurant20/Kids_passanger_1)\n",
    "print(p_Kids_passanger_acceptedRestaurant20_Kids_passanger)"
   ]
  },
  {
   "cell_type": "markdown",
   "metadata": {},
   "source": [
    "<h4 style=\"color:red\">7B.</h4><p> What is the probability given that the passanger category 'Kid(s)' did not accept \"Restaurant(<20)\" coupon?"
   ]
  },
  {
   "cell_type": "code",
   "execution_count": 880,
   "metadata": {},
   "outputs": [
    {
     "name": "stdout",
     "output_type": "stream",
     "text": [
      "Kid(s)    0.073559\n",
      "Name: passanger, dtype: float64\n"
     ]
    }
   ],
   "source": [
    "Kids_passanger_1=data.query(\"passanger =='Kid(s)'\")[\"passanger\"].value_counts()\n",
    "Kids_passanger_noacceptedRestaurant20 =data.query(\"passanger =='Kid(s)' & coupon=='Restaurant(<20)' & Y ==0\")[\"passanger\"].value_counts()\n",
    "p_Kids_passanger_noacceptedRestaurant20_Kids_passanger =(Kids_passanger_noacceptedRestaurant20/Kids_passanger_1)\n",
    "print(p_Kids_passanger_noacceptedRestaurant20_Kids_passanger)"
   ]
  },
  {
   "cell_type": "markdown",
   "metadata": {},
   "source": [
    "<h4 style=\"color:red\">7C.</h4><p> What is the probability given that the passanger category 'Kid(s)' accepted \"Coffee House\" coupon?"
   ]
  },
  {
   "cell_type": "code",
   "execution_count": 881,
   "metadata": {},
   "outputs": [
    {
     "name": "stdout",
     "output_type": "stream",
     "text": [
      "Kid(s)    0.099404\n",
      "Name: passanger, dtype: float64\n"
     ]
    }
   ],
   "source": [
    "Kids_passanger_1=data.query(\"passanger =='Kid(s)'\")[\"passanger\"].value_counts()\n",
    "Kids_passanger_acceptedCoffeeHouse =data.query(\"passanger =='Kid(s)' & coupon=='Coffee House' & Y ==1\")[\"passanger\"].value_counts()\n",
    "p_Kids_passanger_acceptedCoffeeHouse_Kids_passanger =(Kids_passanger_acceptedCoffeeHouse/Kids_passanger_1)\n",
    "print(p_Kids_passanger_acceptedCoffeeHouse_Kids_passanger)"
   ]
  },
  {
   "cell_type": "markdown",
   "metadata": {},
   "source": [
    "<h4 style=\"color:red\">7D.</h4><p> What is the probability given that the passanger category 'Kid(s)' did not accept \"Coffee House\" coupon?"
   ]
  },
  {
   "cell_type": "code",
   "execution_count": 882,
   "metadata": {},
   "outputs": [
    {
     "name": "stdout",
     "output_type": "stream",
     "text": [
      "Kid(s)    0.106362\n",
      "Name: passanger, dtype: float64\n"
     ]
    }
   ],
   "source": [
    "Kids_passanger_1=data.query(\"passanger =='Kid(s)'\")[\"passanger\"].value_counts()\n",
    "Kids_passanger_noacceptedCoffeeHouse =data.query(\"passanger =='Kid(s)' & coupon=='Coffee House' & Y ==0\")[\"passanger\"].value_counts()\n",
    "p_Kids_passanger_noacceptedCoffeeHouse_Kids_passanger =(Kids_passanger_noacceptedCoffeeHouse/Kids_passanger_1)\n",
    "print(p_Kids_passanger_noacceptedCoffeeHouse_Kids_passanger)"
   ]
  },
  {
   "cell_type": "markdown",
   "metadata": {},
   "source": [
    "<h4 style=\"color:red\">7E.</h4><p> What is the probability given that the passanger category 'Kid(s)' accepted \"Carry out & Take away\" coupon?"
   ]
  },
  {
   "cell_type": "code",
   "execution_count": 883,
   "metadata": {},
   "outputs": [
    {
     "name": "stdout",
     "output_type": "stream",
     "text": [
      "Kid(s)    0.106362\n",
      "Name: passanger, dtype: float64\n"
     ]
    }
   ],
   "source": [
    "Kids_passanger_1=data.query(\"passanger =='Kid(s)'\")[\"passanger\"].value_counts()\n",
    "Kids_passanger_acceptedCarryoutTakeaway =data.query(\"passanger =='Kid(s)' & coupon=='Carry out & Take away' & Y ==1\")[\"passanger\"].value_counts()\n",
    "p_Kids_passanger_acceptedCarryoutTakeaway_Kids_passanger =(Kids_passanger_acceptedCarryoutTakeaway/Kids_passanger_1)\n",
    "print(p_Kids_passanger_acceptedCarryoutTakeaway_Kids_passanger)"
   ]
  },
  {
   "cell_type": "markdown",
   "metadata": {},
   "source": [
    "<h4 style=\"color:red\">7F.</h4><p> What is the probability given that the passanger category 'Kid(s)' did not accept \"Carry out & Take away\" coupon?"
   ]
  },
  {
   "cell_type": "code",
   "execution_count": 884,
   "metadata": {},
   "outputs": [
    {
     "name": "stdout",
     "output_type": "stream",
     "text": [
      "Kid(s)    0.044732\n",
      "Name: passanger, dtype: float64\n"
     ]
    }
   ],
   "source": [
    "Kids_passanger_1=data.query(\"passanger =='Kid(s)'\")[\"passanger\"].value_counts()\n",
    "Kids_passanger_noacceptedCarryoutTakeaway =data.query(\"passanger =='Kid(s)' & coupon=='Carry out & Take away' & Y ==0\")[\"passanger\"].value_counts()\n",
    "p_Kids_passanger_noacceptedCarryoutTakeaway_Kids_passanger =(Kids_passanger_noacceptedCarryoutTakeaway/Kids_passanger_1)\n",
    "print(p_Kids_passanger_noacceptedCarryoutTakeaway_Kids_passanger)"
   ]
  },
  {
   "cell_type": "code",
   "execution_count": null,
   "metadata": {},
   "outputs": [],
   "source": [
    "<h4 style=\"color:red\">7G.</h4><p> What is the probability given that the passanger category 'Kid(s)' acccepted \"Bar\" coupon?"
   ]
  },
  {
   "cell_type": "code",
   "execution_count": 885,
   "metadata": {},
   "outputs": [
    {
     "name": "stdout",
     "output_type": "stream",
     "text": [
      "Kid(s)    0.042744\n",
      "Name: passanger, dtype: float64\n"
     ]
    }
   ],
   "source": [
    "Kids_passanger_1=data.query(\"passanger =='Kid(s)'\")[\"passanger\"].value_counts()\n",
    "Kids_passanger_acceptedBar =data.query(\"passanger =='Kid(s)' & coupon=='Bar' & Y ==1\")[\"passanger\"].value_counts()\n",
    "p_Kids_passanger_acceptedBar_Kids_passanger =(Kids_passanger_acceptedBar/Kids_passanger_1)\n",
    "print(p_Kids_passanger_acceptedBar_Kids_passanger)"
   ]
  },
  {
   "cell_type": "code",
   "execution_count": null,
   "metadata": {},
   "outputs": [],
   "source": [
    "<h4 style=\"color:red\">7H.</h4><p> What is the probability given that the passanger category 'Kid(s)' did not acccept \"Bar\" coupon?"
   ]
  },
  {
   "cell_type": "code",
   "execution_count": 886,
   "metadata": {},
   "outputs": [
    {
     "name": "stdout",
     "output_type": "stream",
     "text": [
      "Kid(s)    0.162028\n",
      "Name: passanger, dtype: float64\n"
     ]
    }
   ],
   "source": [
    "Kids_passanger_1=data.query(\"passanger =='Kid(s)'\")[\"passanger\"].value_counts()\n",
    "Kids_passanger_noacceptedBar =data.query(\"passanger =='Kid(s)' & coupon=='Bar' & Y ==0\")[\"passanger\"].value_counts()\n",
    "p_Kids_passanger_noacceptedBar_Kids_passanger =(Kids_passanger_noacceptedBar/Kids_passanger_1)\n",
    "print(p_Kids_passanger_noacceptedBar_Kids_passanger)"
   ]
  },
  {
   "cell_type": "markdown",
   "metadata": {},
   "source": [
    "<h4 style=\"color:red\">7I.</h4><p> What is the probability given that the passanger category 'Kid(s)' accepted \"Restaurant(20-50)\" coupon?"
   ]
  },
  {
   "cell_type": "code",
   "execution_count": 887,
   "metadata": {},
   "outputs": [
    {
     "name": "stdout",
     "output_type": "stream",
     "text": [
      "Kid(s)    0.064612\n",
      "Name: passanger, dtype: float64\n"
     ]
    }
   ],
   "source": [
    "Kids_passanger_1=data.query(\"passanger =='Kid(s)'\")[\"passanger\"].value_counts()\n",
    "Kids_passanger_acceptedRestaurant2050 =data.query(\"passanger =='Kid(s)' & coupon=='Restaurant(20-50)' & Y ==1\")[\"passanger\"].value_counts()\n",
    "p_Kids_passanger_acceptedRestaurant2050_Kids_passanger =(Kids_passanger_acceptedRestaurant2050/Kids_passanger_1)\n",
    "print(p_Kids_passanger_acceptedRestaurant2050_Kids_passanger)"
   ]
  },
  {
   "cell_type": "markdown",
   "metadata": {},
   "source": [
    "<h4 style=\"color:red\">7L.</h4><p> What is the probability given that the passanger category 'Kid(s)' did not accept \"Restaurant(20-50)\" coupon?"
   ]
  },
  {
   "cell_type": "code",
   "execution_count": 899,
   "metadata": {},
   "outputs": [
    {
     "name": "stdout",
     "output_type": "stream",
     "text": [
      "Kid(s)    0.10835\n",
      "Name: passanger, dtype: float64\n"
     ]
    }
   ],
   "source": [
    "Kids_passanger_1=data.query(\"passanger =='Kid(s)'\")[\"passanger\"].value_counts()\n",
    "Kids_passanger_noacceptedRestaurant2050 =data.query(\"passanger =='Kid(s)' & coupon=='Restaurant(20-50)' & Y ==0\")[\"passanger\"].value_counts()\n",
    "p_Kids_passanger_noacceptedRestaurant2050_Kids_passanger =(Kids_passanger_noacceptedRestaurant2050/Kids_passanger_1)\n",
    "print(p_Kids_passanger_noacceptedRestaurant2050_Kids_passanger)"
   ]
  },
  {
   "cell_type": "markdown",
   "metadata": {},
   "source": [
    "<h4 style=\"Font:Bold\">8. Conditional Probababilities for the all passanger categories  accepting and not accepting the  coupons (Y=1 or Y=0) on different Weather Conditions</h4>"
   ]
  },
  {
   "cell_type": "code",
   "execution_count": 894,
   "metadata": {},
   "outputs": [
    {
     "name": "stdout",
     "output_type": "stream",
     "text": [
      "0.47216966256701354\n"
     ]
    }
   ],
   "source": [
    "passanger_1=data[\"passanger\"].count()\n",
    "passanger_acceptedSunny =data.query(\"weather =='Sunny' & Y ==1\")[\"passanger\"].count()\n",
    "passanger_acceptedSunny__passanger =(passanger_acceptedSunny/passanger_1)\n",
    "print(passanger_acceptedSunny__passanger)"
   ]
  },
  {
   "cell_type": "code",
   "execution_count": 897,
   "metadata": {},
   "outputs": [
    {
     "name": "stdout",
     "output_type": "stream",
     "text": [
      "0.3216650898770104\n"
     ]
    }
   ],
   "source": [
    "passanger_1=data[\"passanger\"].count()\n",
    "passanger_acceptedSunny =data.query(\"weather =='Sunny' & Y ==0\")[\"passanger\"].count()\n",
    "passanger_acceptedSunny__passanger =(passanger_acceptedSunny/passanger_1)\n",
    "print(passanger_acceptedSunny__passanger)"
   ]
  },
  {
   "cell_type": "code",
   "execution_count": 900,
   "metadata": {},
   "outputs": [
    {
     "name": "stdout",
     "output_type": "stream",
     "text": [
      "0.05211289813938821\n"
     ]
    }
   ],
   "source": [
    "passanger_1=data[\"passanger\"].count()\n",
    "passanger_acceptedSunny =data.query(\"weather =='Snowy' & Y ==1\")[\"passanger\"].count()\n",
    "passanger_acceptedSunny__passanger =(passanger_acceptedSunny/passanger_1)\n",
    "print(passanger_acceptedSunny__passanger)"
   ]
  },
  {
   "cell_type": "code",
   "execution_count": 901,
   "metadata": {},
   "outputs": [
    {
     "name": "stdout",
     "output_type": "stream",
     "text": [
      "0.0586565752128666\n"
     ]
    }
   ],
   "source": [
    "passanger_1=data[\"passanger\"].count()\n",
    "passanger_acceptedSunny =data.query(\"weather =='Snowy' & Y ==0\")[\"passanger\"].count()\n",
    "passanger_acceptedSunny__passanger =(passanger_acceptedSunny/passanger_1)\n",
    "print(passanger_acceptedSunny__passanger)"
   ]
  },
  {
   "cell_type": "code",
   "execution_count": 902,
   "metadata": {},
   "outputs": [
    {
     "name": "stdout",
     "output_type": "stream",
     "text": [
      "0.04415011037527594\n"
     ]
    }
   ],
   "source": [
    "passanger_1=data[\"passanger\"].count()\n",
    "passanger_acceptedSunny =data.query(\"weather =='Rainy' & Y ==1\")[\"passanger\"].count()\n",
    "passanger_acceptedSunny__passanger =(passanger_acceptedSunny/passanger_1)\n",
    "print(passanger_acceptedSunny__passanger)"
   ]
  },
  {
   "cell_type": "code",
   "execution_count": 903,
   "metadata": {},
   "outputs": [
    {
     "name": "stdout",
     "output_type": "stream",
     "text": [
      "0.05124566382844529\n"
     ]
    }
   ],
   "source": [
    "passanger_1=data[\"passanger\"].count()\n",
    "passanger_acceptedSunny =data.query(\"weather =='Rainy' & Y ==0\")[\"passanger\"].count()\n",
    "passanger_acceptedSunny__passanger =(passanger_acceptedSunny/passanger_1)\n",
    "print(passanger_acceptedSunny__passanger)"
   ]
  },
  {
   "cell_type": "code",
   "execution_count": 905,
   "metadata": {},
   "outputs": [
    {
     "name": "stdout",
     "output_type": "stream",
     "text": [
      "0.28090507726269315\n"
     ]
    }
   ],
   "source": [
    "passanger_1=data[\"passanger\"].count()\n",
    "passanger_acceptedSunny =data.query(\"gender =='Female' & Y ==1\")[\"passanger\"].count()\n",
    "passanger_acceptedSunny__passanger =(passanger_acceptedSunny/passanger_1)\n",
    "print(passanger_acceptedSunny__passanger)"
   ]
  },
  {
   "cell_type": "code",
   "execution_count": 906,
   "metadata": {},
   "outputs": [
    {
     "name": "stdout",
     "output_type": "stream",
     "text": [
      "0.2875275938189846\n"
     ]
    }
   ],
   "source": [
    "passanger_1=data[\"passanger\"].count()\n",
    "passanger_acceptedSunny =data.query(\"gender =='Male' & Y ==1\")[\"passanger\"].count()\n",
    "passanger_acceptedSunny__passanger =(passanger_acceptedSunny/passanger_1)\n",
    "print(passanger_acceptedSunny__passanger)"
   ]
  },
  {
   "cell_type": "code",
   "execution_count": null,
   "metadata": {},
   "outputs": [],
   "source": []
  }
 ],
 "metadata": {
  "kernelspec": {
   "display_name": "Python 3 (ipykernel)",
   "language": "python",
   "name": "python3"
  },
  "language_info": {
   "codemirror_mode": {
    "name": "ipython",
    "version": 3
   },
   "file_extension": ".py",
   "mimetype": "text/x-python",
   "name": "python",
   "nbconvert_exporter": "python",
   "pygments_lexer": "ipython3",
   "version": "3.9.7"
  },
  "widgets": {
   "application/vnd.jupyter.widget-state+json": {
    "state": {},
    "version_major": 2,
    "version_minor": 0
   }
  }
 },
 "nbformat": 4,
 "nbformat_minor": 4
}
